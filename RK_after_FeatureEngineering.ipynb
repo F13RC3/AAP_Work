{
 "cells": [
  {
   "cell_type": "code",
   "execution_count": 1,
   "metadata": {
    "ExecuteTime": {
     "end_time": "2019-02-18T06:07:14.933345Z",
     "start_time": "2019-02-18T06:06:55.234192Z"
    }
   },
   "outputs": [],
   "source": [
    "from scipy.spatial.distance import mahalanobis\n",
    "import scipy as sp\n",
    "import pandas as pd\n",
    "import dill\n",
    "import numpy as np\n",
    "import matplotlib.pyplot as plt\n",
    "from sklearn import linear_model\n",
    "import statsmodels.api as sm\n",
    "import seaborn as sns\n",
    "# dill.dump_session('RKAFE.db')\n",
    "dill.load_session('RKAFE.db')"
   ]
  },
  {
   "cell_type": "code",
   "execution_count": 3,
   "metadata": {
    "ExecuteTime": {
     "end_time": "2019-02-05T11:54:36.595023Z",
     "start_time": "2019-02-05T11:54:36.545717Z"
    }
   },
   "outputs": [
    {
     "data": {
      "text/html": [
       "<div>\n",
       "<style scoped>\n",
       "    .dataframe tbody tr th:only-of-type {\n",
       "        vertical-align: middle;\n",
       "    }\n",
       "\n",
       "    .dataframe tbody tr th {\n",
       "        vertical-align: top;\n",
       "    }\n",
       "\n",
       "    .dataframe thead th {\n",
       "        text-align: right;\n",
       "    }\n",
       "</style>\n",
       "<table border=\"1\" class=\"dataframe\">\n",
       "  <thead>\n",
       "    <tr style=\"text-align: right;\">\n",
       "      <th></th>\n",
       "      <th>Locality</th>\n",
       "      <th>partno1</th>\n",
       "      <th>Male</th>\n",
       "      <th>Female</th>\n",
       "      <th>Coffee.shops</th>\n",
       "      <th>Salon</th>\n",
       "      <th>buy</th>\n",
       "      <th>rent</th>\n",
       "      <th>yf_LH</th>\n",
       "      <th>ratio</th>\n",
       "      <th>m_dist</th>\n",
       "      <th>r_dist</th>\n",
       "    </tr>\n",
       "  </thead>\n",
       "  <tbody>\n",
       "    <tr>\n",
       "      <th>0</th>\n",
       "      <td>Munirka DDA flats</td>\n",
       "      <td>156</td>\n",
       "      <td>394</td>\n",
       "      <td>400</td>\n",
       "      <td>4</td>\n",
       "      <td>2</td>\n",
       "      <td>12000</td>\n",
       "      <td>27.0</td>\n",
       "      <td>25.250000</td>\n",
       "      <td>1.015228</td>\n",
       "      <td>0.28</td>\n",
       "      <td>0.28</td>\n",
       "    </tr>\n",
       "    <tr>\n",
       "      <th>1</th>\n",
       "      <td>Munirka DDA flats</td>\n",
       "      <td>152</td>\n",
       "      <td>428</td>\n",
       "      <td>437</td>\n",
       "      <td>4</td>\n",
       "      <td>2</td>\n",
       "      <td>12000</td>\n",
       "      <td>27.0</td>\n",
       "      <td>23.340961</td>\n",
       "      <td>1.021028</td>\n",
       "      <td>0.28</td>\n",
       "      <td>0.28</td>\n",
       "    </tr>\n",
       "    <tr>\n",
       "      <th>2</th>\n",
       "      <td>Munirka DDA flats</td>\n",
       "      <td>155</td>\n",
       "      <td>481</td>\n",
       "      <td>482</td>\n",
       "      <td>4</td>\n",
       "      <td>2</td>\n",
       "      <td>12000</td>\n",
       "      <td>27.0</td>\n",
       "      <td>21.161826</td>\n",
       "      <td>1.002079</td>\n",
       "      <td>0.28</td>\n",
       "      <td>0.28</td>\n",
       "    </tr>\n",
       "    <tr>\n",
       "      <th>3</th>\n",
       "      <td>Munirka DDA flats</td>\n",
       "      <td>153</td>\n",
       "      <td>415</td>\n",
       "      <td>459</td>\n",
       "      <td>4</td>\n",
       "      <td>2</td>\n",
       "      <td>12000</td>\n",
       "      <td>27.0</td>\n",
       "      <td>23.747277</td>\n",
       "      <td>1.106024</td>\n",
       "      <td>0.28</td>\n",
       "      <td>0.28</td>\n",
       "    </tr>\n",
       "    <tr>\n",
       "      <th>4</th>\n",
       "      <td>Munirka DDA flats</td>\n",
       "      <td>154</td>\n",
       "      <td>471</td>\n",
       "      <td>528</td>\n",
       "      <td>4</td>\n",
       "      <td>2</td>\n",
       "      <td>12000</td>\n",
       "      <td>27.0</td>\n",
       "      <td>25.568182</td>\n",
       "      <td>1.121019</td>\n",
       "      <td>0.28</td>\n",
       "      <td>0.28</td>\n",
       "    </tr>\n",
       "  </tbody>\n",
       "</table>\n",
       "</div>"
      ],
      "text/plain": [
       "            Locality  partno1  Male  Female  Coffee.shops  Salon    buy  rent  \\\n",
       "0  Munirka DDA flats      156   394     400             4      2  12000  27.0   \n",
       "1  Munirka DDA flats      152   428     437             4      2  12000  27.0   \n",
       "2  Munirka DDA flats      155   481     482             4      2  12000  27.0   \n",
       "3  Munirka DDA flats      153   415     459             4      2  12000  27.0   \n",
       "4  Munirka DDA flats      154   471     528             4      2  12000  27.0   \n",
       "\n",
       "       yf_LH     ratio  m_dist  r_dist  \n",
       "0  25.250000  1.015228    0.28    0.28  \n",
       "1  23.340961  1.021028    0.28    0.28  \n",
       "2  21.161826  1.002079    0.28    0.28  \n",
       "3  23.747277  1.106024    0.28    0.28  \n",
       "4  25.568182  1.121019    0.28    0.28  "
      ]
     },
     "execution_count": 3,
     "metadata": {},
     "output_type": "execute_result"
    }
   ],
   "source": [
    "df = pd.read_csv('rkp511.csv')\n",
    "df.head()"
   ]
  },
  {
   "cell_type": "code",
   "execution_count": 2,
   "metadata": {
    "ExecuteTime": {
     "end_time": "2019-02-06T06:01:40.414965Z",
     "start_time": "2019-02-06T06:01:40.093724Z"
    }
   },
   "outputs": [
    {
     "name": "stdout",
     "output_type": "stream",
     "text": [
      "No of Backward class : 34,\n",
      "No of Middle class : 21 &\n",
      "No of Upper class families : 37\n"
     ]
    }
   ],
   "source": [
    "b_class = np.sum((df['r_dist'] < -1).values.ravel())\n",
    "u_class = np.sum((df['r_dist'] > 1).values.ravel())\n",
    "m_class = df['r_dist'].count() - (b_class + u_class)\n",
    "print('No of Backward class : {},\\nNo of Middle class : {} &\\nNo of Upper class families : {}'\n",
    "      .format(b_class, m_class, u_class))"
   ]
  },
  {
   "cell_type": "code",
   "execution_count": 2,
   "metadata": {
    "ExecuteTime": {
     "end_time": "2019-02-14T13:33:32.628914Z",
     "start_time": "2019-02-14T13:33:31.704122Z"
    }
   },
   "outputs": [
    {
     "data": {
      "image/png": "[encoded data removed]",
      "text/plain": [
       "<Figure size 864x432 with 1 Axes>"
      ]
     },
     "metadata": {
      "needs_background": "light"
     },
     "output_type": "display_data"
    }
   ],
   "source": [
    "plt.figure(figsize=(12, 6))\n",
    "plt.xlabel('Female to male ratio')\n",
    "plt.ylabel('Young Female Likelihood')\n",
    "\n",
    "plt.scatter(df['ratio'], df['yf_LH'])\n",
    "\n",
    "#inferences about below graph\n",
    "# young female likelihood decreases as female ratio increases\n",
    "plt.savefig('yf_lh-ratio.png')"
   ]
  },
  {
   "cell_type": "code",
   "execution_count": 10,
   "metadata": {
    "ExecuteTime": {
     "end_time": "2019-02-06T06:06:16.265191Z",
     "start_time": "2019-02-06T06:06:16.243995Z"
    }
   },
   "outputs": [],
   "source": [
    "labels = ['B_class', 'M_class', 'U_class']\n",
    "bins = [-20, -1, 1, 20]\n",
    "df['Class'] = pd.cut(df['r_dist'], bins, labels = labels)"
   ]
  },
  {
   "cell_type": "code",
   "execution_count": 45,
   "metadata": {
    "ExecuteTime": {
     "end_time": "2019-02-07T10:54:33.490399Z",
     "start_time": "2019-02-07T10:54:33.081280Z"
    }
   },
   "outputs": [
    {
     "data": {
      "image/png": "[encoded data removed]",
      "text/plain": [
       "<Figure size 432x288 with 1 Axes>"
      ]
     },
     "metadata": {
      "needs_background": "light"
     },
     "output_type": "display_data"
    }
   ],
   "source": [
    "sns.countplot(df['Class'])\n",
    "# inference about below graph\n",
    "# there are more upper class in rk puram constitution \n",
    "# there are lesser areas near centroid compared to farther areas from the centroid\n"
   ]
  },
  {
   "cell_type": "code",
   "execution_count": 2,
   "metadata": {
    "ExecuteTime": {
     "end_time": "2019-02-09T10:36:44.906805Z",
     "start_time": "2019-02-09T10:36:44.800982Z"
    }
   },
   "outputs": [],
   "source": [
    "labels = ['Low_ratio', 'Fair_ratio', 'High_ratio']\n",
    "bins = [0, 0.6, 1.0, 2.0]\n",
    "df['F2M_cat'] = pd.cut(df['ratio'], bins, labels = labels)"
   ]
  },
  {
   "cell_type": "markdown",
   "metadata": {},
   "source": [
    "# Analysis below about female ratio according to different classes of society"
   ]
  },
  {
   "cell_type": "code",
   "execution_count": 44,
   "metadata": {
    "ExecuteTime": {
     "end_time": "2019-02-07T10:51:37.621081Z",
     "start_time": "2019-02-07T10:51:36.995337Z"
    }
   },
   "outputs": [
    {
     "data": {
      "image/png": "[encoded data removed]",
      "text/plain": [
       "<Figure size 432x288 with 1 Axes>"
      ]
     },
     "metadata": {
      "needs_background": "light"
     },
     "output_type": "display_data"
    }
   ],
   "source": [
    "sns.barplot(x=df['F2M_cat'], y=df['yf_LH'], hue = df['Class'])\n",
    "# inference about below graph\n",
    "# as we can see for low female ratio there are no young female likelihood in upper class area\n",
    "# and also for high female ratio there are no young female likelihood in backward class area\n"
   ]
  },
  {
   "cell_type": "code",
   "execution_count": 18,
   "metadata": {
    "ExecuteTime": {
     "end_time": "2019-02-07T10:09:27.650935Z",
     "start_time": "2019-02-07T10:09:27.511026Z"
    }
   },
   "outputs": [
    {
     "name": "stderr",
     "output_type": "stream",
     "text": [
      "/home/kei0s/anaconda3/lib/python3.7/site-packages/sklearn/utils/validation.py:595: DataConversionWarning: Data with input dtype int64 was converted to float64 by StandardScaler.\n",
      "  warnings.warn(msg, DataConversionWarning)\n",
      "/home/kei0s/anaconda3/lib/python3.7/site-packages/sklearn/utils/validation.py:595: DataConversionWarning: Data with input dtype int64 was converted to float64 by StandardScaler.\n",
      "  warnings.warn(msg, DataConversionWarning)\n"
     ]
    }
   ],
   "source": [
    "from sklearn.preprocessing import StandardScaler\n",
    "\n",
    "features = ['Coffee.shops', 'Salon', 'buy']\n",
    "\n",
    "# Separating out the features\n",
    "x = df.loc[:, features].values\n",
    "\n",
    "# Standardizing the features\n",
    "x = StandardScaler().fit_transform(x)"
   ]
  },
  {
   "cell_type": "code",
   "execution_count": 8,
   "metadata": {
    "ExecuteTime": {
     "end_time": "2019-02-11T07:21:44.714743Z",
     "start_time": "2019-02-11T07:21:44.187804Z"
    }
   },
   "outputs": [
    {
     "data": {
      "image/png": "[encoded data removed]",
      "text/plain": [
       "<Figure size 864x576 with 1 Axes>"
      ]
     },
     "metadata": {
      "needs_background": "light"
     },
     "output_type": "display_data"
    }
   ],
   "source": [
    "from mpl_toolkits import mplot3d\n",
    "%matplotlib inline\n",
    "import numpy as np\n",
    "import matplotlib.pyplot as plt\n",
    "# fig = plt.figure()\n",
    "cm = plt.get_cmap(\"RdYlGn\")\n",
    "col = np.arange(92)\n",
    "\n",
    "fig = plt.figure(figsize=(12.,8.))\n",
    "ax = plt.axes(projection='3d')\n",
    "ax.scatter3D(df['Coffee.shops'], df['Salon'], df['buy'], c=x[:,2], marker='o', s=40, linewidths=5)\n",
    "# ax.scatter(x[:,0], x[:,1], x[:,2], c=x[:,2], marker='o', s=40, linewidths=5)\n",
    "ax.set_xlabel('Coffee shops')\n",
    "ax.set_ylabel('Salon')\n",
    "ax.set_zlabel('Buy')\n",
    "fig.savefig('beforeNorm.png')"
   ]
  },
  {
   "cell_type": "code",
   "execution_count": 3,
   "metadata": {
    "ExecuteTime": {
     "end_time": "2019-02-15T08:49:00.074841Z",
     "start_time": "2019-02-15T08:48:59.900108Z"
    }
   },
   "outputs": [
    {
     "data": {
      "text/html": [
       "<div>\n",
       "<style scoped>\n",
       "    .dataframe tbody tr th:only-of-type {\n",
       "        vertical-align: middle;\n",
       "    }\n",
       "\n",
       "    .dataframe tbody tr th {\n",
       "        vertical-align: top;\n",
       "    }\n",
       "\n",
       "    .dataframe thead th {\n",
       "        text-align: right;\n",
       "    }\n",
       "</style>\n",
       "<table border=\"1\" class=\"dataframe\">\n",
       "  <thead>\n",
       "    <tr style=\"text-align: right;\">\n",
       "      <th></th>\n",
       "      <th>Constituency</th>\n",
       "      <th>Locality</th>\n",
       "      <th>Part No</th>\n",
       "      <th>Unnamed: 3</th>\n",
       "      <th>Male</th>\n",
       "      <th>Female</th>\n",
       "      <th>Coffee Shops</th>\n",
       "      <th>Salon</th>\n",
       "      <th>Buy/per sqft</th>\n",
       "      <th>Rent/per sqrt</th>\n",
       "      <th>Young Women %</th>\n",
       "      <th>Married_F</th>\n",
       "      <th>YF</th>\n",
       "      <th>MYF</th>\n",
       "      <th>YM</th>\n",
       "    </tr>\n",
       "  </thead>\n",
       "  <tbody>\n",
       "    <tr>\n",
       "      <th>0</th>\n",
       "      <td>RKPURAM- AC-44</td>\n",
       "      <td>satyaniketan</td>\n",
       "      <td>1</td>\n",
       "      <td>NaN</td>\n",
       "      <td>660</td>\n",
       "      <td>588</td>\n",
       "      <td>10</td>\n",
       "      <td>4</td>\n",
       "      <td>9200.0</td>\n",
       "      <td>49.0</td>\n",
       "      <td>36.564626</td>\n",
       "      <td>427</td>\n",
       "      <td>209</td>\n",
       "      <td>76</td>\n",
       "      <td>256</td>\n",
       "    </tr>\n",
       "    <tr>\n",
       "      <th>1</th>\n",
       "      <td>NaN</td>\n",
       "      <td>satyaniketan</td>\n",
       "      <td>2</td>\n",
       "      <td>NaN</td>\n",
       "      <td>486</td>\n",
       "      <td>480</td>\n",
       "      <td>10</td>\n",
       "      <td>4</td>\n",
       "      <td>9200.0</td>\n",
       "      <td>49.0</td>\n",
       "      <td>29.583333</td>\n",
       "      <td>342</td>\n",
       "      <td>139</td>\n",
       "      <td>39</td>\n",
       "      <td>153</td>\n",
       "    </tr>\n",
       "    <tr>\n",
       "      <th>2</th>\n",
       "      <td>NaN</td>\n",
       "      <td>satyaniketan</td>\n",
       "      <td>3</td>\n",
       "      <td>NaN</td>\n",
       "      <td>626</td>\n",
       "      <td>525</td>\n",
       "      <td>10</td>\n",
       "      <td>4</td>\n",
       "      <td>NaN</td>\n",
       "      <td>NaN</td>\n",
       "      <td>44.952381</td>\n",
       "      <td>362</td>\n",
       "      <td>235</td>\n",
       "      <td>89</td>\n",
       "      <td>290</td>\n",
       "    </tr>\n",
       "    <tr>\n",
       "      <th>3</th>\n",
       "      <td>NaN</td>\n",
       "      <td>satyaniketan</td>\n",
       "      <td>4</td>\n",
       "      <td>NaN</td>\n",
       "      <td>443</td>\n",
       "      <td>362</td>\n",
       "      <td>10</td>\n",
       "      <td>2</td>\n",
       "      <td>NaN</td>\n",
       "      <td>NaN</td>\n",
       "      <td>48.342541</td>\n",
       "      <td>240</td>\n",
       "      <td>175</td>\n",
       "      <td>72</td>\n",
       "      <td>206</td>\n",
       "    </tr>\n",
       "    <tr>\n",
       "      <th>4</th>\n",
       "      <td>NaN</td>\n",
       "      <td>satyaniketan</td>\n",
       "      <td>5</td>\n",
       "      <td>NaN</td>\n",
       "      <td>444</td>\n",
       "      <td>356</td>\n",
       "      <td>10</td>\n",
       "      <td>2</td>\n",
       "      <td>NaN</td>\n",
       "      <td>NaN</td>\n",
       "      <td>38.202247</td>\n",
       "      <td>252</td>\n",
       "      <td>135</td>\n",
       "      <td>57</td>\n",
       "      <td>178</td>\n",
       "    </tr>\n",
       "  </tbody>\n",
       "</table>\n",
       "</div>"
      ],
      "text/plain": [
       "     Constituency      Locality  Part No  Unnamed: 3  Male  Female  \\\n",
       "0  RKPURAM- AC-44  satyaniketan        1         NaN   660     588   \n",
       "1             NaN  satyaniketan        2         NaN   486     480   \n",
       "2             NaN  satyaniketan        3         NaN   626     525   \n",
       "3             NaN  satyaniketan        4         NaN   443     362   \n",
       "4             NaN  satyaniketan        5         NaN   444     356   \n",
       "\n",
       "   Coffee Shops  Salon  Buy/per sqft  Rent/per sqrt  Young Women %  Married_F  \\\n",
       "0            10      4        9200.0           49.0      36.564626        427   \n",
       "1            10      4        9200.0           49.0      29.583333        342   \n",
       "2            10      4           NaN            NaN      44.952381        362   \n",
       "3            10      2           NaN            NaN      48.342541        240   \n",
       "4            10      2           NaN            NaN      38.202247        252   \n",
       "\n",
       "    YF  MYF   YM  \n",
       "0  209   76  256  \n",
       "1  139   39  153  \n",
       "2  235   89  290  \n",
       "3  175   72  206  \n",
       "4  135   57  178  "
      ]
     },
     "execution_count": 3,
     "metadata": {},
     "output_type": "execute_result"
    }
   ],
   "source": [
    "# df.sort_values(by=['m_dist'])\n",
    "# df[df['Class'] == 'M_class'].count()\n",
    "df_rk = pd.read_excel('data about rk puram.xlsx')\n",
    "df_rk.head()\n",
    "# df_rk.sort_values(by=['Part No'])"
   ]
  },
  {
   "cell_type": "code",
   "execution_count": 4,
   "metadata": {
    "ExecuteTime": {
     "end_time": "2019-02-15T08:49:06.265340Z",
     "start_time": "2019-02-15T08:49:05.651171Z"
    }
   },
   "outputs": [
    {
     "data": {
      "text/plain": [
       "92"
      ]
     },
     "execution_count": 4,
     "metadata": {},
     "output_type": "execute_result"
    }
   ],
   "source": [
    "# df_rk.sort_values(by=['Married_F'])\n",
    "a = [0]*len(df1)\n",
    "for i in range(92):\n",
    "    for j in range(156):\n",
    "        if (df1['partno1'][i] == df_rk['Part No'][j]):\n",
    "            a[i] = df_rk['YM'][j]\n",
    "        \n",
    "len(a)"
   ]
  },
  {
   "cell_type": "code",
   "execution_count": 5,
   "metadata": {
    "ExecuteTime": {
     "end_time": "2019-02-15T08:49:15.060269Z",
     "start_time": "2019-02-15T08:49:14.981163Z"
    }
   },
   "outputs": [
    {
     "data": {
      "text/html": [
       "<div>\n",
       "<style scoped>\n",
       "    .dataframe tbody tr th:only-of-type {\n",
       "        vertical-align: middle;\n",
       "    }\n",
       "\n",
       "    .dataframe tbody tr th {\n",
       "        vertical-align: top;\n",
       "    }\n",
       "\n",
       "    .dataframe thead th {\n",
       "        text-align: right;\n",
       "    }\n",
       "</style>\n",
       "<table border=\"1\" class=\"dataframe\">\n",
       "  <thead>\n",
       "    <tr style=\"text-align: right;\">\n",
       "      <th></th>\n",
       "      <th>Locality</th>\n",
       "      <th>partno1</th>\n",
       "      <th>Male</th>\n",
       "      <th>Female</th>\n",
       "      <th>Coffee.shops</th>\n",
       "      <th>Salon</th>\n",
       "      <th>buy</th>\n",
       "      <th>rent</th>\n",
       "      <th>yf_LH</th>\n",
       "      <th>ratio</th>\n",
       "      <th>m_dist</th>\n",
       "      <th>r_dist</th>\n",
       "      <th>Class</th>\n",
       "      <th>F2M_cat</th>\n",
       "      <th>Married_F</th>\n",
       "      <th>YF</th>\n",
       "      <th>MYF</th>\n",
       "      <th>MYF_LH</th>\n",
       "      <th>YM</th>\n",
       "    </tr>\n",
       "  </thead>\n",
       "  <tbody>\n",
       "    <tr>\n",
       "      <th>0</th>\n",
       "      <td>satyaniketan</td>\n",
       "      <td>1</td>\n",
       "      <td>660</td>\n",
       "      <td>588</td>\n",
       "      <td>10</td>\n",
       "      <td>4</td>\n",
       "      <td>9200</td>\n",
       "      <td>49.0</td>\n",
       "      <td>36.564626</td>\n",
       "      <td>0.890909</td>\n",
       "      <td>7.52</td>\n",
       "      <td>-7.52</td>\n",
       "      <td>B_class</td>\n",
       "      <td>Fair_ratio</td>\n",
       "      <td>427</td>\n",
       "      <td>209</td>\n",
       "      <td>76</td>\n",
       "      <td>36.363636</td>\n",
       "      <td>256</td>\n",
       "    </tr>\n",
       "    <tr>\n",
       "      <th>1</th>\n",
       "      <td>satyaniketan</td>\n",
       "      <td>2</td>\n",
       "      <td>486</td>\n",
       "      <td>480</td>\n",
       "      <td>10</td>\n",
       "      <td>4</td>\n",
       "      <td>9200</td>\n",
       "      <td>49.0</td>\n",
       "      <td>29.583333</td>\n",
       "      <td>0.987654</td>\n",
       "      <td>7.52</td>\n",
       "      <td>-7.52</td>\n",
       "      <td>B_class</td>\n",
       "      <td>Fair_ratio</td>\n",
       "      <td>342</td>\n",
       "      <td>139</td>\n",
       "      <td>39</td>\n",
       "      <td>28.057554</td>\n",
       "      <td>153</td>\n",
       "    </tr>\n",
       "    <tr>\n",
       "      <th>2</th>\n",
       "      <td>Nanakpura</td>\n",
       "      <td>6</td>\n",
       "      <td>514</td>\n",
       "      <td>442</td>\n",
       "      <td>3</td>\n",
       "      <td>2</td>\n",
       "      <td>0</td>\n",
       "      <td>0.0</td>\n",
       "      <td>42.986425</td>\n",
       "      <td>0.859922</td>\n",
       "      <td>1.22</td>\n",
       "      <td>-1.22</td>\n",
       "      <td>B_class</td>\n",
       "      <td>Fair_ratio</td>\n",
       "      <td>338</td>\n",
       "      <td>186</td>\n",
       "      <td>98</td>\n",
       "      <td>52.688172</td>\n",
       "      <td>217</td>\n",
       "    </tr>\n",
       "    <tr>\n",
       "      <th>3</th>\n",
       "      <td>Nanakpura</td>\n",
       "      <td>7</td>\n",
       "      <td>456</td>\n",
       "      <td>370</td>\n",
       "      <td>3</td>\n",
       "      <td>2</td>\n",
       "      <td>0</td>\n",
       "      <td>0.0</td>\n",
       "      <td>41.621622</td>\n",
       "      <td>0.811404</td>\n",
       "      <td>1.22</td>\n",
       "      <td>-1.22</td>\n",
       "      <td>B_class</td>\n",
       "      <td>Fair_ratio</td>\n",
       "      <td>295</td>\n",
       "      <td>150</td>\n",
       "      <td>90</td>\n",
       "      <td>60.000000</td>\n",
       "      <td>211</td>\n",
       "    </tr>\n",
       "    <tr>\n",
       "      <th>4</th>\n",
       "      <td>Nanakpura</td>\n",
       "      <td>8</td>\n",
       "      <td>446</td>\n",
       "      <td>387</td>\n",
       "      <td>3</td>\n",
       "      <td>3</td>\n",
       "      <td>0</td>\n",
       "      <td>0.0</td>\n",
       "      <td>53.488372</td>\n",
       "      <td>0.867713</td>\n",
       "      <td>2.99</td>\n",
       "      <td>-2.99</td>\n",
       "      <td>B_class</td>\n",
       "      <td>Fair_ratio</td>\n",
       "      <td>290</td>\n",
       "      <td>198</td>\n",
       "      <td>116</td>\n",
       "      <td>58.585859</td>\n",
       "      <td>231</td>\n",
       "    </tr>\n",
       "  </tbody>\n",
       "</table>\n",
       "</div>"
      ],
      "text/plain": [
       "       Locality  partno1  Male  Female  Coffee.shops  Salon   buy  rent  \\\n",
       "0  satyaniketan        1   660     588            10      4  9200  49.0   \n",
       "1  satyaniketan        2   486     480            10      4  9200  49.0   \n",
       "2     Nanakpura        6   514     442             3      2     0   0.0   \n",
       "3     Nanakpura        7   456     370             3      2     0   0.0   \n",
       "4     Nanakpura        8   446     387             3      3     0   0.0   \n",
       "\n",
       "       yf_LH     ratio  m_dist  r_dist    Class     F2M_cat  Married_F   YF  \\\n",
       "0  36.564626  0.890909    7.52   -7.52  B_class  Fair_ratio        427  209   \n",
       "1  29.583333  0.987654    7.52   -7.52  B_class  Fair_ratio        342  139   \n",
       "2  42.986425  0.859922    1.22   -1.22  B_class  Fair_ratio        338  186   \n",
       "3  41.621622  0.811404    1.22   -1.22  B_class  Fair_ratio        295  150   \n",
       "4  53.488372  0.867713    2.99   -2.99  B_class  Fair_ratio        290  198   \n",
       "\n",
       "   MYF     MYF_LH   YM  \n",
       "0   76  36.363636  256  \n",
       "1   39  28.057554  153  \n",
       "2   98  52.688172  217  \n",
       "3   90  60.000000  211  \n",
       "4  116  58.585859  231  "
      ]
     },
     "execution_count": 5,
     "metadata": {},
     "output_type": "execute_result"
    }
   ],
   "source": [
    "# df.head()\n",
    "# df['partno1']\n",
    "# df1 = df.sort_values(by=['partno1'], ascending=True)\n",
    "# x = np.randn(92)\n",
    "# df1 = df1.reset_index()\n",
    "# df1\n",
    "# df1.sort_values(by=['partno1'], ascending=False)\n",
    "df1['YM'] = a\n",
    "# df1.drop('MYF_LH', axis=1, inplace=True)\n",
    "df1.head()"
   ]
  },
  {
   "cell_type": "code",
   "execution_count": 38,
   "metadata": {
    "ExecuteTime": {
     "end_time": "2019-02-07T10:33:52.993105Z",
     "start_time": "2019-02-07T10:33:52.623389Z"
    }
   },
   "outputs": [
    {
     "data": {
      "image/png": "[encoded data removed]",
      "text/plain": [
       "<Figure size 864x432 with 1 Axes>"
      ]
     },
     "metadata": {
      "needs_background": "light"
     },
     "output_type": "display_data"
    }
   ],
   "source": [
    "# df_rk['Married_F'][0]\n",
    "plt.figure(figsize=(12, 6))\n",
    "plt.xlabel('Relative distance')\n",
    "plt.ylabel('Young female likelihood')\n",
    "plt.scatter(df['r_dist'], df['yf_LH'])\n",
    "# inference about below graph\n",
    "# there are more young female near the centroid that means near munirka dda flats\n",
    "plt.savefig('yf_lh-r_dist.png')"
   ]
  },
  {
   "cell_type": "code",
   "execution_count": 228,
   "metadata": {
    "ExecuteTime": {
     "end_time": "2019-02-06T09:55:48.940517Z",
     "start_time": "2019-02-06T09:55:48.885178Z"
    }
   },
   "outputs": [
    {
     "data": {
      "text/html": [
       "<div>\n",
       "<style scoped>\n",
       "    .dataframe tbody tr th:only-of-type {\n",
       "        vertical-align: middle;\n",
       "    }\n",
       "\n",
       "    .dataframe tbody tr th {\n",
       "        vertical-align: top;\n",
       "    }\n",
       "\n",
       "    .dataframe thead th {\n",
       "        text-align: right;\n",
       "    }\n",
       "</style>\n",
       "<table border=\"1\" class=\"dataframe\">\n",
       "  <thead>\n",
       "    <tr style=\"text-align: right;\">\n",
       "      <th></th>\n",
       "      <th>Locality</th>\n",
       "      <th>partno1</th>\n",
       "      <th>Male</th>\n",
       "      <th>Female</th>\n",
       "      <th>Coffee.shops</th>\n",
       "      <th>Salon</th>\n",
       "      <th>buy</th>\n",
       "      <th>rent</th>\n",
       "      <th>yf_LH</th>\n",
       "      <th>ratio</th>\n",
       "      <th>m_dist</th>\n",
       "      <th>r_dist</th>\n",
       "      <th>Class</th>\n",
       "      <th>F2M_cat</th>\n",
       "      <th>Married_F</th>\n",
       "      <th>YF</th>\n",
       "    </tr>\n",
       "  </thead>\n",
       "  <tbody>\n",
       "    <tr>\n",
       "      <th>0</th>\n",
       "      <td>satyaniketan</td>\n",
       "      <td>1</td>\n",
       "      <td>660</td>\n",
       "      <td>588</td>\n",
       "      <td>10</td>\n",
       "      <td>4</td>\n",
       "      <td>9200</td>\n",
       "      <td>49.0</td>\n",
       "      <td>36.564626</td>\n",
       "      <td>0.890909</td>\n",
       "      <td>7.52</td>\n",
       "      <td>-7.52</td>\n",
       "      <td>B_class</td>\n",
       "      <td>Fair_ratio</td>\n",
       "      <td>427</td>\n",
       "      <td>209</td>\n",
       "    </tr>\n",
       "    <tr>\n",
       "      <th>1</th>\n",
       "      <td>satyaniketan</td>\n",
       "      <td>2</td>\n",
       "      <td>486</td>\n",
       "      <td>480</td>\n",
       "      <td>10</td>\n",
       "      <td>4</td>\n",
       "      <td>9200</td>\n",
       "      <td>49.0</td>\n",
       "      <td>29.583333</td>\n",
       "      <td>0.987654</td>\n",
       "      <td>7.52</td>\n",
       "      <td>-7.52</td>\n",
       "      <td>B_class</td>\n",
       "      <td>Fair_ratio</td>\n",
       "      <td>342</td>\n",
       "      <td>139</td>\n",
       "    </tr>\n",
       "    <tr>\n",
       "      <th>2</th>\n",
       "      <td>Nanakpura</td>\n",
       "      <td>6</td>\n",
       "      <td>514</td>\n",
       "      <td>442</td>\n",
       "      <td>3</td>\n",
       "      <td>2</td>\n",
       "      <td>0</td>\n",
       "      <td>0.0</td>\n",
       "      <td>42.986425</td>\n",
       "      <td>0.859922</td>\n",
       "      <td>1.22</td>\n",
       "      <td>-1.22</td>\n",
       "      <td>B_class</td>\n",
       "      <td>Fair_ratio</td>\n",
       "      <td>338</td>\n",
       "      <td>186</td>\n",
       "    </tr>\n",
       "    <tr>\n",
       "      <th>3</th>\n",
       "      <td>Nanakpura</td>\n",
       "      <td>7</td>\n",
       "      <td>456</td>\n",
       "      <td>370</td>\n",
       "      <td>3</td>\n",
       "      <td>2</td>\n",
       "      <td>0</td>\n",
       "      <td>0.0</td>\n",
       "      <td>41.621622</td>\n",
       "      <td>0.811404</td>\n",
       "      <td>1.22</td>\n",
       "      <td>-1.22</td>\n",
       "      <td>B_class</td>\n",
       "      <td>Fair_ratio</td>\n",
       "      <td>295</td>\n",
       "      <td>150</td>\n",
       "    </tr>\n",
       "    <tr>\n",
       "      <th>4</th>\n",
       "      <td>Nanakpura</td>\n",
       "      <td>8</td>\n",
       "      <td>446</td>\n",
       "      <td>387</td>\n",
       "      <td>3</td>\n",
       "      <td>3</td>\n",
       "      <td>0</td>\n",
       "      <td>0.0</td>\n",
       "      <td>53.488372</td>\n",
       "      <td>0.867713</td>\n",
       "      <td>2.99</td>\n",
       "      <td>-2.99</td>\n",
       "      <td>B_class</td>\n",
       "      <td>Fair_ratio</td>\n",
       "      <td>290</td>\n",
       "      <td>198</td>\n",
       "    </tr>\n",
       "  </tbody>\n",
       "</table>\n",
       "</div>"
      ],
      "text/plain": [
       "       Locality  partno1  Male  Female  Coffee.shops  Salon   buy  rent  \\\n",
       "0  satyaniketan        1   660     588            10      4  9200  49.0   \n",
       "1  satyaniketan        2   486     480            10      4  9200  49.0   \n",
       "2     Nanakpura        6   514     442             3      2     0   0.0   \n",
       "3     Nanakpura        7   456     370             3      2     0   0.0   \n",
       "4     Nanakpura        8   446     387             3      3     0   0.0   \n",
       "\n",
       "       yf_LH     ratio  m_dist  r_dist    Class     F2M_cat  Married_F   YF  \n",
       "0  36.564626  0.890909    7.52   -7.52  B_class  Fair_ratio        427  209  \n",
       "1  29.583333  0.987654    7.52   -7.52  B_class  Fair_ratio        342  139  \n",
       "2  42.986425  0.859922    1.22   -1.22  B_class  Fair_ratio        338  186  \n",
       "3  41.621622  0.811404    1.22   -1.22  B_class  Fair_ratio        295  150  \n",
       "4  53.488372  0.867713    2.99   -2.99  B_class  Fair_ratio        290  198  "
      ]
     },
     "execution_count": 228,
     "metadata": {},
     "output_type": "execute_result"
    }
   ],
   "source": [
    "# df1['partno1'][6] == df_rk['Part No'][6]\n",
    "# df_rk['Married_F'][155]\n",
    "# (df['yf_LH']/100 )* df['Female']\n",
    "df1.head()"
   ]
  },
  {
   "cell_type": "code",
   "execution_count": 241,
   "metadata": {
    "ExecuteTime": {
     "end_time": "2019-02-06T10:11:24.507874Z",
     "start_time": "2019-02-06T10:11:24.440645Z"
    }
   },
   "outputs": [
    {
     "data": {
      "text/html": [
       "<div>\n",
       "<style scoped>\n",
       "    .dataframe tbody tr th:only-of-type {\n",
       "        vertical-align: middle;\n",
       "    }\n",
       "\n",
       "    .dataframe tbody tr th {\n",
       "        vertical-align: top;\n",
       "    }\n",
       "\n",
       "    .dataframe thead th {\n",
       "        text-align: right;\n",
       "    }\n",
       "</style>\n",
       "<table border=\"1\" class=\"dataframe\">\n",
       "  <thead>\n",
       "    <tr style=\"text-align: right;\">\n",
       "      <th></th>\n",
       "      <th>Locality</th>\n",
       "      <th>partno1</th>\n",
       "      <th>Male</th>\n",
       "      <th>Female</th>\n",
       "      <th>Coffee.shops</th>\n",
       "      <th>Salon</th>\n",
       "      <th>buy</th>\n",
       "      <th>rent</th>\n",
       "      <th>yf_LH</th>\n",
       "      <th>ratio</th>\n",
       "      <th>m_dist</th>\n",
       "      <th>r_dist</th>\n",
       "      <th>Class</th>\n",
       "      <th>F2M_cat</th>\n",
       "      <th>Married_F</th>\n",
       "      <th>YF</th>\n",
       "      <th>MYF</th>\n",
       "      <th>MYF_LH</th>\n",
       "    </tr>\n",
       "  </thead>\n",
       "  <tbody>\n",
       "    <tr>\n",
       "      <th>0</th>\n",
       "      <td>satyaniketan</td>\n",
       "      <td>1</td>\n",
       "      <td>660</td>\n",
       "      <td>588</td>\n",
       "      <td>10</td>\n",
       "      <td>4</td>\n",
       "      <td>9200</td>\n",
       "      <td>49.0</td>\n",
       "      <td>36.564626</td>\n",
       "      <td>0.890909</td>\n",
       "      <td>7.52</td>\n",
       "      <td>-7.52</td>\n",
       "      <td>B_class</td>\n",
       "      <td>Fair_ratio</td>\n",
       "      <td>427</td>\n",
       "      <td>209</td>\n",
       "      <td>76</td>\n",
       "      <td>36.363636</td>\n",
       "    </tr>\n",
       "    <tr>\n",
       "      <th>1</th>\n",
       "      <td>satyaniketan</td>\n",
       "      <td>2</td>\n",
       "      <td>486</td>\n",
       "      <td>480</td>\n",
       "      <td>10</td>\n",
       "      <td>4</td>\n",
       "      <td>9200</td>\n",
       "      <td>49.0</td>\n",
       "      <td>29.583333</td>\n",
       "      <td>0.987654</td>\n",
       "      <td>7.52</td>\n",
       "      <td>-7.52</td>\n",
       "      <td>B_class</td>\n",
       "      <td>Fair_ratio</td>\n",
       "      <td>342</td>\n",
       "      <td>139</td>\n",
       "      <td>39</td>\n",
       "      <td>28.057554</td>\n",
       "    </tr>\n",
       "    <tr>\n",
       "      <th>2</th>\n",
       "      <td>Nanakpura</td>\n",
       "      <td>6</td>\n",
       "      <td>514</td>\n",
       "      <td>442</td>\n",
       "      <td>3</td>\n",
       "      <td>2</td>\n",
       "      <td>0</td>\n",
       "      <td>0.0</td>\n",
       "      <td>42.986425</td>\n",
       "      <td>0.859922</td>\n",
       "      <td>1.22</td>\n",
       "      <td>-1.22</td>\n",
       "      <td>B_class</td>\n",
       "      <td>Fair_ratio</td>\n",
       "      <td>338</td>\n",
       "      <td>186</td>\n",
       "      <td>98</td>\n",
       "      <td>52.688172</td>\n",
       "    </tr>\n",
       "    <tr>\n",
       "      <th>3</th>\n",
       "      <td>Nanakpura</td>\n",
       "      <td>7</td>\n",
       "      <td>456</td>\n",
       "      <td>370</td>\n",
       "      <td>3</td>\n",
       "      <td>2</td>\n",
       "      <td>0</td>\n",
       "      <td>0.0</td>\n",
       "      <td>41.621622</td>\n",
       "      <td>0.811404</td>\n",
       "      <td>1.22</td>\n",
       "      <td>-1.22</td>\n",
       "      <td>B_class</td>\n",
       "      <td>Fair_ratio</td>\n",
       "      <td>295</td>\n",
       "      <td>150</td>\n",
       "      <td>90</td>\n",
       "      <td>60.000000</td>\n",
       "    </tr>\n",
       "    <tr>\n",
       "      <th>4</th>\n",
       "      <td>Nanakpura</td>\n",
       "      <td>8</td>\n",
       "      <td>446</td>\n",
       "      <td>387</td>\n",
       "      <td>3</td>\n",
       "      <td>3</td>\n",
       "      <td>0</td>\n",
       "      <td>0.0</td>\n",
       "      <td>53.488372</td>\n",
       "      <td>0.867713</td>\n",
       "      <td>2.99</td>\n",
       "      <td>-2.99</td>\n",
       "      <td>B_class</td>\n",
       "      <td>Fair_ratio</td>\n",
       "      <td>290</td>\n",
       "      <td>198</td>\n",
       "      <td>116</td>\n",
       "      <td>58.585859</td>\n",
       "    </tr>\n",
       "  </tbody>\n",
       "</table>\n",
       "</div>"
      ],
      "text/plain": [
       "       Locality  partno1  Male  Female  Coffee.shops  Salon   buy  rent  \\\n",
       "0  satyaniketan        1   660     588            10      4  9200  49.0   \n",
       "1  satyaniketan        2   486     480            10      4  9200  49.0   \n",
       "2     Nanakpura        6   514     442             3      2     0   0.0   \n",
       "3     Nanakpura        7   456     370             3      2     0   0.0   \n",
       "4     Nanakpura        8   446     387             3      3     0   0.0   \n",
       "\n",
       "       yf_LH     ratio  m_dist  r_dist    Class     F2M_cat  Married_F   YF  \\\n",
       "0  36.564626  0.890909    7.52   -7.52  B_class  Fair_ratio        427  209   \n",
       "1  29.583333  0.987654    7.52   -7.52  B_class  Fair_ratio        342  139   \n",
       "2  42.986425  0.859922    1.22   -1.22  B_class  Fair_ratio        338  186   \n",
       "3  41.621622  0.811404    1.22   -1.22  B_class  Fair_ratio        295  150   \n",
       "4  53.488372  0.867713    2.99   -2.99  B_class  Fair_ratio        290  198   \n",
       "\n",
       "   MYF     MYF_LH  \n",
       "0   76  36.363636  \n",
       "1   39  28.057554  \n",
       "2   98  52.688172  \n",
       "3   90  60.000000  \n",
       "4  116  58.585859  "
      ]
     },
     "execution_count": 241,
     "metadata": {},
     "output_type": "execute_result"
    }
   ],
   "source": [
    "df1['MYF_LH'] = df1['MYF']/df1['YF'] *100\n",
    "\n",
    "df1.head()"
   ]
  },
  {
   "cell_type": "code",
   "execution_count": 4,
   "metadata": {
    "ExecuteTime": {
     "end_time": "2019-02-11T06:57:30.074040Z",
     "start_time": "2019-02-11T06:57:29.704890Z"
    }
   },
   "outputs": [
    {
     "data": {
      "image/png": "[encoded data removed]",
      "text/plain": [
       "<Figure size 864x432 with 1 Axes>"
      ]
     },
     "metadata": {
      "needs_background": "light"
     },
     "output_type": "display_data"
    }
   ],
   "source": [
    "plt.figure(figsize=(12, 6))\n",
    "plt.xlabel('Married young female likelihood')\n",
    "plt.ylabel('Young female likelihood')\n",
    "plt.scatter(x = df1['MYF_LH'], y=df1['yf_LH'])\n",
    "# inference about below graph\n",
    "# as married young female likelihood increases, total young female increases\n",
    "plt.savefig('tyf-myf_lh.png')"
   ]
  },
  {
   "cell_type": "code",
   "execution_count": 41,
   "metadata": {
    "ExecuteTime": {
     "end_time": "2019-02-07T10:45:20.852572Z",
     "start_time": "2019-02-07T10:45:20.166602Z"
    }
   },
   "outputs": [
    {
     "name": "stderr",
     "output_type": "stream",
     "text": [
      "/home/kei0s/anaconda3/lib/python3.7/site-packages/scipy/stats/stats.py:1713: FutureWarning: Using a non-tuple sequence for multidimensional indexing is deprecated; use `arr[tuple(seq)]` instead of `arr[seq]`. In the future this will be interpreted as an array index, `arr[np.array(seq)]`, which will result either in an error or a different result.\n",
      "  return np.add.reduce(sorted[indexer] * weights, axis=axis) / sumval\n"
     ]
    },
    {
     "data": {
      "image/png": "[encoded data removed]",
      "text/plain": [
       "<Figure size 432x288 with 1 Axes>"
      ]
     },
     "metadata": {
      "needs_background": "light"
     },
     "output_type": "display_data"
    }
   ],
   "source": [
    "sns.barplot(x=df1['Class'], y=df1['MYF'], hue = df1['Class'])\n",
    "# inference about below graph\n",
    "# there are more married young female near the middle class or centroid area\n"
   ]
  },
  {
   "cell_type": "code",
   "execution_count": 42,
   "metadata": {
    "ExecuteTime": {
     "end_time": "2019-02-07T10:48:40.163968Z",
     "start_time": "2019-02-07T10:48:39.539665Z"
    }
   },
   "outputs": [
    {
     "name": "stderr",
     "output_type": "stream",
     "text": [
      "/home/kei0s/anaconda3/lib/python3.7/site-packages/scipy/stats/stats.py:1713: FutureWarning: Using a non-tuple sequence for multidimensional indexing is deprecated; use `arr[tuple(seq)]` instead of `arr[seq]`. In the future this will be interpreted as an array index, `arr[np.array(seq)]`, which will result either in an error or a different result.\n",
      "  return np.add.reduce(sorted[indexer] * weights, axis=axis) / sumval\n"
     ]
    },
    {
     "data": {
      "image/png": "[encoded data removed]",
      "text/plain": [
       "<Figure size 432x288 with 1 Axes>"
      ]
     },
     "metadata": {
      "needs_background": "light"
     },
     "output_type": "display_data"
    }
   ],
   "source": [
    "# Backward class consists of more married young female likelihood\n",
    "sns.barplot(x=df1['Class'], y=df1['MYF_LH'], hue = df1['Class'])\n",
    "# compared above inference where there are more married young female near centroid \n",
    "# here we can seee that married young female likelihood is more compared to centroid area\n"
   ]
  },
  {
   "cell_type": "code",
   "execution_count": 35,
   "metadata": {
    "ExecuteTime": {
     "end_time": "2019-02-07T10:26:16.022729Z",
     "start_time": "2019-02-07T10:26:15.619467Z"
    }
   },
   "outputs": [
    {
     "data": {
      "image/png": "[encoded data removed]",
      "text/plain": [
       "<Figure size 864x432 with 1 Axes>"
      ]
     },
     "metadata": {
      "needs_background": "light"
     },
     "output_type": "display_data"
    }
   ],
   "source": [
    "# area vise female to male ratio\n",
    "plt.figure(figsize=(12, 6))\n",
    "plt.scatter(x=df1['r_dist'], y=df1['ratio'])\n",
    "plt.xlabel('Relative distance')\n",
    "plt.ylabel('Female to male ratio')\n",
    "# inference about below graph\n",
    "# female are more near centroid that means female are more near munirka dda flats\n",
    "plt.savefig('fem-r_dist.png')"
   ]
  },
  {
   "cell_type": "code",
   "execution_count": 6,
   "metadata": {
    "ExecuteTime": {
     "end_time": "2019-02-07T09:57:40.890371Z",
     "start_time": "2019-02-07T09:57:40.764722Z"
    }
   },
   "outputs": [],
   "source": [
    "df1.head()\n",
    "df1.to_excel('rkp511.xlsx')"
   ]
  },
  {
   "cell_type": "code",
   "execution_count": 43,
   "metadata": {
    "ExecuteTime": {
     "end_time": "2019-02-07T10:48:50.610618Z",
     "start_time": "2019-02-07T10:48:50.604728Z"
    }
   },
   "outputs": [],
   "source": [
    "# df1.sort_values(by='MYF', ascending=False)"
   ]
  },
  {
   "cell_type": "code",
   "execution_count": 34,
   "metadata": {
    "ExecuteTime": {
     "end_time": "2019-02-07T10:23:58.981004Z",
     "start_time": "2019-02-07T10:23:58.535748Z"
    }
   },
   "outputs": [
    {
     "data": {
      "image/png": "[encoded data removed]",
      "text/plain": [
       "<Figure size 864x432 with 1 Axes>"
      ]
     },
     "metadata": {
      "needs_background": "light"
     },
     "output_type": "display_data"
    }
   ],
   "source": [
    "# to see married young female likelihood based on the locality\n",
    "plt.figure(figsize=(12, 6))\n",
    "plt.xlabel('Married young female likelihood')\n",
    "plt.ylabel('Female to male ratio')\n",
    "plt.scatter(x=df1['MYF_LH'], y=df1['ratio'])\n",
    "# inference about below scatter plot\n",
    "# for low ratio, young female marriage likelihood increases and vice versa\n",
    "plt.savefig('fem-yflh.png')"
   ]
  },
  {
   "cell_type": "code",
   "execution_count": 5,
   "metadata": {
    "ExecuteTime": {
     "end_time": "2019-02-14T13:34:40.078120Z",
     "start_time": "2019-02-14T13:34:40.011266Z"
    }
   },
   "outputs": [
    {
     "data": {
      "text/html": [
       "<div>\n",
       "<style scoped>\n",
       "    .dataframe tbody tr th:only-of-type {\n",
       "        vertical-align: middle;\n",
       "    }\n",
       "\n",
       "    .dataframe tbody tr th {\n",
       "        vertical-align: top;\n",
       "    }\n",
       "\n",
       "    .dataframe thead th {\n",
       "        text-align: right;\n",
       "    }\n",
       "</style>\n",
       "<table border=\"1\" class=\"dataframe\">\n",
       "  <thead>\n",
       "    <tr style=\"text-align: right;\">\n",
       "      <th></th>\n",
       "      <th>Locality</th>\n",
       "      <th>partno1</th>\n",
       "      <th>Male</th>\n",
       "      <th>Female</th>\n",
       "      <th>Coffee.shops</th>\n",
       "      <th>Salon</th>\n",
       "      <th>buy</th>\n",
       "      <th>rent</th>\n",
       "      <th>yf_LH</th>\n",
       "      <th>ratio</th>\n",
       "      <th>m_dist</th>\n",
       "      <th>r_dist</th>\n",
       "      <th>Class</th>\n",
       "      <th>F2M_cat</th>\n",
       "      <th>Married_F</th>\n",
       "      <th>YF</th>\n",
       "      <th>MYF</th>\n",
       "      <th>MYF_LH</th>\n",
       "    </tr>\n",
       "  </thead>\n",
       "  <tbody>\n",
       "    <tr>\n",
       "      <th>0</th>\n",
       "      <td>satyaniketan</td>\n",
       "      <td>1</td>\n",
       "      <td>660</td>\n",
       "      <td>588</td>\n",
       "      <td>10</td>\n",
       "      <td>4</td>\n",
       "      <td>9200</td>\n",
       "      <td>49.0</td>\n",
       "      <td>36.564626</td>\n",
       "      <td>0.890909</td>\n",
       "      <td>7.52</td>\n",
       "      <td>-7.52</td>\n",
       "      <td>B_class</td>\n",
       "      <td>Fair_ratio</td>\n",
       "      <td>427</td>\n",
       "      <td>209</td>\n",
       "      <td>76</td>\n",
       "      <td>36.363636</td>\n",
       "    </tr>\n",
       "    <tr>\n",
       "      <th>1</th>\n",
       "      <td>satyaniketan</td>\n",
       "      <td>2</td>\n",
       "      <td>486</td>\n",
       "      <td>480</td>\n",
       "      <td>10</td>\n",
       "      <td>4</td>\n",
       "      <td>9200</td>\n",
       "      <td>49.0</td>\n",
       "      <td>29.583333</td>\n",
       "      <td>0.987654</td>\n",
       "      <td>7.52</td>\n",
       "      <td>-7.52</td>\n",
       "      <td>B_class</td>\n",
       "      <td>Fair_ratio</td>\n",
       "      <td>342</td>\n",
       "      <td>139</td>\n",
       "      <td>39</td>\n",
       "      <td>28.057554</td>\n",
       "    </tr>\n",
       "    <tr>\n",
       "      <th>2</th>\n",
       "      <td>Nanakpura</td>\n",
       "      <td>6</td>\n",
       "      <td>514</td>\n",
       "      <td>442</td>\n",
       "      <td>3</td>\n",
       "      <td>2</td>\n",
       "      <td>0</td>\n",
       "      <td>0.0</td>\n",
       "      <td>42.986425</td>\n",
       "      <td>0.859922</td>\n",
       "      <td>1.22</td>\n",
       "      <td>-1.22</td>\n",
       "      <td>B_class</td>\n",
       "      <td>Fair_ratio</td>\n",
       "      <td>338</td>\n",
       "      <td>186</td>\n",
       "      <td>98</td>\n",
       "      <td>52.688172</td>\n",
       "    </tr>\n",
       "    <tr>\n",
       "      <th>3</th>\n",
       "      <td>Nanakpura</td>\n",
       "      <td>7</td>\n",
       "      <td>456</td>\n",
       "      <td>370</td>\n",
       "      <td>3</td>\n",
       "      <td>2</td>\n",
       "      <td>0</td>\n",
       "      <td>0.0</td>\n",
       "      <td>41.621622</td>\n",
       "      <td>0.811404</td>\n",
       "      <td>1.22</td>\n",
       "      <td>-1.22</td>\n",
       "      <td>B_class</td>\n",
       "      <td>Fair_ratio</td>\n",
       "      <td>295</td>\n",
       "      <td>150</td>\n",
       "      <td>90</td>\n",
       "      <td>60.000000</td>\n",
       "    </tr>\n",
       "    <tr>\n",
       "      <th>4</th>\n",
       "      <td>Nanakpura</td>\n",
       "      <td>8</td>\n",
       "      <td>446</td>\n",
       "      <td>387</td>\n",
       "      <td>3</td>\n",
       "      <td>3</td>\n",
       "      <td>0</td>\n",
       "      <td>0.0</td>\n",
       "      <td>53.488372</td>\n",
       "      <td>0.867713</td>\n",
       "      <td>2.99</td>\n",
       "      <td>-2.99</td>\n",
       "      <td>B_class</td>\n",
       "      <td>Fair_ratio</td>\n",
       "      <td>290</td>\n",
       "      <td>198</td>\n",
       "      <td>116</td>\n",
       "      <td>58.585859</td>\n",
       "    </tr>\n",
       "  </tbody>\n",
       "</table>\n",
       "</div>"
      ],
      "text/plain": [
       "       Locality  partno1  Male  Female  Coffee.shops  Salon   buy  rent  \\\n",
       "0  satyaniketan        1   660     588            10      4  9200  49.0   \n",
       "1  satyaniketan        2   486     480            10      4  9200  49.0   \n",
       "2     Nanakpura        6   514     442             3      2     0   0.0   \n",
       "3     Nanakpura        7   456     370             3      2     0   0.0   \n",
       "4     Nanakpura        8   446     387             3      3     0   0.0   \n",
       "\n",
       "       yf_LH     ratio  m_dist  r_dist    Class     F2M_cat  Married_F   YF  \\\n",
       "0  36.564626  0.890909    7.52   -7.52  B_class  Fair_ratio        427  209   \n",
       "1  29.583333  0.987654    7.52   -7.52  B_class  Fair_ratio        342  139   \n",
       "2  42.986425  0.859922    1.22   -1.22  B_class  Fair_ratio        338  186   \n",
       "3  41.621622  0.811404    1.22   -1.22  B_class  Fair_ratio        295  150   \n",
       "4  53.488372  0.867713    2.99   -2.99  B_class  Fair_ratio        290  198   \n",
       "\n",
       "   MYF     MYF_LH  \n",
       "0   76  36.363636  \n",
       "1   39  28.057554  \n",
       "2   98  52.688172  \n",
       "3   90  60.000000  \n",
       "4  116  58.585859  "
      ]
     },
     "execution_count": 5,
     "metadata": {},
     "output_type": "execute_result"
    }
   ],
   "source": [
    "df1.head()"
   ]
  },
  {
   "cell_type": "code",
   "execution_count": 78,
   "metadata": {
    "ExecuteTime": {
     "end_time": "2019-02-14T13:56:11.135076Z",
     "start_time": "2019-02-14T13:56:11.109120Z"
    }
   },
   "outputs": [
    {
     "name": "stderr",
     "output_type": "stream",
     "text": [
      "/home/kei0s/anaconda3/lib/python3.7/site-packages/sklearn/preprocessing/data.py:625: DataConversionWarning: Data with input dtype int64, float64 were all converted to float64 by StandardScaler.\n",
      "  return self.partial_fit(X, y)\n",
      "/home/kei0s/anaconda3/lib/python3.7/site-packages/sklearn/base.py:462: DataConversionWarning: Data with input dtype int64, float64 were all converted to float64 by StandardScaler.\n",
      "  return self.fit(X, **fit_params).transform(X)\n"
     ]
    }
   ],
   "source": [
    "X = df1[['Male', 'Female', 'yf_LH', 'Married_F', 'YF']]\n",
    "X = StandardScaler().fit_transform(X)\n",
    "# X = df1[['Male', 'Female']]\n",
    "y = df1['MYF_LH']"
   ]
  },
  {
   "cell_type": "code",
   "execution_count": 79,
   "metadata": {
    "ExecuteTime": {
     "end_time": "2019-02-14T13:56:11.379509Z",
     "start_time": "2019-02-14T13:56:11.374764Z"
    }
   },
   "outputs": [],
   "source": [
    "# df2.head()\n",
    "lm = linear_model.LinearRegression()\n",
    "model = lm.fit(X,y)"
   ]
  },
  {
   "cell_type": "code",
   "execution_count": 2,
   "metadata": {
    "ExecuteTime": {
     "end_time": "2019-02-15T06:49:12.294152Z",
     "start_time": "2019-02-15T06:49:12.141957Z"
    }
   },
   "outputs": [
    {
     "name": "stdout",
     "output_type": "stream",
     "text": [
      "[40.89667011 29.74632564 52.48302978 55.60290548 56.24177288 21.06365895\n",
      " 33.29825784 27.07873944 28.80537165 27.45041337 33.80162944 48.84816164\n",
      " 53.52483554 68.56936441 29.8729513  29.15794521 30.25258607 27.9322534\n",
      " 70.79235542 65.5685237  68.10689612 78.73864398 67.76140072 38.33854035\n",
      " 32.09855407 22.34824761 24.55344127 41.62570489 38.55061897 36.9663681\n",
      " 36.96562251 40.65823858 37.5895918  50.04531696 40.30140363 26.43251453\n",
      " 37.70671393 45.72104921 38.97454162 21.87849733 26.3175445  36.17570011\n",
      " 30.01664648 55.83704962 61.40093094 44.40648197 44.39870982 37.58884086\n",
      " 40.10214619 83.5660217  31.52921102 51.69587615 52.20683372 58.24169223\n",
      " 42.06935895 32.78694868 33.9884981  34.06113958 28.93536868 28.98123931\n",
      " 27.41585943 29.21575858 66.729851   24.41943249 27.3889688  30.85250785\n",
      " 50.11054623 38.77864141 28.52564429 47.9126534  41.60674808 52.22248882\n",
      " 38.06457846 30.40075063 48.26156105 47.66766153 62.32090725 50.76023414\n",
      " 50.87347442 58.84618538 52.47850426 46.67342345 34.95795492 48.22518163\n",
      " 51.05030638 49.51733435 29.1282698  26.04576703 29.51392237 27.98432954\n",
      " 29.10882265 24.80321061]\n"
     ]
    }
   ],
   "source": [
    "predictions = model.predict(X)\n",
    "print(predictions)"
   ]
  },
  {
   "cell_type": "code",
   "execution_count": 81,
   "metadata": {
    "ExecuteTime": {
     "end_time": "2019-02-14T13:56:11.773175Z",
     "start_time": "2019-02-14T13:56:11.766205Z"
    }
   },
   "outputs": [
    {
     "data": {
      "text/plain": [
       "0.8848049127266849"
      ]
     },
     "execution_count": 81,
     "metadata": {},
     "output_type": "execute_result"
    }
   ],
   "source": [
    "lm.score(X,y)"
   ]
  },
  {
   "cell_type": "code",
   "execution_count": 82,
   "metadata": {
    "ExecuteTime": {
     "end_time": "2019-02-14T13:56:14.013101Z",
     "start_time": "2019-02-14T13:56:13.929409Z"
    }
   },
   "outputs": [
    {
     "data": {
      "text/html": [
       "<table class=\"simpletable\">\n",
       "<caption>OLS Regression Results</caption>\n",
       "<tr>\n",
       "  <th>Dep. Variable:</th>         <td>MYF_LH</td>      <th>  R-squared:         </th> <td>   0.885</td>\n",
       "</tr>\n",
       "<tr>\n",
       "  <th>Model:</th>                   <td>OLS</td>       <th>  Adj. R-squared:    </th> <td>   0.878</td>\n",
       "</tr>\n",
       "<tr>\n",
       "  <th>Method:</th>             <td>Least Squares</td>  <th>  F-statistic:       </th> <td>   132.1</td>\n",
       "</tr>\n",
       "<tr>\n",
       "  <th>Date:</th>             <td>Thu, 14 Feb 2019</td> <th>  Prob (F-statistic):</th> <td>8.11e-39</td>\n",
       "</tr>\n",
       "<tr>\n",
       "  <th>Time:</th>                 <td>19:26:13</td>     <th>  Log-Likelihood:    </th> <td> -278.55</td>\n",
       "</tr>\n",
       "<tr>\n",
       "  <th>No. Observations:</th>      <td>    92</td>      <th>  AIC:               </th> <td>   569.1</td>\n",
       "</tr>\n",
       "<tr>\n",
       "  <th>Df Residuals:</th>          <td>    86</td>      <th>  BIC:               </th> <td>   584.2</td>\n",
       "</tr>\n",
       "<tr>\n",
       "  <th>Df Model:</th>              <td>     5</td>      <th>                     </th>     <td> </td>   \n",
       "</tr>\n",
       "<tr>\n",
       "  <th>Covariance Type:</th>      <td>nonrobust</td>    <th>                     </th>     <td> </td>   \n",
       "</tr>\n",
       "</table>\n",
       "<table class=\"simpletable\">\n",
       "<tr>\n",
       "    <td></td>       <th>coef</th>     <th>std err</th>      <th>t</th>      <th>P>|t|</th>  <th>[0.025</th>    <th>0.975]</th>  \n",
       "</tr>\n",
       "<tr>\n",
       "  <th>const</th> <td>   41.4404</td> <td>    0.539</td> <td>   76.915</td> <td> 0.000</td> <td>   40.369</td> <td>   42.511</td>\n",
       "</tr>\n",
       "<tr>\n",
       "  <th>x1</th>    <td>    4.0555</td> <td>    1.173</td> <td>    3.458</td> <td> 0.001</td> <td>    1.724</td> <td>    6.387</td>\n",
       "</tr>\n",
       "<tr>\n",
       "  <th>x2</th>    <td>  -33.9985</td> <td>    2.751</td> <td>  -12.357</td> <td> 0.000</td> <td>  -39.468</td> <td>  -28.529</td>\n",
       "</tr>\n",
       "<tr>\n",
       "  <th>x3</th>    <td>    7.8830</td> <td>    2.539</td> <td>    3.105</td> <td> 0.003</td> <td>    2.837</td> <td>   12.929</td>\n",
       "</tr>\n",
       "<tr>\n",
       "  <th>x4</th>    <td>   34.3859</td> <td>    1.614</td> <td>   21.311</td> <td> 0.000</td> <td>   31.178</td> <td>   37.594</td>\n",
       "</tr>\n",
       "<tr>\n",
       "  <th>x5</th>    <td>   -1.1955</td> <td>    3.437</td> <td>   -0.348</td> <td> 0.729</td> <td>   -8.029</td> <td>    5.638</td>\n",
       "</tr>\n",
       "</table>\n",
       "<table class=\"simpletable\">\n",
       "<tr>\n",
       "  <th>Omnibus:</th>       <td> 3.610</td> <th>  Durbin-Watson:     </th> <td>   1.865</td>\n",
       "</tr>\n",
       "<tr>\n",
       "  <th>Prob(Omnibus):</th> <td> 0.165</td> <th>  Jarque-Bera (JB):  </th> <td>   3.201</td>\n",
       "</tr>\n",
       "<tr>\n",
       "  <th>Skew:</th>          <td> 0.455</td> <th>  Prob(JB):          </th> <td>   0.202</td>\n",
       "</tr>\n",
       "<tr>\n",
       "  <th>Kurtosis:</th>      <td> 3.077</td> <th>  Cond. No.          </th> <td>    16.5</td>\n",
       "</tr>\n",
       "</table><br/><br/>Warnings:<br/>[1] Standard Errors assume that the covariance matrix of the errors is correctly specified."
      ],
      "text/plain": [
       "<class 'statsmodels.iolib.summary.Summary'>\n",
       "\"\"\"\n",
       "                            OLS Regression Results                            \n",
       "==============================================================================\n",
       "Dep. Variable:                 MYF_LH   R-squared:                       0.885\n",
       "Model:                            OLS   Adj. R-squared:                  0.878\n",
       "Method:                 Least Squares   F-statistic:                     132.1\n",
       "Date:                Thu, 14 Feb 2019   Prob (F-statistic):           8.11e-39\n",
       "Time:                        19:26:13   Log-Likelihood:                -278.55\n",
       "No. Observations:                  92   AIC:                             569.1\n",
       "Df Residuals:                      86   BIC:                             584.2\n",
       "Df Model:                           5                                         \n",
       "Covariance Type:            nonrobust                                         \n",
       "==============================================================================\n",
       "                 coef    std err          t      P>|t|      [0.025      0.975]\n",
       "------------------------------------------------------------------------------\n",
       "const         41.4404      0.539     76.915      0.000      40.369      42.511\n",
       "x1             4.0555      1.173      3.458      0.001       1.724       6.387\n",
       "x2           -33.9985      2.751    -12.357      0.000     -39.468     -28.529\n",
       "x3             7.8830      2.539      3.105      0.003       2.837      12.929\n",
       "x4            34.3859      1.614     21.311      0.000      31.178      37.594\n",
       "x5            -1.1955      3.437     -0.348      0.729      -8.029       5.638\n",
       "==============================================================================\n",
       "Omnibus:                        3.610   Durbin-Watson:                   1.865\n",
       "Prob(Omnibus):                  0.165   Jarque-Bera (JB):                3.201\n",
       "Skew:                           0.455   Prob(JB):                        0.202\n",
       "Kurtosis:                       3.077   Cond. No.                         16.5\n",
       "==============================================================================\n",
       "\n",
       "Warnings:\n",
       "[1] Standard Errors assume that the covariance matrix of the errors is correctly specified.\n",
       "\"\"\""
      ]
     },
     "execution_count": 82,
     "metadata": {},
     "output_type": "execute_result"
    }
   ],
   "source": [
    "X = sm.add_constant(X) ## let's add an intercept (beta_0) to our model\n",
    "\n",
    "# Note the difference in argument order\n",
    "model = sm.OLS(y, X).fit() ## sm.OLS(output, input)\n",
    "predictions = model.predict(X)\n",
    "\n",
    "# Print out the statistics\n",
    "model.summary()"
   ]
  },
  {
   "cell_type": "code",
   "execution_count": 7,
   "metadata": {
    "ExecuteTime": {
     "end_time": "2019-02-15T08:50:13.361435Z",
     "start_time": "2019-02-15T08:50:13.053466Z"
    }
   },
   "outputs": [],
   "source": [
    "df1['ym_LH'] = df1['YM'] / df1['Male']"
   ]
  },
  {
   "cell_type": "code",
   "execution_count": 12,
   "metadata": {
    "ExecuteTime": {
     "end_time": "2019-02-15T08:52:57.814215Z",
     "start_time": "2019-02-15T08:52:57.748169Z"
    }
   },
   "outputs": [
    {
     "data": {
      "text/html": [
       "<div>\n",
       "<style scoped>\n",
       "    .dataframe tbody tr th:only-of-type {\n",
       "        vertical-align: middle;\n",
       "    }\n",
       "\n",
       "    .dataframe tbody tr th {\n",
       "        vertical-align: top;\n",
       "    }\n",
       "\n",
       "    .dataframe thead th {\n",
       "        text-align: right;\n",
       "    }\n",
       "</style>\n",
       "<table border=\"1\" class=\"dataframe\">\n",
       "  <thead>\n",
       "    <tr style=\"text-align: right;\">\n",
       "      <th></th>\n",
       "      <th>Locality</th>\n",
       "      <th>partno1</th>\n",
       "      <th>Male</th>\n",
       "      <th>Female</th>\n",
       "      <th>Coffee.shops</th>\n",
       "      <th>Salon</th>\n",
       "      <th>buy</th>\n",
       "      <th>rent</th>\n",
       "      <th>yf_LH</th>\n",
       "      <th>ratio</th>\n",
       "      <th>m_dist</th>\n",
       "      <th>r_dist</th>\n",
       "      <th>Class</th>\n",
       "      <th>F2M_cat</th>\n",
       "      <th>Married_F</th>\n",
       "      <th>YF</th>\n",
       "      <th>MYF</th>\n",
       "      <th>MYF_LH</th>\n",
       "      <th>YM</th>\n",
       "      <th>ym_LH</th>\n",
       "    </tr>\n",
       "  </thead>\n",
       "  <tbody>\n",
       "    <tr>\n",
       "      <th>0</th>\n",
       "      <td>satyaniketan</td>\n",
       "      <td>1</td>\n",
       "      <td>660</td>\n",
       "      <td>588</td>\n",
       "      <td>10</td>\n",
       "      <td>4</td>\n",
       "      <td>9200</td>\n",
       "      <td>49.0</td>\n",
       "      <td>36.564626</td>\n",
       "      <td>0.890909</td>\n",
       "      <td>7.52</td>\n",
       "      <td>-7.52</td>\n",
       "      <td>B_class</td>\n",
       "      <td>Fair_ratio</td>\n",
       "      <td>427</td>\n",
       "      <td>209</td>\n",
       "      <td>76</td>\n",
       "      <td>36.363636</td>\n",
       "      <td>256</td>\n",
       "      <td>0.387879</td>\n",
       "    </tr>\n",
       "    <tr>\n",
       "      <th>1</th>\n",
       "      <td>satyaniketan</td>\n",
       "      <td>2</td>\n",
       "      <td>486</td>\n",
       "      <td>480</td>\n",
       "      <td>10</td>\n",
       "      <td>4</td>\n",
       "      <td>9200</td>\n",
       "      <td>49.0</td>\n",
       "      <td>29.583333</td>\n",
       "      <td>0.987654</td>\n",
       "      <td>7.52</td>\n",
       "      <td>-7.52</td>\n",
       "      <td>B_class</td>\n",
       "      <td>Fair_ratio</td>\n",
       "      <td>342</td>\n",
       "      <td>139</td>\n",
       "      <td>39</td>\n",
       "      <td>28.057554</td>\n",
       "      <td>153</td>\n",
       "      <td>0.314815</td>\n",
       "    </tr>\n",
       "    <tr>\n",
       "      <th>2</th>\n",
       "      <td>Nanakpura</td>\n",
       "      <td>6</td>\n",
       "      <td>514</td>\n",
       "      <td>442</td>\n",
       "      <td>3</td>\n",
       "      <td>2</td>\n",
       "      <td>0</td>\n",
       "      <td>0.0</td>\n",
       "      <td>42.986425</td>\n",
       "      <td>0.859922</td>\n",
       "      <td>1.22</td>\n",
       "      <td>-1.22</td>\n",
       "      <td>B_class</td>\n",
       "      <td>Fair_ratio</td>\n",
       "      <td>338</td>\n",
       "      <td>186</td>\n",
       "      <td>98</td>\n",
       "      <td>52.688172</td>\n",
       "      <td>217</td>\n",
       "      <td>0.422179</td>\n",
       "    </tr>\n",
       "    <tr>\n",
       "      <th>3</th>\n",
       "      <td>Nanakpura</td>\n",
       "      <td>7</td>\n",
       "      <td>456</td>\n",
       "      <td>370</td>\n",
       "      <td>3</td>\n",
       "      <td>2</td>\n",
       "      <td>0</td>\n",
       "      <td>0.0</td>\n",
       "      <td>41.621622</td>\n",
       "      <td>0.811404</td>\n",
       "      <td>1.22</td>\n",
       "      <td>-1.22</td>\n",
       "      <td>B_class</td>\n",
       "      <td>Fair_ratio</td>\n",
       "      <td>295</td>\n",
       "      <td>150</td>\n",
       "      <td>90</td>\n",
       "      <td>60.000000</td>\n",
       "      <td>211</td>\n",
       "      <td>0.462719</td>\n",
       "    </tr>\n",
       "    <tr>\n",
       "      <th>4</th>\n",
       "      <td>Nanakpura</td>\n",
       "      <td>8</td>\n",
       "      <td>446</td>\n",
       "      <td>387</td>\n",
       "      <td>3</td>\n",
       "      <td>3</td>\n",
       "      <td>0</td>\n",
       "      <td>0.0</td>\n",
       "      <td>53.488372</td>\n",
       "      <td>0.867713</td>\n",
       "      <td>2.99</td>\n",
       "      <td>-2.99</td>\n",
       "      <td>B_class</td>\n",
       "      <td>Fair_ratio</td>\n",
       "      <td>290</td>\n",
       "      <td>198</td>\n",
       "      <td>116</td>\n",
       "      <td>58.585859</td>\n",
       "      <td>231</td>\n",
       "      <td>0.517937</td>\n",
       "    </tr>\n",
       "  </tbody>\n",
       "</table>\n",
       "</div>"
      ],
      "text/plain": [
       "       Locality  partno1  Male  Female  Coffee.shops  Salon   buy  rent  \\\n",
       "0  satyaniketan        1   660     588            10      4  9200  49.0   \n",
       "1  satyaniketan        2   486     480            10      4  9200  49.0   \n",
       "2     Nanakpura        6   514     442             3      2     0   0.0   \n",
       "3     Nanakpura        7   456     370             3      2     0   0.0   \n",
       "4     Nanakpura        8   446     387             3      3     0   0.0   \n",
       "\n",
       "       yf_LH     ratio  m_dist  r_dist    Class     F2M_cat  Married_F   YF  \\\n",
       "0  36.564626  0.890909    7.52   -7.52  B_class  Fair_ratio        427  209   \n",
       "1  29.583333  0.987654    7.52   -7.52  B_class  Fair_ratio        342  139   \n",
       "2  42.986425  0.859922    1.22   -1.22  B_class  Fair_ratio        338  186   \n",
       "3  41.621622  0.811404    1.22   -1.22  B_class  Fair_ratio        295  150   \n",
       "4  53.488372  0.867713    2.99   -2.99  B_class  Fair_ratio        290  198   \n",
       "\n",
       "   MYF     MYF_LH   YM     ym_LH  \n",
       "0   76  36.363636  256  0.387879  \n",
       "1   39  28.057554  153  0.314815  \n",
       "2   98  52.688172  217  0.422179  \n",
       "3   90  60.000000  211  0.462719  \n",
       "4  116  58.585859  231  0.517937  "
      ]
     },
     "execution_count": 12,
     "metadata": {},
     "output_type": "execute_result"
    }
   ],
   "source": [
    "df1.head()"
   ]
  },
  {
   "cell_type": "code",
   "execution_count": 25,
   "metadata": {
    "ExecuteTime": {
     "end_time": "2019-02-16T05:54:05.425883Z",
     "start_time": "2019-02-16T05:54:05.131338Z"
    }
   },
   "outputs": [
    {
     "data": {
      "text/plain": [
       "<matplotlib.collections.PathCollection at 0x7fe10ef070b8>"
      ]
     },
     "execution_count": 25,
     "metadata": {},
     "output_type": "execute_result"
    },
    {
     "data": {
      "image/png": "[encoded data removed]",
      "text/plain": [
       "<Figure size 432x288 with 1 Axes>"
      ]
     },
     "metadata": {
      "needs_background": "light"
     },
     "output_type": "display_data"
    }
   ],
   "source": [
    "plt.scatter(x=df1['ym_LH'], y=df1['yf_LH'])"
   ]
  },
  {
   "cell_type": "code",
   "execution_count": 21,
   "metadata": {
    "ExecuteTime": {
     "end_time": "2019-02-15T08:56:38.583002Z",
     "start_time": "2019-02-15T08:56:38.205838Z"
    }
   },
   "outputs": [
    {
     "data": {
      "text/plain": [
       "<matplotlib.collections.PathCollection at 0x7fe11062f278>"
      ]
     },
     "execution_count": 21,
     "metadata": {},
     "output_type": "execute_result"
    },
    {
     "data": {
      "image/png": "[encoded data removed]",
      "text/plain": [
       "<Figure size 864x432 with 1 Axes>"
      ]
     },
     "metadata": {
      "needs_background": "light"
     },
     "output_type": "display_data"
    }
   ],
   "source": [
    "plt.figure(figsize=(12, 6))\n",
    "plt.xlabel('Female to male ratio')\n",
    "plt.ylabel('Young Male Likelihood')\n",
    "plt.scatter(x=df1['ratio'], y=df1['ym_LH'])"
   ]
  },
  {
   "cell_type": "code",
   "execution_count": 23,
   "metadata": {
    "ExecuteTime": {
     "end_time": "2019-02-15T09:57:12.286061Z",
     "start_time": "2019-02-15T09:57:11.917091Z"
    }
   },
   "outputs": [
    {
     "data": {
      "text/plain": [
       "<matplotlib.collections.PathCollection at 0x7fe11048ffd0>"
      ]
     },
     "execution_count": 23,
     "metadata": {},
     "output_type": "execute_result"
    },
    {
     "data": {
      "image/png": "[encoded data removed]",
      "text/plain": [
       "<Figure size 864x432 with 1 Axes>"
      ]
     },
     "metadata": {
      "needs_background": "light"
     },
     "output_type": "display_data"
    }
   ],
   "source": [
    "plt.figure(figsize=(12, 6))\n",
    "plt.xlabel('Relative distance')\n",
    "plt.ylabel('Young Male Likelihood')\n",
    "plt.scatter(x=df1['r_dist'], y=df1['ym_LH'])"
   ]
  }
 ],
 "metadata": {
  "kernelspec": {
   "display_name": "Python 3",
   "language": "python",
   "name": "python3"
  },
  "language_info": {
   "codemirror_mode": {
    "name": "ipython",
    "version": 3
   },
   "file_extension": ".py",
   "mimetype": "text/x-python",
   "name": "python",
   "nbconvert_exporter": "python",
   "pygments_lexer": "ipython3",
   "version": "3.7.2"
  }
 },
 "nbformat": 4,
 "nbformat_minor": 2
}
