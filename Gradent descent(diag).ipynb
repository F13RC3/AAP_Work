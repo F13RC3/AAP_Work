{
 "cells": [
  {
   "cell_type": "code",
   "execution_count": 2,
   "metadata": {},
   "outputs": [],
   "source": [
    "import numpy as np\n",
    "import matplotlib.pyplot as plt\n",
    "import random\n",
    "%matplotlib inline"
   ]
  },
  {
   "cell_type": "code",
   "execution_count": 3,
   "metadata": {},
   "outputs": [
    {
     "name": "stdout",
     "output_type": "stream",
     "text": [
      "\n",
      "Values of THETA after 1000 Iteration is = \n",
      "\n",
      "[0.17752803 4.69234365]\n"
     ]
    },
    {
     "data": {
      "text/plain": [
       "[<matplotlib.lines.Line2D at 0x1b468b92c50>]"
      ]
     },
     "execution_count": 3,
     "metadata": {},
     "output_type": "execute_result"
    },
    {
     "data": {
      "image/png": "[encoded data removed]",
      "text/plain": [
       "<Figure size 432x288 with 1 Axes>"
      ]
     },
     "metadata": {},
     "output_type": "display_data"
    }
   ],
   "source": [
    "# Function for generating data\n",
    "def gen_data(rows, bias, variance):\n",
    "    X = np.zeros(shape = (rows, 2))\n",
    "    y = np.zeros(shape = rows)\n",
    "#     X[i][1] = np.linspace(0, 1, 1)\n",
    "    for i in range(0, rows):\n",
    "        X[i][0] = 1\n",
    "        X[i][1] = random.uniform(0, 1)\n",
    "#         X[i][2] = i+1 # use for multi variable if u want n then change X shape or column to n and also \n",
    "        #and add values to those column here,...........PEACE OUT\n",
    "#         y[i] = 5 + X[i][1] \n",
    "    \n",
    "    return X\n",
    "\n",
    "# Gradient descent main Function\n",
    "def grad_desc(X, y, alpha, num_iter, theta, m):\n",
    "    \n",
    "    X_trans = X.T\n",
    "    \n",
    "    for i in range(0, num_iter):\n",
    "        prediction = np.dot(X, theta)\n",
    "        error = prediction - y\n",
    "        cost = np.sum(error**2) / (2*m) # Cost Function though i wont be printing it\n",
    "#         print(\"Iteration : %d | Cost : %f\" %(i, cost))\n",
    "        # Calculation for gradient descent starts now\n",
    "        gradient = np.dot(X_trans, error) / m\n",
    "        theta = theta - alpha * gradient\n",
    "    \n",
    "    return theta, prediction\n",
    "\n",
    "X = gen_data(100, 25, 10)\n",
    "X[:,1] = np.linspace(0, 1, 100)\n",
    "noise = np.random.randn(100)\n",
    "y = 5*X[:,1] + noise\n",
    "m, n = np.shape(X)\n",
    "theta = np.ones(n)\n",
    "num_iter = 1000 # number of iteration u want to perform feel free to change it as much as u want\n",
    "alpha = 0.09 #Alpha or so called learning factor\n",
    "theta, h = grad_desc(X, y, alpha, num_iter, theta, m)\n",
    "print(\"\\nValues of THETA after \"+str(num_iter)+\" Iteration is = \\n\")\n",
    "print(theta)\n",
    "\n",
    "plt.scatter(X[:,1], y)\n",
    "# print(X)\n",
    "plt.plot(X[:,1], h)"
   ]
  }
 ],
 "metadata": {
  "kernelspec": {
   "display_name": "Python 3",
   "language": "python",
   "name": "python3"
  },
  "language_info": {
   "codemirror_mode": {
    "name": "ipython",
    "version": 3
   },
   "file_extension": ".py",
   "mimetype": "text/x-python",
   "name": "python",
   "nbconvert_exporter": "python",
   "pygments_lexer": "ipython3",
   "version": "3.6.5"
  }
 },
 "nbformat": 4,
 "nbformat_minor": 2
}
