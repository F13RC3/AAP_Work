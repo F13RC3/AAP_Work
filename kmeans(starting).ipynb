{
 "cells": [
  {
   "cell_type": "code",
   "execution_count": 2,
   "metadata": {},
   "outputs": [],
   "source": [
    "import numpy as np\n",
    "import matplotlib.pyplot as plt\n",
    "from sklearn.datasets import make_blobs\n",
    "from matplotlib import style\n",
    "style.use('ggplot')\n",
    "%matplotlib inline"
   ]
  },
  {
   "cell_type": "code",
   "execution_count": 14,
   "metadata": {},
   "outputs": [
    {
     "name": "stdout",
     "output_type": "stream",
     "text": [
      "141.93031366947855\n",
      "4.812654653416985\n",
      "{0: array([ 0.70353328, -4.52767455]), 1: array([-9.52981151, -7.69781936]), 2: array([-1.72134158,  6.61045437])}\n"
     ]
    },
    {
     "data": {
      "image/png": "[encoded data removed]",
      "text/plain": [
       "<Figure size 432x288 with 1 Axes>"
      ]
     },
     "metadata": {},
     "output_type": "display_data"
    }
   ],
   "source": [
    "X, y = make_blobs(n_samples=100, n_features=2, centers=3, cluster_std = 1.0, random_state=100)\n",
    "\n",
    "colors = [\"b\",\"r\",\"g\",\"c\",\"k\"]\n",
    "\n",
    "# plt.scatter(X[:,0], X[:,1], c=y)\n",
    "class K_means():\n",
    "    def __init__(self, k=5, tol=0.001, max_iter=300):\n",
    "        self.k = k\n",
    "        self.tol = tol\n",
    "        self.max_iter = max_iter\n",
    "    \n",
    "    def fit(self, data):\n",
    "        \n",
    "        self.centroids = {}\n",
    "        \n",
    "#         for i in range(self.k):\n",
    "        self.centroids[0] = data[0]\n",
    "        self.centroids[1] = data[1]\n",
    "        self.centroids[2] = data[2]\n",
    "        \n",
    "        for i in range(self.max_iter):\n",
    "            \n",
    "            self.classifications = {}\n",
    "            \n",
    "#             for i in range(self.k):\n",
    "            \n",
    "            self.classifications[0] = []\n",
    "            self.classifications[1] = []\n",
    "            self.classifications[2] = []\n",
    "                \n",
    "            for featureset in data:\n",
    "                \n",
    "                distances = [np.linalg.norm( featureset - self.centroids[centroid]) for centroid in self.centroids]\n",
    "                classification = distances.index(min(distances))\n",
    "                self.classifications[classification].append(featureset)\n",
    "#                 print(self.classifications)\n",
    "                \n",
    "                \n",
    "            prev_centroid = dict(self.centroids)\n",
    "            \n",
    "            for classification in self.classifications:\n",
    "                self.centroids[classification] = np.average(self.classifications[classification],axis=0)\n",
    "                \n",
    "            optimized = True\n",
    "            \n",
    "            for c in self.centroids:\n",
    "                original_centroid = prev_centroid[c]\n",
    "                current_centroid = self.centroids[c]\n",
    "                if np.sum((current_centroid-original_centroid)/original_centroid*100) > self.tol:\n",
    "                    print(np.sum((current_centroid-original_centroid)/original_centroid*100))\n",
    "                    optimized = False\n",
    "                \n",
    "            if optimized:\n",
    "                break\n",
    "    \n",
    "    def predict(self, data):\n",
    "        distances = [np.linalg.norm( data - self.centroids[centroid]) for centroid in self.centroids]\n",
    "        classification = distance.index(min(distances))\n",
    "        return classifications\n",
    "\n",
    "clf = K_means()\n",
    "clf.fit(X)\n",
    "print(clf.centroids) #centroids\n",
    "for centroid in clf.centroids:\n",
    "    plt.scatter(clf.centroids[centroid][0],clf.centroids[centroid][1], marker = \"o\", s = 150, color = \"k\")\n",
    "    \n",
    "for classification in clf.classifications:\n",
    "    color = colors[classification]\n",
    "    for featureset in clf.classifications[classification]:\n",
    "        plt.scatter(featureset[0], featureset[1], marker = \"x\", s = 50, color = color)\n",
    "        \n"
   ]
  },
  {
   "cell_type": "code",
   "execution_count": null,
   "metadata": {},
   "outputs": [],
   "source": []
  }
 ],
 "metadata": {
  "kernelspec": {
   "display_name": "Python 3",
   "language": "python",
   "name": "python3"
  },
  "language_info": {
   "codemirror_mode": {
    "name": "ipython",
    "version": 3
   },
   "file_extension": ".py",
   "mimetype": "text/x-python",
   "name": "python",
   "nbconvert_exporter": "python",
   "pygments_lexer": "ipython3",
   "version": "3.6.6"
  }
 },
 "nbformat": 4,
 "nbformat_minor": 2
}
