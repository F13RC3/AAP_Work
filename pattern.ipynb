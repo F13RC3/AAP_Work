{
 "cells": [
  {
   "cell_type": "code",
   "execution_count": 1,
   "metadata": {
    "ExecuteTime": {
     "end_time": "2018-09-25T14:43:25.664652Z",
     "start_time": "2018-09-25T14:43:25.641592Z"
    }
   },
   "outputs": [
    {
     "name": "stdout",
     "output_type": "stream",
     "text": [
      "                    1 \n",
      "\n",
      "                  1 2 1 \n",
      "\n",
      "                1 2 3 2 1 \n",
      "\n",
      "              1 2 3 4 3 2 1 \n",
      "\n",
      "            1 2 3 4 5 4 3 2 1 \n",
      "\n",
      "          1 2 3 4 5 6 5 4 3 2 1 \n",
      "\n",
      "        1 2 3 4 5 6 7 6 5 4 3 2 1 \n",
      "\n",
      "      1 2 3 4 5 6 7 8 7 6 5 4 3 2 1 \n",
      "\n",
      "    1 2 3 4 5 6 7 8 9 8 7 6 5 4 3 2 1 \n",
      "\n",
      "  1 2 3 4 5 6 7 8 9 10 9 8 7 6 5 4 3 2 1 \n",
      "\n"
     ]
    }
   ],
   "source": [
    "for i in range(1, 11):\n",
    "    for j in range(11 - i):\n",
    "        print(\" \", end = \" \")\n",
    "    for j in range(1, i):\n",
    "#         continue\n",
    "        print(j, end = \" \")\n",
    "    for j in range(i, 0, -1):\n",
    "        print(j, end = \" \")\n",
    "    print(\"\\n\")"
   ]
  },
  {
   "cell_type": "code",
   "execution_count": 2,
   "metadata": {
    "ExecuteTime": {
     "end_time": "2018-09-25T14:43:33.211078Z",
     "start_time": "2018-09-25T14:43:26.862759Z"
    }
   },
   "outputs": [
    {
     "name": "stdout",
     "output_type": "stream",
     "text": [
      "Enter your name : ashish\n",
      "Enter the character for which u want the count for :s\n",
      "s appeared : 2 times\n"
     ]
    }
   ],
   "source": [
    "name = input(\"Enter your name : \")\n",
    "# print(name[0])\n",
    "c = 0\n",
    "count = input(\"Enter the character for which u want the count for :\")\n",
    "for i in range(len(name)):\n",
    "    if count == name[i]:\n",
    "        c += 1\n",
    "for i in range(len(name)):\n",
    "    if count == name[i]:\n",
    "        print(name[i]+\" appeared :\",c,\"times\")\n",
    "        break"
   ]
  },
  {
   "cell_type": "code",
   "execution_count": 3,
   "metadata": {
    "ExecuteTime": {
     "end_time": "2018-09-25T14:43:40.931193Z",
     "start_time": "2018-09-25T14:43:36.850704Z"
    }
   },
   "outputs": [
    {
     "name": "stdout",
     "output_type": "stream",
     "text": [
      "Enter your name : ashish kumar rout\n",
      "a 2\n",
      "s 2\n",
      "h 2\n",
      "u 2\n",
      "r 2\n",
      "i 1\n",
      "k 1\n",
      "m 1\n",
      "o 1\n",
      "t 1\n"
     ]
    }
   ],
   "source": [
    "# write a program to find no of itereation of every char present in a senetce or word\n",
    "import operator\n",
    "name = input(\"Enter your name : \")\n",
    "name_list = list(name)\n",
    "char_count = {}\n",
    "# print(name_list)\n",
    "for char in name_list:\n",
    "    if char in char_count:\n",
    "        char_count[char] += 1\n",
    "    else:\n",
    "        char_count[char] = 1\n",
    "del char_count[\" \"]\n",
    "for key, values in sorted(char_count.items(), key = operator.itemgetter(1),reverse=True):\n",
    "    print(key, values)\n",
    "#     break\n",
    "# for k, v in char_count.items():\n",
    "#     print(k,v)"
   ]
  },
  {
   "cell_type": "code",
   "execution_count": 4,
   "metadata": {
    "ExecuteTime": {
     "end_time": "2018-09-25T14:43:44.548731Z",
     "start_time": "2018-09-25T14:43:44.520106Z"
    }
   },
   "outputs": [
    {
     "name": "stdout",
     "output_type": "stream",
     "text": [
      "        * \n",
      "\n",
      "      * * * \n",
      "\n",
      "    * * * * * \n",
      "\n",
      "  * * * * * * * \n",
      "\n",
      "* * * * * * * * * \n",
      "\n",
      "  * * * * * * * \n",
      "\n",
      "    * * * * * \n",
      "\n",
      "      * * * \n",
      "\n",
      "        * \n",
      "\n"
     ]
    }
   ],
   "source": [
    "for i in range(1, 6):\n",
    "    for j in range(5-i):\n",
    "        print(\" \", end = \" \")\n",
    "    for j in range(1, i):\n",
    "        print(\"*\", end=\" \")\n",
    "    for j in range(i, 0, -1):\n",
    "        print(\"*\", end=\" \")\n",
    "    print(\"\\n\")\n",
    "for i in range(4, 0, -1):\n",
    "    for j in range(5-i):\n",
    "        print(\" \", end=\" \")\n",
    "    for j in range(1, i):\n",
    "        print(\"*\", end=\" \")\n",
    "    for j in range(i, 0, -1):\n",
    "        print(\"*\", end=\" \")\n",
    "    print(\"\\n\")"
   ]
  },
  {
   "cell_type": "code",
   "execution_count": 5,
   "metadata": {
    "ExecuteTime": {
     "end_time": "2018-09-25T14:43:49.851827Z",
     "start_time": "2018-09-25T14:43:49.822935Z"
    }
   },
   "outputs": [
    {
     "name": "stdout",
     "output_type": "stream",
     "text": [
      "           *\n",
      "\n",
      "      *        *\n",
      "\n",
      "    *            *\n",
      "\n",
      "  *                *\n",
      "\n",
      "*                    *\n",
      "\n",
      "  *               * \n",
      "\n",
      "    *           * \n",
      "\n",
      "      *       * \n",
      "\n",
      "          * \n",
      "\n"
     ]
    }
   ],
   "source": [
    "for i in range(1, 6):\n",
    "    for j in range(5-i):\n",
    "        print(\" \", end = \" \")\n",
    "    for j in range(1, i):\n",
    "        print(\"*\", end=\" \")\n",
    "        for k in range(1, i):\n",
    "            print(\" \",end=\" \")\n",
    "        break\n",
    "    for j in range(i, 0, -1):\n",
    "        for k in range(i, 0, -1):\n",
    "            print(\" \",end=\" \")\n",
    "        print(\" \", end=\"*\")\n",
    "        break\n",
    "    print(\"\\n\")\n",
    "for i in range(4, 0, -1):\n",
    "    for j in range(5-i):\n",
    "        print(\" \", end=\" \")\n",
    "    for j in range(1, i):\n",
    "        print(\"*\", end=\" \")\n",
    "        for k in range(1, i):\n",
    "            print(\" \",end=\" \")\n",
    "        break\n",
    "    for j in range(i, 0, -1):\n",
    "        for k in range(i, 0, -1):\n",
    "            print(\" \",end=\" \")\n",
    "        print(\"*\", end=\" \") \n",
    "        break\n",
    "    print(\"\\n\")"
   ]
  },
  {
   "cell_type": "code",
   "execution_count": 6,
   "metadata": {
    "ExecuteTime": {
     "end_time": "2018-09-25T14:43:52.624452Z",
     "start_time": "2018-09-25T14:43:52.606708Z"
    }
   },
   "outputs": [
    {
     "name": "stdout",
     "output_type": "stream",
     "text": [
      "           *\n",
      "\n",
      "      *        *\n",
      "\n",
      "    *   *    *   *\n",
      "\n",
      "  *                *\n",
      "\n",
      "*                    *\n",
      "\n"
     ]
    }
   ],
   "source": [
    "for i in range(1, 6):\n",
    "    for j in range(5-i):\n",
    "        print(\" \", end = \" \")\n",
    "    for j in range(1, i):\n",
    "        print(\"*\", end=\" \")\n",
    "        for k in range(1, i):\n",
    "            print(\" \",end=\" \")\n",
    "            if i == 3:\n",
    "                print(\"*\",end=\"  \")            \n",
    "        break\n",
    "    for j in range(i, 0, -1):\n",
    "        for k in range(i, 0, -1):\n",
    "            if i == 3:\n",
    "#                 print(\" \")\n",
    "                continue\n",
    "            print(\" \",end=\" \")\n",
    "#             if i == 3:\n",
    "#                 print(\"*\",end=\"\")     \n",
    "        print(\" \", end=\"*\")\n",
    "        break\n",
    "    print(\"\\n\")"
   ]
  },
  {
   "cell_type": "code",
   "execution_count": 5,
   "metadata": {
    "ExecuteTime": {
     "end_time": "2018-10-02T05:52:47.136184Z",
     "start_time": "2018-10-02T05:52:45.733689Z"
    }
   },
   "outputs": [
    {
     "name": "stdout",
     "output_type": "stream",
     "text": [
      "Enter a number till which u want to print the series20\n",
      "[0, 0, 2, 1, 4, 2, 6, 3, 8, 4, 10, 5, 12, 6, 14, 7, 16, 8, 18, 9]\n"
     ]
    }
   ],
   "source": [
    "n = int(input(\"Enter a number till which u want to print the series\"))\n",
    "a = [0]* n\n",
    "for i in range(0, n):\n",
    "    if i%2 == 0:\n",
    "        a[i] = i\n",
    "    else:\n",
    "        a[i] = int(a[i-1]/2)\n",
    "print(a)"
   ]
  },
  {
   "cell_type": "code",
   "execution_count": 8,
   "metadata": {
    "ExecuteTime": {
     "end_time": "2018-09-25T14:44:12.012632Z",
     "start_time": "2018-09-25T14:44:09.699288Z"
    }
   },
   "outputs": [
    {
     "name": "stdout",
     "output_type": "stream",
     "text": [
      "Enter the length of pascal triangle : 6\n",
      "               1 \n",
      "\n",
      "             1   1 \n",
      "\n",
      "           1   2   1 \n",
      "\n",
      "         1   3   3   1 \n",
      "\n",
      "       1   4   6   4   1 \n",
      "\n",
      "     1   5   10   10   5   1 \n",
      "\n"
     ]
    }
   ],
   "source": [
    "# Pascal Triangle\n",
    "n = int(input(\"Enter the length of pascal triangle : \"))\n",
    "a = []\n",
    "for i in range(n):\n",
    "    a.append([])\n",
    "    a[i].append(1)\n",
    "    for j in range(1, i):\n",
    "        a[i].append(a[i-1][j-1] + a[i-1][j])\n",
    "    if n!= 0:\n",
    "        a[i].append(1)\n",
    "# print(a)\n",
    "for i in range(n):\n",
    "    print(\"  \"*(n-i),end=\" \",sep=\" \")\n",
    "    for j in range(0, i+1):\n",
    "        print(\" \", a[i][j], end=\" \",sep=\" \")\n",
    "    print(\"\\n\")"
   ]
  },
  {
   "cell_type": "code",
   "execution_count": 5,
   "metadata": {
    "ExecuteTime": {
     "end_time": "2018-09-25T14:59:34.815558Z",
     "start_time": "2018-09-25T14:59:34.807477Z"
    }
   },
   "outputs": [
    {
     "name": "stdout",
     "output_type": "stream",
     "text": [
      "6\n",
      "7\n"
     ]
    }
   ],
   "source": [
    "# Black stone question at the 1st round\n",
    "a = [1, 2, 3 , 4, 5]\n",
    "b = [4, 5, 6, 7, 1]\n",
    "\n",
    "for i in range(len(a)):\n",
    "    for j in range(len(a)):\n",
    "        if b[i] == a[j]:\n",
    "            b[i] = 0\n",
    "        else:\n",
    "            continue\n",
    "for i in range(len(a)):\n",
    "    if b[i] == 0:\n",
    "        continue\n",
    "    else:\n",
    "        print(b[i])"
   ]
  },
  {
   "cell_type": "code",
   "execution_count": 30,
   "metadata": {
    "ExecuteTime": {
     "end_time": "2018-10-13T13:06:18.951607Z",
     "start_time": "2018-10-13T13:06:18.931886Z"
    },
    "scrolled": true
   },
   "outputs": [
    {
     "name": "stdout",
     "output_type": "stream",
     "text": [
      "* * * * * * * * \n",
      "\n",
      "* * *     * * * \n",
      "\n",
      "* *         * * \n",
      "\n",
      "*             * \n",
      "\n",
      "* * * * \n",
      "\n",
      "*     * * * \n",
      "\n",
      "* *         * * \n",
      "\n",
      "* * *             * \n",
      "\n"
     ]
    }
   ],
   "source": [
    "for i in range(0,4):\n",
    "    for j in range(4-i):\n",
    "        print(\"*\",end=\" \")\n",
    "    for k in range(i):\n",
    "        print(\"  \", end=\"  \")\n",
    "    for j in range(4-i):\n",
    "        print(\"*\", end=\" \")\n",
    "    print(\"\\n\")\n",
    "for i in range(0,4):\n",
    "    for j in range(i):\n",
    "        print(\"*\",end=\" \")\n",
    "    for k in range(i):\n",
    "        print(\"  \", end=\"  \")\n",
    "    for j in range(4-i):\n",
    "        print(\"*\",end=\" \")\n",
    "    print(\"\\n\")"
   ]
  },
  {
   "cell_type": "code",
   "execution_count": 1,
   "metadata": {
    "ExecuteTime": {
     "end_time": "2018-10-14T14:32:10.939173Z",
     "start_time": "2018-10-14T14:32:10.928065Z"
    }
   },
   "outputs": [
    {
     "name": "stdout",
     "output_type": "stream",
     "text": [
      "* * * * * * * * \n",
      "\n",
      "* * *     * * * \n",
      "\n",
      "* *         * * \n",
      "\n",
      "*             * \n",
      "\n",
      "* *         * * \n",
      "\n",
      "* * *     * * * \n",
      "\n",
      "* * * * * * * * \n",
      "\n"
     ]
    }
   ],
   "source": [
    "for i in range(0,4):\n",
    "    for j in range(4-i):\n",
    "        print(\"*\",end=\" \")\n",
    "    for k in range(i):\n",
    "        print(\"  \", end=\"  \")\n",
    "    for j in range(4-i):\n",
    "        print(\"*\", end=\" \")\n",
    "    print(\"\\n\")\n",
    "for i in range(2,5):\n",
    "    for j in range(i, 0, -1):\n",
    "        print(\"*\",end=\" \")\n",
    "    for k in range(4-i):\n",
    "        print(\"  \", end=\"  \")\n",
    "    for j in range(i, 0, -1):\n",
    "        print(\"*\",end=\" \")\n",
    "    print(\"\\n\")"
   ]
  },
  {
   "cell_type": "code",
   "execution_count": 53,
   "metadata": {
    "ExecuteTime": {
     "end_time": "2018-10-14T15:35:21.129566Z",
     "start_time": "2018-10-14T15:35:21.115471Z"
    }
   },
   "outputs": [
    {
     "name": "stdout",
     "output_type": "stream",
     "text": [
      "[ 0  1  2  3  4  5  6  7  8  9 10 11 12 13 14 15 16 17 18 19 20 21 22 23\n",
      " 24]\n",
      "[25 26 27 28 29 30 31 32 33 34 35 36 37 38 39 40 41 42 43 44 45 46 47 48\n",
      " 49]\n",
      "[50 51 52 53 54 55 56 57 58 59 60 61 62 63 64 65 66 67 68 69 70 71 72 73\n",
      " 74]\n",
      "[75 76 77 78 79 80 81 82 83 84 85 86 87 88 89 90 91 92 93 94 95 96 97 98\n",
      " 99]\n",
      "[ 0  1  2  3  4  5  6  7  8  9 10 11 12 13 14 15 16 17 18 19 20 21 22 23\n",
      " 24]\n"
     ]
    }
   ],
   "source": [
    "import numpy as np\n",
    "a = np.arange(100)\n",
    "b = a[:len(a)//2]\n",
    "c = a[len(a)//2:]\n",
    "p = b[:len(b)//2]\n",
    "print(p)\n",
    "q = b[len(b)//2:]\n",
    "print(q)\n",
    "p = c[:len(b)//2]\n",
    "print(p)\n",
    "q = c[len(b)//2:]\n",
    "print(q)\n",
    "# a.append(q)\n",
    "# x = a[0:25]\n",
    "# np.concatenate(x, a[26:50])\n",
    "# print(a[0:25], a[26:50], a[51:75], a[76:100])\n",
    "print(x)"
   ]
  },
  {
   "cell_type": "code",
   "execution_count": null,
   "metadata": {},
   "outputs": [],
   "source": []
  }
 ],
 "metadata": {
  "kernelspec": {
   "display_name": "Python 3",
   "language": "python",
   "name": "python3"
  },
  "language_info": {
   "codemirror_mode": {
    "name": "ipython",
    "version": 3
   },
   "file_extension": ".py",
   "mimetype": "text/x-python",
   "name": "python",
   "nbconvert_exporter": "python",
   "pygments_lexer": "ipython3",
   "version": "3.6.6"
  }
 },
 "nbformat": 4,
 "nbformat_minor": 2
}
