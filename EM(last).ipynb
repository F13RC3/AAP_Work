{
 "cells": [
  {
   "cell_type": "code",
   "execution_count": 1,
   "metadata": {
    "ExecuteTime": {
     "end_time": "2018-09-01T11:57:11.977688Z",
     "start_time": "2018-09-01T11:56:54.682944Z"
    }
   },
   "outputs": [],
   "source": [
    "import seaborn as sns\n",
    "from sklearn.datasets import make_blobs\n",
    "import numpy as np\n",
    "import matplotlib.pyplot as plt\n",
    "import scipy.stats as sc\n",
    "from sklearn.mixture import GMM"
   ]
  },
  {
   "cell_type": "code",
   "execution_count": 48,
   "metadata": {
    "ExecuteTime": {
     "end_time": "2018-09-01T14:54:15.957748Z",
     "start_time": "2018-09-01T14:54:15.585000Z"
    }
   },
   "outputs": [
    {
     "name": "stderr",
     "output_type": "stream",
     "text": [
      "/home/kei0s/anaconda3/lib/python3.6/site-packages/scipy/stats/stats.py:1713: FutureWarning: Using a non-tuple sequence for multidimensional indexing is deprecated; use `arr[tuple(seq)]` instead of `arr[seq]`. In the future this will be interpreted as an array index, `arr[np.array(seq)]`, which will result either in an error or a different result.\n",
      "  return np.add.reduce(sorted[indexer] * weights, axis=axis) / sumval\n"
     ]
    },
    {
     "data": {
      "image/png": "[encoded data removed]",
      "text/plain": [
       "<Figure size 432x288 with 1 Axes>"
      ]
     },
     "metadata": {},
     "output_type": "display_data"
    }
   ],
   "source": [
    "no_centers = 3\n",
    "X, y = make_blobs(n_samples=30000, n_features=2, centers=no_centers, random_state=20, cluster_std=1.0)\n",
    "# print(X)\n",
    "\n",
    "# plt.scatter(X[:,0], X[:,1], c=y, marker = 'x')\n",
    "x = X\n",
    "X1 = X[:,0]\n",
    "X2 = X[:,1]\n",
    "# X3 = X[:,2]\n",
    "\n",
    "# gmm = GMM(n_components=2).fit(X)\n",
    "# labels = gmm.predict(X)\n",
    "# plt.scatter(X[:, 0], X[:, 1], c=labels, s=40, cmap='viridis');\n",
    "# X1 = list(set(X1))\n",
    "# X3 = list(set(X1+X3))\n",
    "X = np.hstack([X1,X2])\n",
    "\n",
    "sns.distplot(X, color='b')\n",
    "\n",
    "# Change for multi varibable according to ur needs\n",
    "s_p = 0.5 * np.ones((no_centers, len(X)))\n",
    "mu = np.random.random(no_centers)*10 # mean of the gaussian\n",
    "# print(\"mu before cycle : \", mu)\n",
    "sigma = np.ones(no_centers) # std of the gaussian\n",
    "bayes_both = np.zeros((no_centers,len(X)))\n"
   ]
  },
  {
   "cell_type": "code",
   "execution_count": 3,
   "metadata": {
    "ExecuteTime": {
     "end_time": "2018-09-01T11:57:15.155606Z",
     "start_time": "2018-09-01T11:57:13.209462Z"
    }
   },
   "outputs": [
    {
     "name": "stdout",
     "output_type": "stream",
     "text": [
      "mu: [ 7.4524921  -9.26477082  2.96589978] sigma: [1.20137267 1.00268909 1.56320142] Variance: [1.44329628 1.00538542 2.44359869]\n"
     ]
    }
   ],
   "source": [
    "\n",
    "for i in range(100):\n",
    "    # E step\n",
    "    # sc.norm used to find the probabilty density the same thing as P(x|b)\n",
    "    bayes_both[0] = s_p[0] * sc.norm.pdf(X,mu[0],sigma[0])\n",
    "#     print(bayes_both)\n",
    "    bayes_both[1] = s_p[1] * sc.norm.pdf(X,mu[1],sigma[1])\n",
    "    bayes_both[2] = s_p[2] * sc.norm.pdf(X,mu[2],sigma[2])\n",
    "    Sum = np.sum(bayes_both, axis=0)\n",
    "    bayes_both = bayes_both / Sum # this is for bi and ai\n",
    "    \n",
    "    # M step\n",
    "    s_p = np.sum(bayes_both,axis=1) / len(X)       \n",
    "    mu = np.sum(bayes_both*X, axis=1) / np.sum(bayes_both, axis=1)\n",
    "    #Remember variance is the square of sigma\n",
    "    sigma = np.sqrt(np.sum(bayes_both*pow(X - mu[:,np.newaxis],2),axis=1) / np.sum(bayes_both,axis=1))\n",
    "    variance = sigma**2\n",
    "\n",
    "\n",
    "print (\"mu:\", mu, \"sigma:\", sigma, \"Variance:\",variance)     "
   ]
  },
  {
   "cell_type": "code",
   "execution_count": 52,
   "metadata": {
    "ExecuteTime": {
     "end_time": "2018-09-01T15:09:37.917516Z",
     "start_time": "2018-09-01T15:09:36.903164Z"
    }
   },
   "outputs": [
    {
     "data": {
      "text/plain": [
       "GaussianMixture(covariance_type='full', init_params='kmeans', max_iter=10,\n",
       "        means_init=None, n_components=3, n_init=1, precisions_init=None,\n",
       "        random_state=10, reg_covar=1e-06, tol=0.001, verbose=0,\n",
       "        verbose_interval=10, warm_start=False, weights_init=None)"
      ]
     },
     "execution_count": 52,
     "metadata": {},
     "output_type": "execute_result"
    }
   ],
   "source": [
    "from sklearn.mixture import GaussianMixture as gmm\n",
    "model = gmm(n_components=3, random_state=10, max_iter=10, covariance_type='full')\n",
    "model.fit(X.reshape(-1,1))\n"
   ]
  },
  {
   "cell_type": "code",
   "execution_count": 8,
   "metadata": {
    "ExecuteTime": {
     "end_time": "2018-09-01T11:59:19.574540Z",
     "start_time": "2018-09-01T11:59:19.569374Z"
    }
   },
   "outputs": [
    {
     "name": "stdout",
     "output_type": "stream",
     "text": [
      "Means :  [[-9.26477079]\n",
      " [ 7.3862312 ]\n",
      " [ 2.84410885]] \n",
      "\n",
      "Variance :  [[[1.00538651]]\n",
      "\n",
      " [[1.55074931]]\n",
      "\n",
      " [[2.20244056]]]\n"
     ]
    }
   ],
   "source": [
    "Variance = model.covariances_\n",
    "Means = model.means_\n",
    "print(\"Means : \",Means, \"\\n\\nVariance : \", Variance)\n",
    "# model.predict(x)"
   ]
  },
  {
   "cell_type": "code",
   "execution_count": 53,
   "metadata": {
    "ExecuteTime": {
     "end_time": "2018-09-01T15:10:59.729856Z",
     "start_time": "2018-09-01T15:10:59.708822Z"
    }
   },
   "outputs": [
    {
     "data": {
      "text/plain": [
       "array([-8.54259441, -8.42681687,  1.59918123, ...,  3.43290809,\n",
       "        4.62791865,  6.23755688])"
      ]
     },
     "execution_count": 53,
     "metadata": {},
     "output_type": "execute_result"
    }
   ],
   "source": [
    "X\n",
    "# print(len(bayes_both))\n",
    "# print(X.size)"
   ]
  }
 ],
 "metadata": {
  "kernelspec": {
   "display_name": "Python 3",
   "language": "python",
   "name": "python3"
  },
  "language_info": {
   "codemirror_mode": {
    "name": "ipython",
    "version": 3
   },
   "file_extension": ".py",
   "mimetype": "text/x-python",
   "name": "python",
   "nbconvert_exporter": "python",
   "pygments_lexer": "ipython3",
   "version": "3.6.6"
  }
 },
 "nbformat": 4,
 "nbformat_minor": 2
}
