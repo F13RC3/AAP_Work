{
 "cells": [
  {
   "cell_type": "markdown",
   "metadata": {},
   "source": [
    "# Text Analytics on Social Media scrapped data using Python"
   ]
  },
  {
   "cell_type": "code",
   "execution_count": 3,
   "metadata": {},
   "outputs": [],
   "source": [
    "# General:\n",
    "import tweepy           # To consume Twitter's API\n",
    "import pandas as pd     # To handle data\n",
    "import numpy as np      # For number computing\n",
    "\n",
    "# For plotting and visualization:\n",
    "from IPython.display import display\n",
    "#import seaborn as sns\n",
    "%matplotlib inline"
   ]
  },
  {
   "cell_type": "code",
   "execution_count": 4,
   "metadata": {},
   "outputs": [],
   "source": [
    "import matplotlib.pyplot as plt"
   ]
  },
  {
   "cell_type": "code",
   "execution_count": 25,
   "metadata": {},
   "outputs": [],
   "source": [
    "# Twitter App access keys for @user\n",
    "\n",
    "# Consume:\n",
    "CONSUMER_KEY    = '0LIUs0unxXtfjkq4JSl30NTem'\n",
    "CONSUMER_SECRET = 'wzIKLdyEE6tjvQ6UiWkOcsnKIumwiMZ6KbI4Ezj3grVMdaiu7o'\n",
    "\n",
    "# Access:\n",
    "ACCESS_TOKEN  = '187891164-K0T35QJO7cP5PjoOOQqGsvahcrtAeUSzkZ693rXJ'\n",
    "ACCESS_SECRET = 'PiHugLphtxokQU2arhlHMLUm1qSkxP2iOx51fyUMe6Tg2'"
   ]
  },
  {
   "cell_type": "code",
   "execution_count": 26,
   "metadata": {},
   "outputs": [],
   "source": [
    "# API's setup:\n",
    "def twitter_setup():\n",
    "    \"\"\"\n",
    "    Utility function to setup the Twitter's API\n",
    "    with our access keys provided.\n",
    "    \"\"\"\n",
    "    # Authentication and access using keys:\n",
    "    auth = tweepy.OAuthHandler(CONSUMER_KEY, CONSUMER_SECRET)\n",
    "    auth.set_access_token(ACCESS_TOKEN, ACCESS_SECRET)\n",
    "\n",
    "    # Return API with authentication:\n",
    "    api = tweepy.API(auth)\n",
    "    return api"
   ]
  },
  {
   "cell_type": "code",
   "execution_count": 7,
   "metadata": {},
   "outputs": [
    {
     "name": "stdout",
     "output_type": "stream",
     "text": [
      "Number of tweets extracted: 200.\n",
      "\n",
      "5 recent tweets:\n",
      "\n",
      "It was good interacting with my sisters and brothers of Maharashtra during programmes at Yavatmal and Dhule. \n",
      "\n",
      "Here… https://t.co/REBIvpbSv8\n",
      "\n",
      "Improving irrigation and connectivity in Maharashtra. https://t.co/u2vBhj7rOo\n",
      "\n",
      "Enhancing education, housing and financial inclusion for the poor. https://t.co/vt0vas5Axp\n",
      "\n",
      "We salute you, brave sons of Mother India. \n",
      "\n",
      "You lived for the nation and served the country with unparalleled valo… https://t.co/UxsjSNFENs\n",
      "\n",
      "A grateful nation bows to the martyrs of Pulwama. \n",
      "\n",
      "A befitting reply will be given to the perpetrators of the hein… https://t.co/CwK5g2rMOx\n",
      "\n"
     ]
    }
   ],
   "source": [
    "# We create an extractor object:\n",
    "extractor = twitter_setup()\n",
    "\n",
    "# We create a tweet list as follows:\n",
    "tweets = extractor.user_timeline(screen_name=\"@narendramodi\", count=200)\n",
    "print(\"Number of tweets extracted: {}.\\n\".format(len(tweets)))\n",
    "\n",
    "# We print the most recent 5 tweets:\n",
    "print(\"5 recent tweets:\\n\")\n",
    "for tweet in tweets[:5]:\n",
    "    print(tweet.text)\n",
    "    print()"
   ]
  },
  {
   "cell_type": "code",
   "execution_count": 27,
   "metadata": {},
   "outputs": [
    {
     "data": {
      "text/html": [
       "<div>\n",
       "<style scoped>\n",
       "    .dataframe tbody tr th:only-of-type {\n",
       "        vertical-align: middle;\n",
       "    }\n",
       "\n",
       "    .dataframe tbody tr th {\n",
       "        vertical-align: top;\n",
       "    }\n",
       "\n",
       "    .dataframe thead th {\n",
       "        text-align: right;\n",
       "    }\n",
       "</style>\n",
       "<table border=\"1\" class=\"dataframe\">\n",
       "  <thead>\n",
       "    <tr style=\"text-align: right;\">\n",
       "      <th></th>\n",
       "      <th>Tweets</th>\n",
       "    </tr>\n",
       "  </thead>\n",
       "  <tbody>\n",
       "    <tr>\n",
       "      <th>0</th>\n",
       "      <td>It was good interacting with my sisters and br...</td>\n",
       "    </tr>\n",
       "    <tr>\n",
       "      <th>1</th>\n",
       "      <td>Improving irrigation and connectivity in Mahar...</td>\n",
       "    </tr>\n",
       "    <tr>\n",
       "      <th>2</th>\n",
       "      <td>Enhancing education, housing and financial inc...</td>\n",
       "    </tr>\n",
       "    <tr>\n",
       "      <th>3</th>\n",
       "      <td>We salute you, brave sons of Mother India. \\n\\...</td>\n",
       "    </tr>\n",
       "    <tr>\n",
       "      <th>4</th>\n",
       "      <td>A grateful nation bows to the martyrs of Pulwa...</td>\n",
       "    </tr>\n",
       "    <tr>\n",
       "      <th>5</th>\n",
       "      <td>India gets the first Semi High Speed Train, 'V...</td>\n",
       "    </tr>\n",
       "    <tr>\n",
       "      <th>6</th>\n",
       "      <td>Spoke to Home Minister Rajnath Singh Ji and ot...</td>\n",
       "    </tr>\n",
       "    <tr>\n",
       "      <th>7</th>\n",
       "      <td>Attack on CRPF personnel in Pulwama is despica...</td>\n",
       "    </tr>\n",
       "    <tr>\n",
       "      <th>8</th>\n",
       "      <td>Greetings to @SushmaSwaraj Ji on her birthday....</td>\n",
       "    </tr>\n",
       "    <tr>\n",
       "      <th>9</th>\n",
       "      <td>Productivity of the 16th Lok Sabha is exceptio...</td>\n",
       "    </tr>\n",
       "  </tbody>\n",
       "</table>\n",
       "</div>"
      ],
      "text/plain": [
       "                                              Tweets\n",
       "0  It was good interacting with my sisters and br...\n",
       "1  Improving irrigation and connectivity in Mahar...\n",
       "2  Enhancing education, housing and financial inc...\n",
       "3  We salute you, brave sons of Mother India. \\n\\...\n",
       "4  A grateful nation bows to the martyrs of Pulwa...\n",
       "5  India gets the first Semi High Speed Train, 'V...\n",
       "6  Spoke to Home Minister Rajnath Singh Ji and ot...\n",
       "7  Attack on CRPF personnel in Pulwama is despica...\n",
       "8  Greetings to @SushmaSwaraj Ji on her birthday....\n",
       "9  Productivity of the 16th Lok Sabha is exceptio..."
      ]
     },
     "metadata": {},
     "output_type": "display_data"
    }
   ],
   "source": [
    "# We create a pandas dataframe as follows:\n",
    "data = pd.DataFrame(data=[tweet.text for tweet in tweets], columns=['Tweets'])\n",
    "\n",
    "# We display the first 10 elements of the dataframe:\n",
    "display(data.head(10))"
   ]
  },
  {
   "cell_type": "code",
   "execution_count": 28,
   "metadata": {},
   "outputs": [
    {
     "name": "stdout",
     "output_type": "stream",
     "text": [
      "['__class__', '__delattr__', '__dict__', '__dir__', '__doc__', '__eq__', '__format__', '__ge__', '__getattribute__', '__getstate__', '__gt__', '__hash__', '__init__', '__init_subclass__', '__le__', '__lt__', '__module__', '__ne__', '__new__', '__reduce__', '__reduce_ex__', '__repr__', '__setattr__', '__sizeof__', '__str__', '__subclasshook__', '__weakref__', '_api', '_json', 'author', 'contributors', 'coordinates', 'created_at', 'destroy', 'entities', 'favorite', 'favorite_count', 'favorited', 'geo', 'id', 'id_str', 'in_reply_to_screen_name', 'in_reply_to_status_id', 'in_reply_to_status_id_str', 'in_reply_to_user_id', 'in_reply_to_user_id_str', 'is_quote_status', 'lang', 'parse', 'parse_list', 'place', 'possibly_sensitive', 'retweet', 'retweet_count', 'retweeted', 'retweets', 'source', 'source_url', 'text', 'truncated', 'user']\n"
     ]
    }
   ],
   "source": [
    "# metadata of a single tweet object:\n",
    "print(dir(tweets[0]))"
   ]
  },
  {
   "cell_type": "code",
   "execution_count": 29,
   "metadata": {},
   "outputs": [
    {
     "name": "stdout",
     "output_type": "stream",
     "text": [
      "1096753823211606017\n",
      "2019-02-16 12:51:02\n",
      "Twitter Web Client\n",
      "1849\n",
      "409\n",
      "None\n",
      "None\n",
      "{'hashtags': [], 'symbols': [], 'user_mentions': [], 'urls': [{'url': 'https://t.co/REBIvpbSv8', 'expanded_url': 'https://twitter.com/i/web/status/1096753823211606017', 'display_url': 'twitter.com/i/web/status/1…', 'indices': [117, 140]}]}\n"
     ]
    }
   ],
   "source": [
    "# We print info from the first tweet:\n",
    "print(tweets[0].id)\n",
    "print(tweets[0].created_at)\n",
    "print(tweets[0].source)\n",
    "print(tweets[0].favorite_count)\n",
    "print(tweets[0].retweet_count)\n",
    "print(tweets[0].geo)\n",
    "print(tweets[0].coordinates)\n",
    "print(tweets[0].entities)"
   ]
  },
  {
   "cell_type": "code",
   "execution_count": 30,
   "metadata": {},
   "outputs": [],
   "source": [
    "# We add relevant data:\n",
    "data['len']  = np.array([len(tweet.text) for tweet in tweets])\n",
    "data['ID']   = np.array([tweet.id for tweet in tweets])\n",
    "data['Date'] = np.array([tweet.created_at for tweet in tweets])\n",
    "data['Source'] = np.array([tweet.source for tweet in tweets])\n",
    "data['Likes']  = np.array([tweet.favorite_count for tweet in tweets])\n",
    "data['RTs']    = np.array([tweet.retweet_count for tweet in tweets])"
   ]
  },
  {
   "cell_type": "code",
   "execution_count": 12,
   "metadata": {},
   "outputs": [
    {
     "data": {
      "text/html": [
       "<div>\n",
       "<style scoped>\n",
       "    .dataframe tbody tr th:only-of-type {\n",
       "        vertical-align: middle;\n",
       "    }\n",
       "\n",
       "    .dataframe tbody tr th {\n",
       "        vertical-align: top;\n",
       "    }\n",
       "\n",
       "    .dataframe thead th {\n",
       "        text-align: right;\n",
       "    }\n",
       "</style>\n",
       "<table border=\"1\" class=\"dataframe\">\n",
       "  <thead>\n",
       "    <tr style=\"text-align: right;\">\n",
       "      <th></th>\n",
       "      <th>Tweets</th>\n",
       "      <th>len</th>\n",
       "      <th>ID</th>\n",
       "      <th>Date</th>\n",
       "      <th>Source</th>\n",
       "      <th>Likes</th>\n",
       "      <th>RTs</th>\n",
       "    </tr>\n",
       "  </thead>\n",
       "  <tbody>\n",
       "    <tr>\n",
       "      <th>0</th>\n",
       "      <td>It was good interacting with my sisters and br...</td>\n",
       "      <td>140</td>\n",
       "      <td>1096753823211606017</td>\n",
       "      <td>2019-02-16 12:51:02</td>\n",
       "      <td>Twitter Web Client</td>\n",
       "      <td>1849</td>\n",
       "      <td>409</td>\n",
       "    </tr>\n",
       "    <tr>\n",
       "      <th>1</th>\n",
       "      <td>Improving irrigation and connectivity in Mahar...</td>\n",
       "      <td>77</td>\n",
       "      <td>1096719469676621824</td>\n",
       "      <td>2019-02-16 10:34:32</td>\n",
       "      <td>Periscope</td>\n",
       "      <td>9546</td>\n",
       "      <td>2451</td>\n",
       "    </tr>\n",
       "    <tr>\n",
       "      <th>2</th>\n",
       "      <td>Enhancing education, housing and financial inc...</td>\n",
       "      <td>90</td>\n",
       "      <td>1096653689467461632</td>\n",
       "      <td>2019-02-16 06:13:09</td>\n",
       "      <td>Periscope</td>\n",
       "      <td>22819</td>\n",
       "      <td>5563</td>\n",
       "    </tr>\n",
       "    <tr>\n",
       "      <th>3</th>\n",
       "      <td>We salute you, brave sons of Mother India. \\n\\...</td>\n",
       "      <td>140</td>\n",
       "      <td>1096446425276153856</td>\n",
       "      <td>2019-02-15 16:29:33</td>\n",
       "      <td>Twitter for iPhone</td>\n",
       "      <td>134985</td>\n",
       "      <td>34712</td>\n",
       "    </tr>\n",
       "    <tr>\n",
       "      <th>4</th>\n",
       "      <td>A grateful nation bows to the martyrs of Pulwa...</td>\n",
       "      <td>140</td>\n",
       "      <td>1096293506048380928</td>\n",
       "      <td>2019-02-15 06:21:54</td>\n",
       "      <td>Twitter Media Studio</td>\n",
       "      <td>93462</td>\n",
       "      <td>28417</td>\n",
       "    </tr>\n",
       "    <tr>\n",
       "      <th>5</th>\n",
       "      <td>India gets the first Semi High Speed Train, 'V...</td>\n",
       "      <td>91</td>\n",
       "      <td>1096279779857227778</td>\n",
       "      <td>2019-02-15 05:27:22</td>\n",
       "      <td>Periscope</td>\n",
       "      <td>34325</td>\n",
       "      <td>9549</td>\n",
       "    </tr>\n",
       "    <tr>\n",
       "      <th>6</th>\n",
       "      <td>Spoke to Home Minister Rajnath Singh Ji and ot...</td>\n",
       "      <td>125</td>\n",
       "      <td>1096036001540173825</td>\n",
       "      <td>2019-02-14 13:18:40</td>\n",
       "      <td>Twitter for Android</td>\n",
       "      <td>88083</td>\n",
       "      <td>19564</td>\n",
       "    </tr>\n",
       "    <tr>\n",
       "      <th>7</th>\n",
       "      <td>Attack on CRPF personnel in Pulwama is despica...</td>\n",
       "      <td>139</td>\n",
       "      <td>1096035566670565376</td>\n",
       "      <td>2019-02-14 13:16:57</td>\n",
       "      <td>Twitter for Android</td>\n",
       "      <td>127343</td>\n",
       "      <td>41802</td>\n",
       "    </tr>\n",
       "    <tr>\n",
       "      <th>8</th>\n",
       "      <td>Greetings to @SushmaSwaraj Ji on her birthday....</td>\n",
       "      <td>140</td>\n",
       "      <td>1095893168392945664</td>\n",
       "      <td>2019-02-14 03:51:06</td>\n",
       "      <td>Twitter for iPhone</td>\n",
       "      <td>48425</td>\n",
       "      <td>9165</td>\n",
       "    </tr>\n",
       "    <tr>\n",
       "      <th>9</th>\n",
       "      <td>Productivity of the 16th Lok Sabha is exceptio...</td>\n",
       "      <td>139</td>\n",
       "      <td>1095732005818519552</td>\n",
       "      <td>2019-02-13 17:10:42</td>\n",
       "      <td>Twitter for iPhone</td>\n",
       "      <td>31145</td>\n",
       "      <td>8144</td>\n",
       "    </tr>\n",
       "  </tbody>\n",
       "</table>\n",
       "</div>"
      ],
      "text/plain": [
       "                                              Tweets  len  \\\n",
       "0  It was good interacting with my sisters and br...  140   \n",
       "1  Improving irrigation and connectivity in Mahar...   77   \n",
       "2  Enhancing education, housing and financial inc...   90   \n",
       "3  We salute you, brave sons of Mother India. \\n\\...  140   \n",
       "4  A grateful nation bows to the martyrs of Pulwa...  140   \n",
       "5  India gets the first Semi High Speed Train, 'V...   91   \n",
       "6  Spoke to Home Minister Rajnath Singh Ji and ot...  125   \n",
       "7  Attack on CRPF personnel in Pulwama is despica...  139   \n",
       "8  Greetings to @SushmaSwaraj Ji on her birthday....  140   \n",
       "9  Productivity of the 16th Lok Sabha is exceptio...  139   \n",
       "\n",
       "                    ID                Date                Source   Likes  \\\n",
       "0  1096753823211606017 2019-02-16 12:51:02    Twitter Web Client    1849   \n",
       "1  1096719469676621824 2019-02-16 10:34:32             Periscope    9546   \n",
       "2  1096653689467461632 2019-02-16 06:13:09             Periscope   22819   \n",
       "3  1096446425276153856 2019-02-15 16:29:33    Twitter for iPhone  134985   \n",
       "4  1096293506048380928 2019-02-15 06:21:54  Twitter Media Studio   93462   \n",
       "5  1096279779857227778 2019-02-15 05:27:22             Periscope   34325   \n",
       "6  1096036001540173825 2019-02-14 13:18:40   Twitter for Android   88083   \n",
       "7  1096035566670565376 2019-02-14 13:16:57   Twitter for Android  127343   \n",
       "8  1095893168392945664 2019-02-14 03:51:06    Twitter for iPhone   48425   \n",
       "9  1095732005818519552 2019-02-13 17:10:42    Twitter for iPhone   31145   \n",
       "\n",
       "     RTs  \n",
       "0    409  \n",
       "1   2451  \n",
       "2   5563  \n",
       "3  34712  \n",
       "4  28417  \n",
       "5   9549  \n",
       "6  19564  \n",
       "7  41802  \n",
       "8   9165  \n",
       "9   8144  "
      ]
     },
     "metadata": {},
     "output_type": "display_data"
    }
   ],
   "source": [
    "# Display of first 10 elements from dataframe:\n",
    "display(data.head(10))"
   ]
  },
  {
   "cell_type": "code",
   "execution_count": 31,
   "metadata": {},
   "outputs": [
    {
     "name": "stdout",
     "output_type": "stream",
     "text": [
      "The lenght's average in tweets: 124.785\n"
     ]
    }
   ],
   "source": [
    "# We extract the mean of length:\n",
    "mean = np.mean(data['len'])\n",
    "\n",
    "print(\"The lenght's average in tweets: {}\".format(mean))"
   ]
  },
  {
   "cell_type": "code",
   "execution_count": 32,
   "metadata": {},
   "outputs": [],
   "source": [
    "# We extract the tweet with more FAVs and more RTs:\n",
    "\n",
    "fav_max = np.max(data['Likes'])\n",
    "rt_max  = np.max(data['RTs'])\n",
    "\n",
    "fav = data[data.Likes == fav_max].index[0]\n",
    "rt  = data[data.RTs == rt_max].index[0]\n"
   ]
  },
  {
   "cell_type": "code",
   "execution_count": 33,
   "metadata": {},
   "outputs": [
    {
     "name": "stdout",
     "output_type": "stream",
     "text": [
      "The tweet with more likes is: \n",
      "We salute you, brave sons of Mother India. \n",
      "\n",
      "You lived for the nation and served the country with unparalleled valo… https://t.co/UxsjSNFENs\n",
      "Number of likes: 134985\n",
      "140 characters.\n",
      "\n",
      "The tweet with more retweets is: \n",
      "Attack on CRPF personnel in Pulwama is despicable. I strongly condemn this dastardly attack. The sacrifices of our… https://t.co/QaTBqQrojk\n",
      "Number of retweets: 41802\n",
      "139 characters.\n",
      "\n"
     ]
    }
   ],
   "source": [
    "# Max FAVs:\n",
    "print(\"The tweet with more likes is: \\n{}\".format(data['Tweets'][fav]))\n",
    "print(\"Number of likes: {}\".format(fav_max))\n",
    "print(\"{} characters.\\n\".format(data['len'][fav]))\n",
    "\n",
    "# Max RTs:\n",
    "print(\"The tweet with more retweets is: \\n{}\".format(data['Tweets'][rt]))\n",
    "print(\"Number of retweets: {}\".format(rt_max))\n",
    "print(\"{} characters.\\n\".format(data['len'][rt]))"
   ]
  },
  {
   "cell_type": "code",
   "execution_count": 16,
   "metadata": {},
   "outputs": [
    {
     "name": "stdout",
     "output_type": "stream",
     "text": [
      "Creation of content sources:\n",
      "* Twitter Web Client\n",
      "* Periscope\n",
      "* Twitter for iPhone\n",
      "* Twitter Media Studio\n",
      "* Twitter for Android\n"
     ]
    }
   ],
   "source": [
    "# We obtain all possible sources:\n",
    "sources = []\n",
    "for source in data['Source']:\n",
    "    if source not in sources:\n",
    "        sources.append(source)\n",
    "\n",
    "# We print sources list:\n",
    "print(\"Creation of content sources:\")\n",
    "for source in sources:\n",
    "    print(\"* {}\".format(source))"
   ]
  },
  {
   "cell_type": "code",
   "execution_count": 17,
   "metadata": {},
   "outputs": [],
   "source": [
    "tlen = pd.Series(data=data['len'].values, index=data['Date'])\n",
    "tfav = pd.Series(data=data['Likes'].values, index=data['Date'])\n",
    "tret = pd.Series(data=data['RTs'].values, index=data['Date'])"
   ]
  },
  {
   "cell_type": "code",
   "execution_count": 18,
   "metadata": {},
   "outputs": [
    {
     "data": {
      "text/plain": [
       "<matplotlib.axes._subplots.AxesSubplot at 0x24331e1ac88>"
      ]
     },
     "execution_count": 18,
     "metadata": {},
     "output_type": "execute_result"
    },
    {
     "data": {
      "image/png": "[encoded data removed]",
      "text/plain": [
       "<Figure size 1152x288 with 1 Axes>"
      ]
     },
     "metadata": {
      "needs_background": "light"
     },
     "output_type": "display_data"
    }
   ],
   "source": [
    "# lengths along time:\n",
    "tlen.plot(figsize=(16,4), color='r')"
   ]
  },
  {
   "cell_type": "code",
   "execution_count": 19,
   "metadata": {},
   "outputs": [
    {
     "data": {
      "image/png": "[encoded data removed]",
      "text/plain": [
       "<Figure size 1152x288 with 1 Axes>"
      ]
     },
     "metadata": {
      "needs_background": "light"
     },
     "output_type": "display_data"
    }
   ],
   "source": [
    "# Likes vs retweets visual:\n",
    "tfav.plot(figsize=(16,4), label=\"Likes\", legend=True)\n",
    "tret.plot(figsize=(16,4), label=\"Retweets\", legend=True);"
   ]
  },
  {
   "cell_type": "code",
   "execution_count": 34,
   "metadata": {},
   "outputs": [
    {
     "data": {
      "image/png": "[encoded data removed]",
      "text/plain": [
       "<Figure size 432x432 with 1 Axes>"
      ]
     },
     "metadata": {},
     "output_type": "display_data"
    }
   ],
   "source": [
    "# We create a numpy vector mapped to labels:\n",
    "percent = np.zeros(len(sources))\n",
    "\n",
    "for source in data['Source']:\n",
    "    for index in range(len(sources)):\n",
    "        if source == sources[index]:\n",
    "            percent[index] += 1\n",
    "            pass\n",
    "\n",
    "percent /= 100\n",
    "\n",
    "# Pie chart:\n",
    "pie_chart = pd.Series(percent, index=sources, name='Sources')\n",
    "pie_chart.plot.pie(fontsize=11, autopct='%.2f', figsize=(6, 6));"
   ]
  },
  {
   "cell_type": "code",
   "execution_count": 21,
   "metadata": {},
   "outputs": [],
   "source": [
    "from textblob import TextBlob\n",
    "import re\n",
    "\n",
    "def clean_tweet(tweet):\n",
    "    '''\n",
    "    Utility function to clean the text in a tweet by removing\n",
    "    links and special characters using regex.\n",
    "    '''\n",
    "    return ' '.join(re.sub(\"(@[A-Za-z0-9]+)|([^0-9A-Za-z \\t])|(\\w+:\\/\\/\\S+)\", \" \", tweet).split())\n",
    "\n",
    "def analize_sentiment(tweet):\n",
    "    '''\n",
    "    Utility function to classify the polarity of a tweet\n",
    "    using textblob.\n",
    "    '''\n",
    "    analysis = TextBlob(clean_tweet(tweet))\n",
    "    if analysis.sentiment.polarity > 0:\n",
    "        return 1\n",
    "    elif analysis.sentiment.polarity == 0:\n",
    "        return 0\n",
    "    else:\n",
    "        return -1"
   ]
  },
  {
   "cell_type": "code",
   "execution_count": 35,
   "metadata": {},
   "outputs": [
    {
     "data": {
      "text/html": [
       "<div>\n",
       "<style scoped>\n",
       "    .dataframe tbody tr th:only-of-type {\n",
       "        vertical-align: middle;\n",
       "    }\n",
       "\n",
       "    .dataframe tbody tr th {\n",
       "        vertical-align: top;\n",
       "    }\n",
       "\n",
       "    .dataframe thead th {\n",
       "        text-align: right;\n",
       "    }\n",
       "</style>\n",
       "<table border=\"1\" class=\"dataframe\">\n",
       "  <thead>\n",
       "    <tr style=\"text-align: right;\">\n",
       "      <th></th>\n",
       "      <th>Tweets</th>\n",
       "      <th>len</th>\n",
       "      <th>ID</th>\n",
       "      <th>Date</th>\n",
       "      <th>Source</th>\n",
       "      <th>Likes</th>\n",
       "      <th>RTs</th>\n",
       "      <th>SA</th>\n",
       "    </tr>\n",
       "  </thead>\n",
       "  <tbody>\n",
       "    <tr>\n",
       "      <th>0</th>\n",
       "      <td>It was good interacting with my sisters and br...</td>\n",
       "      <td>140</td>\n",
       "      <td>1096753823211606017</td>\n",
       "      <td>2019-02-16 12:51:02</td>\n",
       "      <td>Twitter Web Client</td>\n",
       "      <td>1849</td>\n",
       "      <td>409</td>\n",
       "      <td>1</td>\n",
       "    </tr>\n",
       "    <tr>\n",
       "      <th>1</th>\n",
       "      <td>Improving irrigation and connectivity in Mahar...</td>\n",
       "      <td>77</td>\n",
       "      <td>1096719469676621824</td>\n",
       "      <td>2019-02-16 10:34:32</td>\n",
       "      <td>Periscope</td>\n",
       "      <td>9546</td>\n",
       "      <td>2451</td>\n",
       "      <td>0</td>\n",
       "    </tr>\n",
       "    <tr>\n",
       "      <th>2</th>\n",
       "      <td>Enhancing education, housing and financial inc...</td>\n",
       "      <td>90</td>\n",
       "      <td>1096653689467461632</td>\n",
       "      <td>2019-02-16 06:13:09</td>\n",
       "      <td>Periscope</td>\n",
       "      <td>22819</td>\n",
       "      <td>5563</td>\n",
       "      <td>-1</td>\n",
       "    </tr>\n",
       "    <tr>\n",
       "      <th>3</th>\n",
       "      <td>We salute you, brave sons of Mother India. \\n\\...</td>\n",
       "      <td>140</td>\n",
       "      <td>1096446425276153856</td>\n",
       "      <td>2019-02-15 16:29:33</td>\n",
       "      <td>Twitter for iPhone</td>\n",
       "      <td>134985</td>\n",
       "      <td>34712</td>\n",
       "      <td>1</td>\n",
       "    </tr>\n",
       "    <tr>\n",
       "      <th>4</th>\n",
       "      <td>A grateful nation bows to the martyrs of Pulwa...</td>\n",
       "      <td>140</td>\n",
       "      <td>1096293506048380928</td>\n",
       "      <td>2019-02-15 06:21:54</td>\n",
       "      <td>Twitter Media Studio</td>\n",
       "      <td>93462</td>\n",
       "      <td>28417</td>\n",
       "      <td>0</td>\n",
       "    </tr>\n",
       "    <tr>\n",
       "      <th>5</th>\n",
       "      <td>India gets the first Semi High Speed Train, 'V...</td>\n",
       "      <td>91</td>\n",
       "      <td>1096279779857227778</td>\n",
       "      <td>2019-02-15 05:27:22</td>\n",
       "      <td>Periscope</td>\n",
       "      <td>34325</td>\n",
       "      <td>9549</td>\n",
       "      <td>1</td>\n",
       "    </tr>\n",
       "    <tr>\n",
       "      <th>6</th>\n",
       "      <td>Spoke to Home Minister Rajnath Singh Ji and ot...</td>\n",
       "      <td>125</td>\n",
       "      <td>1096036001540173825</td>\n",
       "      <td>2019-02-14 13:18:40</td>\n",
       "      <td>Twitter for Android</td>\n",
       "      <td>88083</td>\n",
       "      <td>19564</td>\n",
       "      <td>1</td>\n",
       "    </tr>\n",
       "    <tr>\n",
       "      <th>7</th>\n",
       "      <td>Attack on CRPF personnel in Pulwama is despica...</td>\n",
       "      <td>139</td>\n",
       "      <td>1096035566670565376</td>\n",
       "      <td>2019-02-14 13:16:57</td>\n",
       "      <td>Twitter for Android</td>\n",
       "      <td>127343</td>\n",
       "      <td>41802</td>\n",
       "      <td>1</td>\n",
       "    </tr>\n",
       "    <tr>\n",
       "      <th>8</th>\n",
       "      <td>Greetings to @SushmaSwaraj Ji on her birthday....</td>\n",
       "      <td>140</td>\n",
       "      <td>1095893168392945664</td>\n",
       "      <td>2019-02-14 03:51:06</td>\n",
       "      <td>Twitter for iPhone</td>\n",
       "      <td>48425</td>\n",
       "      <td>9165</td>\n",
       "      <td>1</td>\n",
       "    </tr>\n",
       "    <tr>\n",
       "      <th>9</th>\n",
       "      <td>Productivity of the 16th Lok Sabha is exceptio...</td>\n",
       "      <td>139</td>\n",
       "      <td>1095732005818519552</td>\n",
       "      <td>2019-02-13 17:10:42</td>\n",
       "      <td>Twitter for iPhone</td>\n",
       "      <td>31145</td>\n",
       "      <td>8144</td>\n",
       "      <td>1</td>\n",
       "    </tr>\n",
       "  </tbody>\n",
       "</table>\n",
       "</div>"
      ],
      "text/plain": [
       "                                              Tweets  len  \\\n",
       "0  It was good interacting with my sisters and br...  140   \n",
       "1  Improving irrigation and connectivity in Mahar...   77   \n",
       "2  Enhancing education, housing and financial inc...   90   \n",
       "3  We salute you, brave sons of Mother India. \\n\\...  140   \n",
       "4  A grateful nation bows to the martyrs of Pulwa...  140   \n",
       "5  India gets the first Semi High Speed Train, 'V...   91   \n",
       "6  Spoke to Home Minister Rajnath Singh Ji and ot...  125   \n",
       "7  Attack on CRPF personnel in Pulwama is despica...  139   \n",
       "8  Greetings to @SushmaSwaraj Ji on her birthday....  140   \n",
       "9  Productivity of the 16th Lok Sabha is exceptio...  139   \n",
       "\n",
       "                    ID                Date                Source   Likes  \\\n",
       "0  1096753823211606017 2019-02-16 12:51:02    Twitter Web Client    1849   \n",
       "1  1096719469676621824 2019-02-16 10:34:32             Periscope    9546   \n",
       "2  1096653689467461632 2019-02-16 06:13:09             Periscope   22819   \n",
       "3  1096446425276153856 2019-02-15 16:29:33    Twitter for iPhone  134985   \n",
       "4  1096293506048380928 2019-02-15 06:21:54  Twitter Media Studio   93462   \n",
       "5  1096279779857227778 2019-02-15 05:27:22             Periscope   34325   \n",
       "6  1096036001540173825 2019-02-14 13:18:40   Twitter for Android   88083   \n",
       "7  1096035566670565376 2019-02-14 13:16:57   Twitter for Android  127343   \n",
       "8  1095893168392945664 2019-02-14 03:51:06    Twitter for iPhone   48425   \n",
       "9  1095732005818519552 2019-02-13 17:10:42    Twitter for iPhone   31145   \n",
       "\n",
       "     RTs  SA  \n",
       "0    409   1  \n",
       "1   2451   0  \n",
       "2   5563  -1  \n",
       "3  34712   1  \n",
       "4  28417   0  \n",
       "5   9549   1  \n",
       "6  19564   1  \n",
       "7  41802   1  \n",
       "8   9165   1  \n",
       "9   8144   1  "
      ]
     },
     "metadata": {},
     "output_type": "display_data"
    }
   ],
   "source": [
    "# We create a column with the result of the analysis:\n",
    "data['SA'] = np.array([ analize_sentiment(tweet) for tweet in data['Tweets'] ])\n",
    "\n",
    "# We display the updated dataframe with the new column:\n",
    "display(data.head(10))"
   ]
  },
  {
   "cell_type": "code",
   "execution_count": 23,
   "metadata": {},
   "outputs": [],
   "source": [
    "# We construct lists with classified tweets:\n",
    "\n",
    "pos_tweets = [ tweet for index, tweet in enumerate(data['Tweets']) if data['SA'][index] > 0]\n",
    "neu_tweets = [ tweet for index, tweet in enumerate(data['Tweets']) if data['SA'][index] == 0]\n",
    "neg_tweets = [ tweet for index, tweet in enumerate(data['Tweets']) if data['SA'][index] < 0]"
   ]
  },
  {
   "cell_type": "code",
   "execution_count": 24,
   "metadata": {},
   "outputs": [
    {
     "name": "stdout",
     "output_type": "stream",
     "text": [
      "Percentage of positive tweets: 43.0%\n",
      "Percentage of neutral tweets: 46.5%\n",
      "Percentage de negative tweets: 10.5%\n"
     ]
    }
   ],
   "source": [
    "print(\"Percentage of positive tweets: {}%\".format(len(pos_tweets)*100/len(data['Tweets'])))\n",
    "print(\"Percentage of neutral tweets: {}%\".format(len(neu_tweets)*100/len(data['Tweets'])))\n",
    "print(\"Percentage de negative tweets: {}%\".format(len(neg_tweets)*100/len(data['Tweets'])))"
   ]
  },
  {
   "cell_type": "code",
   "execution_count": null,
   "metadata": {},
   "outputs": [],
   "source": []
  },
  {
   "cell_type": "code",
   "execution_count": null,
   "metadata": {},
   "outputs": [],
   "source": []
  }
 ],
 "metadata": {
  "kernelspec": {
   "display_name": "Python 3",
   "language": "python",
   "name": "python3"
  },
  "language_info": {
   "codemirror_mode": {
    "name": "ipython",
    "version": 3
   },
   "file_extension": ".py",
   "mimetype": "text/x-python",
   "name": "python",
   "nbconvert_exporter": "python",
   "pygments_lexer": "ipython3",
   "version": "3.7.1"
  }
 },
 "nbformat": 4,
 "nbformat_minor": 2
}
