{
 "cells": [
  {
   "cell_type": "code",
   "execution_count": 11,
   "metadata": {},
   "outputs": [
    {
     "name": "stdout",
     "output_type": "stream",
     "text": [
      "Enter the constant a5\n",
      "Enter the constant b1\n",
      "Enter the constant c15\n",
      "Enter the power of X2\n",
      "Enter the poweer of y1\n",
      "[] \t []\n"
     ]
    }
   ],
   "source": [
    "import matplotlib.pyplot as plt\n",
    "import numpy as np\n",
    "import random\n",
    "\n",
    "a = int(input(\"Enter the constant a\"))\n",
    "b = int(input(\"Enter the constant b\"))\n",
    "c = int(input(\"Enter the constant c\"))\n",
    "pow_x = int(input(\"Enter the power of X\"))\n",
    "pow_y = int(input(\"Enter the poweer of y\"))\n",
    "\n",
    "for i in range(50):\n",
    "    x = random.randint(-50,50)\n",
    "    y = random.randint(-50,50)\n",
    "\n",
    "xa = []\n",
    "yb = []\n",
    "\n",
    "for i in range(x):\n",
    "    for j in range(y):\n",
    "\n",
    "        if a*pow(x[i],pow_x)+b*pow(y[j],pow_y) == c:\n",
    "\n",
    "            xa.append(x[i])\n",
    "            yb.append(y[j])\n",
    "            \n",
    "        else:\n",
    "            continue\n",
    "\n",
    "\n",
    "\n",
    "# print(xa,\"\\t\",yb)\n",
    "plt.show(xa,yb,'r')"
   ]
  }
 ],
 "metadata": {
  "kernelspec": {
   "display_name": "Python 3",
   "language": "python",
   "name": "python3"
  },
  "language_info": {
   "codemirror_mode": {
    "name": "ipython",
    "version": 3
   },
   "file_extension": ".py",
   "mimetype": "text/x-python",
   "name": "python",
   "nbconvert_exporter": "python",
   "pygments_lexer": "ipython3",
   "version": "3.6.5"
  }
 },
 "nbformat": 4,
 "nbformat_minor": 2
}
