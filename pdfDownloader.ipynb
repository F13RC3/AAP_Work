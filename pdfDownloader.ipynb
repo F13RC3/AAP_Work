{
  "nbformat": 4,
  "nbformat_minor": 0,
  "metadata": {
    "colab": {
      "name": "pdfDownloader.ipynb",
      "version": "0.3.2",
      "provenance": [],
      "collapsed_sections": [],
      "include_colab_link": true
    },
    "kernelspec": {
      "name": "python3",
      "display_name": "Python 3"
    },
    "accelerator": "GPU"
  },
  "cells": [
    {
      "cell_type": "markdown",
      "metadata": {
        "id": "view-in-github",
        "colab_type": "text"
      },
      "source": [
        "<a href=\"https://colab.research.google.com/github/F13RC3/AAP_Work/blob/master/pdfDownloader.ipynb\" target=\"_parent\"><img src=\"https://colab.research.google.com/assets/colab-badge.svg\" alt=\"Open In Colab\"/></a>"
      ]
    },
    {
      "cell_type": "code",
      "metadata": {
        "id": "F5LPhaDWGKgA",
        "colab_type": "code",
        "colab": {}
      },
      "source": [
        "import requests\n",
        "# from pdf2image import convert_from_path\n",
        "# from google.colab import drive\n",
        "# drive.mount('/content/gdrive')\n"
      ],
      "execution_count": 0,
      "outputs": []
    },
    {
      "cell_type": "code",
      "metadata": {
        "id": "DowgrDNy1Gyb",
        "colab_type": "code",
        "colab": {}
      },
      "source": [
        "from google.colab import files\n"
      ],
      "execution_count": 0,
      "outputs": []
    },
    {
      "cell_type": "code",
      "metadata": {
        "id": "A9bGxpItlpvn",
        "colab_type": "code",
        "colab": {}
      },
      "source": [
        "urlC = []\n",
        "url = 'http://ceodelhi.gov.in/engdata/AC1/U05A1P1.pdf'\n",
        "# CHANGE RANGE ACCORDING TO THE CONSTITUENCIES\n",
        "for i in range(2, 71):\n",
        "    urlC.append(url[0:33]+str(i)+url[34:39]+str(i)+url[40:])\n",
        "# urlC = 'http://ceodelhi.gov.in/engdata/AC20/U05A20P1.pdf'"
      ],
      "execution_count": 0,
      "outputs": []
    },
    {
      "cell_type": "code",
      "metadata": {
        "id": "jRo6GYQOy10N",
        "colab_type": "code",
        "colab": {}
      },
      "source": [
        "# TO DOWNLOAD ALL THE PDF's IN EVERY COSTITUTENCY \n",
        "for j in range(len(urlC)):\n",
        "  for i in range(1, 500):\n",
        "    urlR = urlC[j][0:-5] + str(i) + \".pdf\"\n",
        "    r = requests.get(urlR, stream=True)\n",
        "    if r.url != 'https://ceodelhi.gov.in/Error.aspx':\n",
        "      with open('/content/sample_data/'+urlR.split('/')[-1], 'wb') as f:\n",
        "        f.write(r.content)\n",
        "        files.download('/content/sample_data/'+urlR.split('/')[-1])\n",
        "    else:\n",
        "      break\n"
      ],
      "execution_count": 0,
      "outputs": []
    },
    {
      "cell_type": "code",
      "metadata": {
        "id": "51i8J3fHy-WA",
        "colab_type": "code",
        "outputId": "b3c6139a-eb0a-4d7d-8892-9e983579b053",
        "colab": {
          "base_uri": "https://localhost:8080/",
          "height": 173
        }
      },
      "source": [
        "t!zip -r /content/file.zip /content/sample_data\n",
        "files.download(\"/content/file.zip\")"
      ],
      "execution_count": 0,
      "outputs": [
        {
          "output_type": "stream",
          "text": [
            "  adding: content/sample_data/ (stored 0%)\n",
            "  adding: content/sample_data/README.md (deflated 42%)\n",
            "  adding: content/sample_data/anscombe.json (deflated 83%)\n",
            "  adding: content/sample_data/.ipynb_checkpoints/ (stored 0%)\n",
            "  adding: content/sample_data/U05A6P1.pdf (deflated 0%)\n",
            "  adding: content/sample_data/california_housing_test.csv (deflated 76%)\n",
            "  adding: content/sample_data/california_housing_train.csv (deflated 79%)\n",
            "  adding: content/sample_data/mnist_test.csv (deflated 88%)\n",
            "  adding: content/sample_data/mnist_train_small.csv (deflated 88%)\n"
          ],
          "name": "stdout"
        }
      ]
    },
    {
      "cell_type": "code",
      "metadata": {
        "id": "Uze2pqp8d8oA",
        "colab_type": "code",
        "colab": {}
      },
      "source": [
        "files.download('/content/sample_data/'+urlR.split('/')[-1])"
      ],
      "execution_count": 0,
      "outputs": []
    }
  ]
}