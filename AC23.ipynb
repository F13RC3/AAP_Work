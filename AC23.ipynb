{
 "cells": [
  {
   "cell_type": "code",
   "execution_count": 1,
   "metadata": {
    "ExecuteTime": {
     "end_time": "2019-03-01T06:28:24.882715Z",
     "start_time": "2019-03-01T06:28:14.012970Z"
    }
   },
   "outputs": [],
   "source": [
    "import pandas as pd\n",
    "import dill\n",
    "import numpy as np\n",
    "import pickle\n",
    "import matplotlib.pyplot as plt\n",
    "\n",
    "# dill.dump_session('Ac23_4.pkl')\n",
    "dill.load_session('Ac23_4.pkl')"
   ]
  },
  {
   "cell_type": "code",
   "execution_count": 28,
   "metadata": {
    "ExecuteTime": {
     "end_time": "2019-02-27T07:52:54.918400Z",
     "start_time": "2019-02-27T07:52:54.647296Z"
    }
   },
   "outputs": [
    {
     "data": {
      "text/html": [
       "<div>\n",
       "<style scoped>\n",
       "    .dataframe tbody tr th:only-of-type {\n",
       "        vertical-align: middle;\n",
       "    }\n",
       "\n",
       "    .dataframe tbody tr th {\n",
       "        vertical-align: top;\n",
       "    }\n",
       "\n",
       "    .dataframe thead th {\n",
       "        text-align: right;\n",
       "    }\n",
       "</style>\n",
       "<table border=\"1\" class=\"dataframe\">\n",
       "  <thead>\n",
       "    <tr style=\"text-align: right;\">\n",
       "      <th></th>\n",
       "      <th>Part Number</th>\n",
       "      <th>SrNo</th>\n",
       "      <th>EPIC ID</th>\n",
       "      <th>Name</th>\n",
       "      <th>Gender</th>\n",
       "      <th>Age</th>\n",
       "      <th>Guardian Name</th>\n",
       "      <th>Relationship</th>\n",
       "      <th>Address</th>\n",
       "      <th>Others</th>\n",
       "    </tr>\n",
       "  </thead>\n",
       "  <tbody>\n",
       "    <tr>\n",
       "      <th>0</th>\n",
       "      <td>AC0230004</td>\n",
       "      <td>1</td>\n",
       "      <td>RJN1991230</td>\n",
       "      <td>Mahesh Kumar</td>\n",
       "      <td>Male</td>\n",
       "      <td>43</td>\n",
       "      <td>Rati Ram</td>\n",
       "      <td>Father's</td>\n",
       "      <td>NaN</td>\n",
       "      <td>15/793</td>\n",
       "    </tr>\n",
       "    <tr>\n",
       "      <th>1</th>\n",
       "      <td>AC0230004</td>\n",
       "      <td>2</td>\n",
       "      <td>RJN1644268</td>\n",
       "      <td>Mohan Kumar Yadav</td>\n",
       "      <td>Male</td>\n",
       "      <td>33</td>\n",
       "      <td>Rajender Prasad Yadav</td>\n",
       "      <td>Father's</td>\n",
       "      <td>NaN</td>\n",
       "      <td>16/41-E</td>\n",
       "    </tr>\n",
       "    <tr>\n",
       "      <th>2</th>\n",
       "      <td>AC0230004</td>\n",
       "      <td>3</td>\n",
       "      <td>RJN1805951</td>\n",
       "      <td>Jitnder Kumar</td>\n",
       "      <td>Male</td>\n",
       "      <td>36</td>\n",
       "      <td>Ashish Kumar</td>\n",
       "      <td>Father's</td>\n",
       "      <td>NaN</td>\n",
       "      <td>16/147E</td>\n",
       "    </tr>\n",
       "    <tr>\n",
       "      <th>3</th>\n",
       "      <td>AC0230004</td>\n",
       "      <td>4</td>\n",
       "      <td>RJN1162544</td>\n",
       "      <td>Gaytri</td>\n",
       "      <td>Female</td>\n",
       "      <td>39</td>\n",
       "      <td>Rajesh Kumar</td>\n",
       "      <td>Husband's</td>\n",
       "      <td>NaN</td>\n",
       "      <td>16/164E</td>\n",
       "    </tr>\n",
       "    <tr>\n",
       "      <th>4</th>\n",
       "      <td>AC0230004</td>\n",
       "      <td>5</td>\n",
       "      <td>FMR0814566</td>\n",
       "      <td>Rajesh Kumar</td>\n",
       "      <td>Male</td>\n",
       "      <td>39</td>\n",
       "      <td>Om Prakash</td>\n",
       "      <td>Father's</td>\n",
       "      <td>NaN</td>\n",
       "      <td>16/164E</td>\n",
       "    </tr>\n",
       "  </tbody>\n",
       "</table>\n",
       "</div>"
      ],
      "text/plain": [
       "  Part Number  SrNo     EPIC ID               Name  Gender  Age  \\\n",
       "0   AC0230004     1  RJN1991230       Mahesh Kumar    Male   43   \n",
       "1   AC0230004     2  RJN1644268  Mohan Kumar Yadav    Male   33   \n",
       "2   AC0230004     3  RJN1805951      Jitnder Kumar    Male   36   \n",
       "3   AC0230004     4  RJN1162544             Gaytri  Female   39   \n",
       "4   AC0230004     5  FMR0814566       Rajesh Kumar    Male   39   \n",
       "\n",
       "           Guardian Name Relationship  Address   Others  \n",
       "0               Rati Ram     Father's      NaN   15/793  \n",
       "1  Rajender Prasad Yadav     Father's      NaN  16/41-E  \n",
       "2           Ashish Kumar     Father's      NaN  16/147E  \n",
       "3           Rajesh Kumar    Husband's      NaN  16/164E  \n",
       "4             Om Prakash     Father's      NaN  16/164E  "
      ]
     },
     "execution_count": 28,
     "metadata": {},
     "output_type": "execute_result"
    }
   ],
   "source": [
    "# df_all = pd.ExcelFile('AC23-1-5.xlsx')\n",
    "# df = pd.read_excel(df_all, 'Sheet4')\n",
    "df = pd.read_excel('AC23-4.xlsx')\n",
    "df.head()"
   ]
  },
  {
   "cell_type": "code",
   "execution_count": 30,
   "metadata": {
    "ExecuteTime": {
     "end_time": "2019-02-27T07:53:05.015586Z",
     "start_time": "2019-02-27T07:53:04.923783Z"
    }
   },
   "outputs": [],
   "source": [
    "name = df['Name']\n",
    "g_name = df['Guardian Name']\n",
    "ln = []\n",
    "gln = []\n",
    "for i in range(len(df)):\n",
    "    ln.append(name[i].split()[-1])\n",
    "    gln.append(g_name[i].split()[-1])"
   ]
  },
  {
   "cell_type": "code",
   "execution_count": 32,
   "metadata": {
    "ExecuteTime": {
     "end_time": "2019-02-27T07:53:07.432758Z",
     "start_time": "2019-02-27T07:53:07.424813Z"
    }
   },
   "outputs": [],
   "source": [
    "uln = set(ln)\n",
    "guln = set(gln)\n",
    "# len(uln)\n",
    "# len(guln)\n",
    "# guln"
   ]
  },
  {
   "cell_type": "code",
   "execution_count": 62,
   "metadata": {
    "ExecuteTime": {
     "end_time": "2019-02-27T08:42:06.709109Z",
     "start_time": "2019-02-27T08:42:06.681338Z"
    }
   },
   "outputs": [],
   "source": [
    "NH = ['zalil', 'zabbar', 'sultan', 'shhabuddin', 'shersia', 'shameed', 'shah', 'shabir', 'rehman', 'rafiq', 'nizamuddin', 'naeem', 'murshid', 'mahmud', \n",
    "            'kalam', 'ishaq', 'imtiyaz', 'idrish', 'hussain', 'hosain', 'firoz', 'abdulaziz', 'ahmed', 'akbar', 'akhtar', 'ali', 'aluddin', 'ashrfi', 'ayub', \n",
    "             'aziz', 'zaki', 'zahoor', 'ansar', 'shahid', 'alam', 'mansoor', 'wazir', 'naseem', 'rehman', 'hussain', 'kashim'\n",
    "     , 'zite', 'zende', 'warraich', 'quereshi', 'qazi', 'quazi', 'page', 'pagey', 'mushrif', 'khan', 'kazi', 'jawed', 'jazimuddin', 'hussainl', 'haasan','faasil', 'abraham']\n",
    "\n",
    "alphabet = ['A', 'B', 'C', 'D', 'E', 'F', 'G', 'H', 'I', 'J', 'K', 'L', 'M', 'N', 'O', 'P', 'Q', 'R', 'S', 'T', 'U', 'V', 'W', 'X', 'Y', 'Z']\n"
   ]
  },
  {
   "cell_type": "markdown",
   "metadata": {},
   "source": [
    "# making sets of hindu and non-hindu"
   ]
  },
  {
   "cell_type": "code",
   "execution_count": 63,
   "metadata": {
    "ExecuteTime": {
     "end_time": "2019-02-27T08:42:08.313814Z",
     "start_time": "2019-02-27T08:42:08.300806Z"
    }
   },
   "outputs": [],
   "source": [
    "for i in range(len(NH)):\n",
    "    NH[i] = NH[i].title()\n",
    "\n",
    "guln.difference_update(set(NH))"
   ]
  },
  {
   "cell_type": "code",
   "execution_count": 64,
   "metadata": {
    "ExecuteTime": {
     "end_time": "2019-02-27T08:42:11.011980Z",
     "start_time": "2019-02-27T08:42:10.754243Z"
    }
   },
   "outputs": [
    {
     "data": {
      "text/plain": [
       "2351"
      ]
     },
     "execution_count": 64,
     "metadata": {},
     "output_type": "execute_result"
    }
   ],
   "source": [
    "# hinduS = pd.read_excel('Hindu Surnames.xlsx', 'Hindu')\n",
    "hinduS =  pd.read_excel('HS.xlsx')\n",
    "hinduS = set(hinduS['HinduN'])\n",
    "hinduS = hinduS.union(guln)\n",
    "len(hinduS)\n"
   ]
  },
  {
   "cell_type": "code",
   "execution_count": 65,
   "metadata": {
    "ExecuteTime": {
     "end_time": "2019-02-27T08:42:11.649494Z",
     "start_time": "2019-02-27T08:42:11.634538Z"
    }
   },
   "outputs": [
    {
     "data": {
      "text/plain": [
       "2348"
      ]
     },
     "execution_count": 65,
     "metadata": {},
     "output_type": "execute_result"
    }
   ],
   "source": [
    "hinduS.difference_update(set(NH))\n",
    "hinduS.difference_update(set(alphabet))\n",
    "len(hinduS)"
   ]
  },
  {
   "cell_type": "code",
   "execution_count": 66,
   "metadata": {
    "ExecuteTime": {
     "end_time": "2019-02-27T08:42:12.619052Z",
     "start_time": "2019-02-27T08:42:12.374514Z"
    }
   },
   "outputs": [],
   "source": [
    "# len(SurName)\n",
    "hindu_SurName = pd.DataFrame(list(hinduS))\n",
    "nonHindu_SurName = pd.DataFrame(NH)\n",
    "# df.apply(lambda row: list(np.hstack((np.asarray(row.list1), np.asarray(row.list2)))), axis=1)\n",
    "\n",
    "hindu_SurName.to_excel('hinduSurnamesUpdated.xlsx')\n",
    "nonHindu_SurName.to_excel('Non-hinduSurname.xlsx')"
   ]
  },
  {
   "cell_type": "code",
   "execution_count": 72,
   "metadata": {
    "ExecuteTime": {
     "end_time": "2019-02-27T09:19:22.032566Z",
     "start_time": "2019-02-27T09:19:21.954687Z"
    }
   },
   "outputs": [],
   "source": [
    "df['last_guardian'] = gln\n",
    "a = [\"\"]*len(df)\n",
    "for i in range(len(df)):\n",
    "    if df['last_guardian'][i] in NH:\n",
    "        a[i] = 'Non-Hindu'\n",
    "    else:\n",
    "        a[i] = 'Hindu'\n",
    "        \n",
    "df['Religion'] = a"
   ]
  },
  {
   "cell_type": "code",
   "execution_count": 39,
   "metadata": {
    "ExecuteTime": {
     "end_time": "2019-02-27T07:53:15.705924Z",
     "start_time": "2019-02-27T07:53:15.569065Z"
    }
   },
   "outputs": [],
   "source": [
    "hinduS = pd.read_excel('hinduSurnamesUpdated.xlsx')\n",
    "NH = pd.read_excel('Non-hinduSurname.xlsx')"
   ]
  },
  {
   "cell_type": "code",
   "execution_count": 15,
   "metadata": {
    "ExecuteTime": {
     "end_time": "2019-02-26T09:32:59.992343Z",
     "start_time": "2019-02-26T09:32:59.916534Z"
    }
   },
   "outputs": [],
   "source": [
    "# [x for x in range(len(hindu))]\n",
    "# df['religion'].isnull().sum()\n",
    "# df[df['last_guardian'] == 'Wal']\n",
    "# df['last_guardian'][1] == hindu[1]\n",
    "# hindu[1]\n",
    "# df"
   ]
  },
  {
   "cell_type": "code",
   "execution_count": 12,
   "metadata": {
    "ExecuteTime": {
     "end_time": "2019-03-01T16:31:20.285195Z",
     "start_time": "2019-03-01T16:31:20.265273Z"
    }
   },
   "outputs": [],
   "source": [
    "pickle_out = open('groupAgeWise.pickle', 'wb')\n",
    "pickle.dump(group, pickle_out)\n",
    "pickle_out.close()"
   ]
  },
  {
   "cell_type": "code",
   "execution_count": 17,
   "metadata": {
    "ExecuteTime": {
     "end_time": "2019-02-26T09:33:00.160485Z",
     "start_time": "2019-02-26T09:33:00.089930Z"
    }
   },
   "outputs": [],
   "source": [
    "pickle_in = open('hinduS.pickle', 'rb')\n",
    "hinduS = pickle.load(pickle_in)"
   ]
  },
  {
   "cell_type": "code",
   "execution_count": 10,
   "metadata": {
    "ExecuteTime": {
     "end_time": "2019-03-01T16:30:19.366221Z",
     "start_time": "2019-03-01T16:30:18.502017Z"
    }
   },
   "outputs": [],
   "source": [
    "# df.head()\n",
    "# df[df['Religion'] == 'Non-Hindu']\n",
    "# df\n",
    "# hinduS\n",
    "df.to_excel('after_applying_religion-4.xlsx')"
   ]
  },
  {
   "cell_type": "markdown",
   "metadata": {},
   "source": [
    "# Question 5 below"
   ]
  },
  {
   "cell_type": "code",
   "execution_count": 8,
   "metadata": {
    "ExecuteTime": {
     "end_time": "2019-03-01T16:29:48.120236Z",
     "start_time": "2019-03-01T16:29:48.098879Z"
    }
   },
   "outputs": [],
   "source": [
    "labels = ['18-23', '23-28', '28-33', '33-38', '38-43', '43-48', '48-53', '53-58', '58-63', '63-68', \n",
    "          '68-73', '73-78', '78-83', '83-88', '88-93', '93-98']\n",
    "bins = [18, 23, 28, 33, 38, 43, 48, 53, 58, 63, 68, 73, 78, 83, 88, 93, 98]\n",
    "df[\"Age_group\"] = pd.cut(df['Age'], bins, labels=labels)\n",
    "# plt.hist(df1[\"age\"], bins=8)\n",
    "# df1.head(5)\n",
    "# sns.countplot(df1['Age_group'], hue=df1['gen'])"
   ]
  },
  {
   "cell_type": "code",
   "execution_count": 11,
   "metadata": {
    "ExecuteTime": {
     "end_time": "2019-02-28T12:16:09.954908Z",
     "start_time": "2019-02-28T12:16:09.935361Z"
    }
   },
   "outputs": [
    {
     "data": {
      "text/plain": [
       "Gender  Age_group\n",
       "Female  19-24        44.0\n",
       "        24-29        77.0\n",
       "        29-34        79.0\n",
       "        34-39        64.0\n",
       "        39-44        50.0\n",
       "        44-49        46.0\n",
       "        49-54        47.0\n",
       "        54-59        28.0\n",
       "        59-64        14.0\n",
       "        64-69        11.0\n",
       "        69-74        16.0\n",
       "        74-79        12.0\n",
       "        79-84        10.0\n",
       "        84-89         2.0\n",
       "        89-94         NaN\n",
       "        94-99         NaN\n",
       "Male    19-24        59.0\n",
       "        24-29        76.0\n",
       "        29-34        73.0\n",
       "        34-39        86.0\n",
       "        39-44        49.0\n",
       "        44-49        67.0\n",
       "        49-54        50.0\n",
       "        54-59        41.0\n",
       "        59-64        20.0\n",
       "        64-69        12.0\n",
       "        69-74         8.0\n",
       "        74-79         3.0\n",
       "        79-84         1.0\n",
       "        84-89         1.0\n",
       "        89-94         NaN\n",
       "        94-99         1.0\n",
       "Name: Part Number, dtype: float64"
      ]
     },
     "execution_count": 11,
     "metadata": {},
     "output_type": "execute_result"
    }
   ],
   "source": [
    "# df.sort_values(by=['Age'], ascending=False)\n",
    "group = df.groupby(['Gender', 'Age_group']).count()\n",
    "count_ageWise = group['Part Number']\n",
    "count_ageWise"
   ]
  },
  {
   "cell_type": "code",
   "execution_count": 139,
   "metadata": {
    "ExecuteTime": {
     "end_time": "2019-02-27T06:33:58.283961Z",
     "start_time": "2019-02-27T06:33:58.275869Z"
    }
   },
   "outputs": [],
   "source": [
    "# dill.dump_session(\"AC23.db\")\n",
    "# hinduS\n",
    "# value_Count = df.groupby(['Others']).count()\n",
    "# V_count = value_Count['Part Number']\n",
    "V_count = df['Others'].value_counts\n",
    "# V_count\n",
    "# V_count']\n",
    "# df['Others'] == V_count\n",
    "# df['Others'].values.count\n"
   ]
  },
  {
   "cell_type": "code",
   "execution_count": 4,
   "metadata": {
    "ExecuteTime": {
     "end_time": "2019-02-27T06:52:03.065131Z",
     "start_time": "2019-02-27T06:52:02.693446Z"
    }
   },
   "outputs": [
    {
     "data": {
      "text/html": [
       "<div>\n",
       "<style scoped>\n",
       "    .dataframe tbody tr th:only-of-type {\n",
       "        vertical-align: middle;\n",
       "    }\n",
       "\n",
       "    .dataframe tbody tr th {\n",
       "        vertical-align: top;\n",
       "    }\n",
       "\n",
       "    .dataframe thead th {\n",
       "        text-align: right;\n",
       "    }\n",
       "</style>\n",
       "<table border=\"1\" class=\"dataframe\">\n",
       "  <thead>\n",
       "    <tr style=\"text-align: right;\">\n",
       "      <th></th>\n",
       "      <th>Part Number</th>\n",
       "      <th>SrNo</th>\n",
       "      <th>EPIC ID</th>\n",
       "      <th>Name</th>\n",
       "      <th>Gender</th>\n",
       "      <th>Age</th>\n",
       "      <th>Guardian Name</th>\n",
       "      <th>Relationship</th>\n",
       "      <th>Address</th>\n",
       "      <th>Others</th>\n",
       "      <th>EPIC ID.1</th>\n",
       "      <th>EID</th>\n",
       "      <th>Age.1</th>\n",
       "    </tr>\n",
       "  </thead>\n",
       "  <tbody>\n",
       "    <tr>\n",
       "      <th>0</th>\n",
       "      <td>AC0230003</td>\n",
       "      <td>126.0</td>\n",
       "      <td>RJN2041647</td>\n",
       "      <td>Guru Sharan Saha</td>\n",
       "      <td>Male</td>\n",
       "      <td>27.0</td>\n",
       "      <td>Faudar Saha</td>\n",
       "      <td>Father's</td>\n",
       "      <td>NaN</td>\n",
       "      <td>16/482</td>\n",
       "      <td>RJN</td>\n",
       "      <td>2041647.0</td>\n",
       "      <td>27.0</td>\n",
       "    </tr>\n",
       "    <tr>\n",
       "      <th>1</th>\n",
       "      <td>AC0230003</td>\n",
       "      <td>78.0</td>\n",
       "      <td>RJN2041176</td>\n",
       "      <td>Rohit Kumar</td>\n",
       "      <td>Male</td>\n",
       "      <td>19.0</td>\n",
       "      <td>Vinod Kumar</td>\n",
       "      <td>Father's</td>\n",
       "      <td>NaN</td>\n",
       "      <td>16/412</td>\n",
       "      <td>RJN</td>\n",
       "      <td>2041176.0</td>\n",
       "      <td>19.0</td>\n",
       "    </tr>\n",
       "    <tr>\n",
       "      <th>2</th>\n",
       "      <td>AC0230003</td>\n",
       "      <td>10.0</td>\n",
       "      <td>RJN2040996</td>\n",
       "      <td>Deepak Rana</td>\n",
       "      <td>Male</td>\n",
       "      <td>19.0</td>\n",
       "      <td>Om Prakash</td>\n",
       "      <td>Father's</td>\n",
       "      <td>NaN</td>\n",
       "      <td>16/2</td>\n",
       "      <td>RJN</td>\n",
       "      <td>2040996.0</td>\n",
       "      <td>19.0</td>\n",
       "    </tr>\n",
       "    <tr>\n",
       "      <th>3</th>\n",
       "      <td>AC0230003</td>\n",
       "      <td>144.0</td>\n",
       "      <td>RJN2039956</td>\n",
       "      <td>Monorara Khatun</td>\n",
       "      <td>Female</td>\n",
       "      <td>28.0</td>\n",
       "      <td>Md Bilal Ansari</td>\n",
       "      <td>Husband's</td>\n",
       "      <td>NaN</td>\n",
       "      <td>16/493</td>\n",
       "      <td>RJN</td>\n",
       "      <td>2039956.0</td>\n",
       "      <td>28.0</td>\n",
       "    </tr>\n",
       "    <tr>\n",
       "      <th>4</th>\n",
       "      <td>AC0230003</td>\n",
       "      <td>134.0</td>\n",
       "      <td>RJN2036077</td>\n",
       "      <td>Rajesh Kumar</td>\n",
       "      <td>Male</td>\n",
       "      <td>39.0</td>\n",
       "      <td>Ram Suresh</td>\n",
       "      <td>Father's</td>\n",
       "      <td>NaN</td>\n",
       "      <td>16/487-I</td>\n",
       "      <td>RJN</td>\n",
       "      <td>2036077.0</td>\n",
       "      <td>39.0</td>\n",
       "    </tr>\n",
       "  </tbody>\n",
       "</table>\n",
       "</div>"
      ],
      "text/plain": [
       "  Part Number   SrNo     EPIC ID              Name  Gender   Age  \\\n",
       "0   AC0230003  126.0  RJN2041647  Guru Sharan Saha    Male  27.0   \n",
       "1   AC0230003   78.0  RJN2041176       Rohit Kumar    Male  19.0   \n",
       "2   AC0230003   10.0  RJN2040996       Deepak Rana    Male  19.0   \n",
       "3   AC0230003  144.0  RJN2039956   Monorara Khatun  Female  28.0   \n",
       "4   AC0230003  134.0  RJN2036077      Rajesh Kumar    Male  39.0   \n",
       "\n",
       "     Guardian Name Relationship  Address    Others EPIC ID.1        EID  Age.1  \n",
       "0      Faudar Saha     Father's      NaN    16/482       RJN  2041647.0   27.0  \n",
       "1      Vinod Kumar     Father's      NaN    16/412       RJN  2041176.0   19.0  \n",
       "2       Om Prakash     Father's      NaN      16/2       RJN  2040996.0   19.0  \n",
       "3  Md Bilal Ansari    Husband's      NaN    16/493       RJN  2039956.0   28.0  \n",
       "4       Ram Suresh     Father's      NaN  16/487-I       RJN  2036077.0   39.0  "
      ]
     },
     "execution_count": 4,
     "metadata": {},
     "output_type": "execute_result"
    }
   ],
   "source": [
    "# df['EPIC ID'][3]\n",
    "# df['EPIC ID']\n",
    "# df1_all = pd.ExcelFile('AC23_1-5.xlsx')\n",
    "df1 = pd.read_excel('xyz1.xlsx')\n",
    "df1.head()\n"
   ]
  },
  {
   "cell_type": "code",
   "execution_count": 66,
   "metadata": {
    "ExecuteTime": {
     "end_time": "2019-02-26T09:52:44.640893Z",
     "start_time": "2019-02-26T09:52:44.631551Z"
    }
   },
   "outputs": [],
   "source": [
    "# df.iloc[:][11:]\n",
    "# plt.scatter(df1['Age'], df1['Unnamed:11'])\n",
    "# df\n",
    "# from sklearn.preprocessing import StandardScaler\n",
    "\n",
    "# features = ['EID', 'Age']\n",
    "\n",
    "# # Separating out the features\n",
    "# x = df1.loc[:, features].values\n",
    "\n",
    "# # Standardizing the features\n",
    "# x = StandardScaler().fit_transform(x)\n",
    "# df1.sort_values(by = ['Age'])\n",
    "df1 = df1.dropna(how='all', axis=1)\n",
    "df1"
   ]
  },
  {
   "cell_type": "code",
   "execution_count": 116,
   "metadata": {
    "ExecuteTime": {
     "end_time": "2019-02-26T10:36:50.588056Z",
     "start_time": "2019-02-26T10:36:50.029904Z"
    },
    "scrolled": true
   },
   "outputs": [
    {
     "data": {
      "text/plain": [
       "<matplotlib.collections.PathCollection at 0x7f9b0c0492e8>"
      ]
     },
     "execution_count": 116,
     "metadata": {},
     "output_type": "execute_result"
    },
    {
     "data": {
      "image/png": "[encoded data removed]",
      "text/plain": [
       "<Figure size 432x288 with 1 Axes>"
      ]
     },
     "metadata": {
      "needs_background": "light"
     },
     "output_type": "display_data"
    }
   ],
   "source": [
    "df1['EID1'] = df1['EID']*(0.00001)\n",
    "plt.scatter(x=df1['Age'], y= df1['EID1'])\n",
    "# df['EID1'] = df['EID']/10000 "
   ]
  },
  {
   "cell_type": "code",
   "execution_count": 108,
   "metadata": {
    "ExecuteTime": {
     "end_time": "2019-02-28T09:52:26.429783Z",
     "start_time": "2019-02-28T09:52:26.079557Z"
    }
   },
   "outputs": [
    {
     "data": {
      "text/plain": [
       "[<matplotlib.lines.Line2D at 0x7f04c0fb1860>]"
      ]
     },
     "execution_count": 108,
     "metadata": {},
     "output_type": "execute_result"
    },
    {
     "data": {
      "image/png": "[encoded data removed]",
      "text/plain": [
       "<Figure size 432x288 with 1 Axes>"
      ]
     },
     "metadata": {
      "needs_background": "light"
     },
     "output_type": "display_data"
    }
   ],
   "source": [
    "# x = df.iloc[:,11]\n",
    "\n",
    "# Sx = x.cov().values\n",
    "# Sx = sp.linalg.inv(Sx)\n",
    "\n",
    "# mean = x.mean().values\n",
    "\n",
    "# print('Mean :', mean)\n",
    "# print('Inverce Covariance :\\n ', Sx)\n",
    "# df1.info()\n",
    "# (df.groupby(['cluster', 'org'], as_index=False).mean()\n",
    "#             .groupby('cluster')['time'].mean())\n",
    "\n",
    "ageMean = df1.groupby(['Age'], as_index=False).mean().groupby('Age')['EID1'].mean()\n",
    "# ageMean.index\n",
    "plt.plot(ageMean.index, ageMean)\n",
    "# ageMean"
   ]
  },
  {
   "cell_type": "code",
   "execution_count": 3,
   "metadata": {
    "ExecuteTime": {
     "end_time": "2019-02-28T12:13:24.429739Z",
     "start_time": "2019-02-28T12:13:24.422653Z"
    }
   },
   "outputs": [
    {
     "data": {
      "text/html": [
       "<script type=\"text/javascript\">window.PlotlyConfig = {MathJaxConfig: 'local'};</script><script type=\"text/javascript\">if (window.MathJax) {MathJax.Hub.Config({SVG: {font: \"STIX-Web\"}});}</script><script>requirejs.config({paths: { 'plotly': ['https://cdn.plot.ly/plotly-latest.min']},});if(!window._Plotly) {require(['plotly'],function(plotly) {window._Plotly=plotly;});}</script>"
      ],
      "text/vnd.plotly.v1+html": [
       "<script type=\"text/javascript\">window.PlotlyConfig = {MathJaxConfig: 'local'};</script><script type=\"text/javascript\">if (window.MathJax) {MathJax.Hub.Config({SVG: {font: \"STIX-Web\"}});}</script><script>requirejs.config({paths: { 'plotly': ['https://cdn.plot.ly/plotly-latest.min']},});if(!window._Plotly) {require(['plotly'],function(plotly) {window._Plotly=plotly;});}</script>"
      ]
     },
     "metadata": {},
     "output_type": "display_data"
    }
   ],
   "source": [
    "from plotly import __version__\n",
    "from plotly.offline import download_plotlyjs, init_notebook_mode, plot, iplot\n",
    "import plotly.graph_objs as go\n",
    "# print(__version__) # requires version >= 1.9.0\n",
    "init_notebook_mode(connected=True)"
   ]
  },
  {
   "cell_type": "code",
   "execution_count": 6,
   "metadata": {
    "ExecuteTime": {
     "end_time": "2019-02-28T12:14:10.964169Z",
     "start_time": "2019-02-28T12:14:10.850158Z"
    }
   },
   "outputs": [
    {
     "data": {
      "application/vnd.plotly.v1+json": {
       "config": {
        "linkText": "Export to plot.ly",
        "plotlyServerURL": "https://plot.ly",
        "showLink": true
       },
       "data": [
        {
         "type": "scatter",
         "uid": "0888caa4-4eea-4860-8342-2e3056922bc4",
         "x": [
          19,
          20,
          21,
          22,
          23,
          24,
          25,
          26,
          27,
          28,
          29,
          30,
          31,
          32,
          33,
          34,
          35,
          36,
          37,
          38,
          39,
          40,
          41,
          42,
          43,
          44,
          45,
          46,
          47,
          48,
          49,
          50,
          51,
          52,
          53,
          54,
          55,
          56,
          57,
          58,
          59,
          60,
          61,
          62,
          63,
          64,
          65,
          66,
          67,
          68,
          69,
          70,
          71,
          72,
          73,
          74,
          76,
          77,
          78,
          79,
          80,
          81,
          82,
          86,
          87,
          91,
          98
         ],
         "y": [
          20.279325454545454,
          19.900987692307694,
          19.578566111111115,
          17.677282962962963,
          17.32777533333333,
          16.645127500000005,
          16.90683393939394,
          16.464524444444447,
          12.793928857142859,
          13.17301761904762,
          12.566929999999997,
          11.913001818181817,
          12.141302500000002,
          12.488020731707316,
          11.564934000000004,
          13.494429999999994,
          13.79808525,
          11.732874090909098,
          9.99216190476191,
          9.522333448275864,
          11.898117499999996,
          9.593025172413792,
          11.186952352941182,
          10.442557619047621,
          11.976282000000001,
          6.089949310344826,
          9.690554444444446,
          7.401618571428573,
          7.321157894736842,
          6.586415625,
          4.685809000000001,
          6.129164285714286,
          6.5760119999999995,
          6.807484666666668,
          7.547402142857144,
          5.638332352941178,
          4.525084285714287,
          6.349118333333333,
          2.900851428571429,
          0.9629376923076923,
          8.671050000000001,
          7.363848000000002,
          2.820615333333333,
          8.47587888888889,
          0.8447133333333334,
          12.85200222222222,
          7.462038571428572,
          3.4404233333333334,
          0.373334,
          11.283895000000001,
          1.1739000000000002,
          5.164592000000001,
          1.544672,
          2.4435860000000003,
          1.7198650000000002,
          1.16632,
          4.841162222222223,
          4.0438979999999995,
          0.17207,
          6.505675,
          0.20370000000000002,
          0.16964,
          8.202820000000001,
          0.17772000000000002,
          3.9842466666666674,
          0.5114133333333334,
          10.857030000000002
         ]
        }
       ],
       "layout": {}
      },
      "text/html": [
       "<div id=\"f8f4336d-e2d6-40bd-a927-4dfc25a9d7d6\" style=\"height: 525px; width: 100%;\" class=\"plotly-graph-div\"></div><script type=\"text/javascript\">require([\"plotly\"], function(Plotly) { window.PLOTLYENV=window.PLOTLYENV || {};window.PLOTLYENV.BASE_URL=\"https://plot.ly\";Plotly.newPlot(\"f8f4336d-e2d6-40bd-a927-4dfc25a9d7d6\", [{\"x\": [19.0, 20.0, 21.0, 22.0, 23.0, 24.0, 25.0, 26.0, 27.0, 28.0, 29.0, 30.0, 31.0, 32.0, 33.0, 34.0, 35.0, 36.0, 37.0, 38.0, 39.0, 40.0, 41.0, 42.0, 43.0, 44.0, 45.0, 46.0, 47.0, 48.0, 49.0, 50.0, 51.0, 52.0, 53.0, 54.0, 55.0, 56.0, 57.0, 58.0, 59.0, 60.0, 61.0, 62.0, 63.0, 64.0, 65.0, 66.0, 67.0, 68.0, 69.0, 70.0, 71.0, 72.0, 73.0, 74.0, 76.0, 77.0, 78.0, 79.0, 80.0, 81.0, 82.0, 86.0, 87.0, 91.0, 98.0], \"y\": [20.279325454545454, 19.900987692307694, 19.578566111111115, 17.677282962962963, 17.32777533333333, 16.645127500000005, 16.90683393939394, 16.464524444444447, 12.793928857142859, 13.17301761904762, 12.566929999999997, 11.913001818181817, 12.141302500000002, 12.488020731707316, 11.564934000000004, 13.494429999999994, 13.79808525, 11.732874090909098, 9.99216190476191, 9.522333448275864, 11.898117499999996, 9.593025172413792, 11.186952352941182, 10.442557619047621, 11.976282000000001, 6.089949310344826, 9.690554444444446, 7.401618571428573, 7.321157894736842, 6.586415625, 4.685809000000001, 6.129164285714286, 6.5760119999999995, 6.807484666666668, 7.547402142857144, 5.638332352941178, 4.525084285714287, 6.349118333333333, 2.900851428571429, 0.9629376923076923, 8.671050000000001, 7.363848000000002, 2.820615333333333, 8.47587888888889, 0.8447133333333334, 12.85200222222222, 7.462038571428572, 3.4404233333333334, 0.373334, 11.283895000000001, 1.1739000000000002, 5.164592000000001, 1.544672, 2.4435860000000003, 1.7198650000000002, 1.16632, 4.841162222222223, 4.0438979999999995, 0.17207, 6.505675, 0.20370000000000002, 0.16964, 8.202820000000001, 0.17772000000000002, 3.9842466666666674, 0.5114133333333334, 10.857030000000002], \"type\": \"scatter\", \"uid\": \"7c09624b-a1da-42ce-ac60-9d771b46d05f\"}], {}, {\"showLink\": true, \"linkText\": \"Export to plot.ly\", \"plotlyServerURL\": \"https://plot.ly\"})});</script><script type=\"text/javascript\">window.addEventListener(\"resize\", function(){window._Plotly.Plots.resize(document.getElementById(\"f8f4336d-e2d6-40bd-a927-4dfc25a9d7d6\"));});</script>"
      ],
      "text/vnd.plotly.v1+html": [
       "<div id=\"f8f4336d-e2d6-40bd-a927-4dfc25a9d7d6\" style=\"height: 525px; width: 100%;\" class=\"plotly-graph-div\"></div><script type=\"text/javascript\">require([\"plotly\"], function(Plotly) { window.PLOTLYENV=window.PLOTLYENV || {};window.PLOTLYENV.BASE_URL=\"https://plot.ly\";Plotly.newPlot(\"f8f4336d-e2d6-40bd-a927-4dfc25a9d7d6\", [{\"x\": [19.0, 20.0, 21.0, 22.0, 23.0, 24.0, 25.0, 26.0, 27.0, 28.0, 29.0, 30.0, 31.0, 32.0, 33.0, 34.0, 35.0, 36.0, 37.0, 38.0, 39.0, 40.0, 41.0, 42.0, 43.0, 44.0, 45.0, 46.0, 47.0, 48.0, 49.0, 50.0, 51.0, 52.0, 53.0, 54.0, 55.0, 56.0, 57.0, 58.0, 59.0, 60.0, 61.0, 62.0, 63.0, 64.0, 65.0, 66.0, 67.0, 68.0, 69.0, 70.0, 71.0, 72.0, 73.0, 74.0, 76.0, 77.0, 78.0, 79.0, 80.0, 81.0, 82.0, 86.0, 87.0, 91.0, 98.0], \"y\": [20.279325454545454, 19.900987692307694, 19.578566111111115, 17.677282962962963, 17.32777533333333, 16.645127500000005, 16.90683393939394, 16.464524444444447, 12.793928857142859, 13.17301761904762, 12.566929999999997, 11.913001818181817, 12.141302500000002, 12.488020731707316, 11.564934000000004, 13.494429999999994, 13.79808525, 11.732874090909098, 9.99216190476191, 9.522333448275864, 11.898117499999996, 9.593025172413792, 11.186952352941182, 10.442557619047621, 11.976282000000001, 6.089949310344826, 9.690554444444446, 7.401618571428573, 7.321157894736842, 6.586415625, 4.685809000000001, 6.129164285714286, 6.5760119999999995, 6.807484666666668, 7.547402142857144, 5.638332352941178, 4.525084285714287, 6.349118333333333, 2.900851428571429, 0.9629376923076923, 8.671050000000001, 7.363848000000002, 2.820615333333333, 8.47587888888889, 0.8447133333333334, 12.85200222222222, 7.462038571428572, 3.4404233333333334, 0.373334, 11.283895000000001, 1.1739000000000002, 5.164592000000001, 1.544672, 2.4435860000000003, 1.7198650000000002, 1.16632, 4.841162222222223, 4.0438979999999995, 0.17207, 6.505675, 0.20370000000000002, 0.16964, 8.202820000000001, 0.17772000000000002, 3.9842466666666674, 0.5114133333333334, 10.857030000000002], \"type\": \"scatter\", \"uid\": \"7c09624b-a1da-42ce-ac60-9d771b46d05f\"}], {}, {\"showLink\": true, \"linkText\": \"Export to plot.ly\", \"plotlyServerURL\": \"https://plot.ly\"})});</script><script type=\"text/javascript\">window.addEventListener(\"resize\", function(){window._Plotly.Plots.resize(document.getElementById(\"f8f4336d-e2d6-40bd-a927-4dfc25a9d7d6\"));});</script>"
      ]
     },
     "metadata": {},
     "output_type": "display_data"
    }
   ],
   "source": [
    "# plot([go.Scatter(x=ageMean.index, y=ageMean)])\n",
    "iplot([{\"x\": ageMean.index, \"y\": ageMean}])\n"
   ]
  },
  {
   "cell_type": "code",
   "execution_count": 7,
   "metadata": {
    "ExecuteTime": {
     "end_time": "2019-02-28T12:15:23.253407Z",
     "start_time": "2019-02-28T12:15:23.248369Z"
    }
   },
   "outputs": [],
   "source": [
    "# ageM = df1.groupby(['Age'], as_index=False).median().groupby('Age')['EID1'].median()\n",
    "# ageMean.index\n",
    "# plt.plot(ageM.index, ageM)\n",
    "# ageM\n",
    "# plot([go.Scatter(x=ageM.index, y=ageM)])"
   ]
  },
  {
   "cell_type": "code",
   "execution_count": 111,
   "metadata": {
    "ExecuteTime": {
     "end_time": "2019-02-28T12:12:18.385064Z",
     "start_time": "2019-02-28T12:12:18.379887Z"
    }
   },
   "outputs": [
    {
     "name": "stdout",
     "output_type": "stream",
     "text": [
      "0.057649667405764965 0.13210227272727273 0.0948469006721434 0.048525214081826834 0.1388888888888889\n"
     ]
    }
   ],
   "source": [
    "# df.groupby(['Religion']).count()\n",
    "print(78/1353, 186/1408, 127/1339, 51/1051, 140/1008)\n",
    "# 78/1353, 186/1408, 1271339, 51/1051, 140/1008,"
   ]
  },
  {
   "cell_type": "code",
   "execution_count": 11,
   "metadata": {
    "ExecuteTime": {
     "end_time": "2019-03-01T16:30:47.072034Z",
     "start_time": "2019-03-01T16:30:46.539470Z"
    }
   },
   "outputs": [
    {
     "data": {
      "application/vnd.plotly.v1+json": {
       "config": {
        "linkText": "Export to plot.ly",
        "plotlyServerURL": "https://plot.ly",
        "showLink": true
       },
       "data": [
        {
         "type": "scatter",
         "uid": "03c25e3a-102a-4835-9997-1a9e6b9a98a5",
         "x": [
          "18-23",
          "23-28",
          "28-33",
          "33-38",
          "38-43",
          "43-48",
          "48-53",
          "53-58",
          "58-63",
          "63-68",
          "68-73",
          "73-78",
          "78-83",
          "83-88",
          "88-93",
          "93-98"
         ],
         "y": [
          85,
          140,
          158,
          142,
          115,
          112,
          96,
          82,
          38,
          26,
          22,
          20,
          10,
          4,
          0,
          1
         ]
        }
       ],
       "layout": {}
      }
     },
     "metadata": {},
     "output_type": "display_data"
    }
   ],
   "source": [
    "group = df.groupby(['Age_group'])['Part Number'].count()\n",
    "iplot([{\"x\": group.index, \"y\": group}])"
   ]
  },
  {
   "cell_type": "code",
   "execution_count": 9,
   "metadata": {
    "ExecuteTime": {
     "end_time": "2019-03-01T16:29:54.784504Z",
     "start_time": "2019-03-01T16:29:54.760813Z"
    }
   },
   "outputs": [
    {
     "data": {
      "text/html": [
       "<div>\n",
       "<style scoped>\n",
       "    .dataframe tbody tr th:only-of-type {\n",
       "        vertical-align: middle;\n",
       "    }\n",
       "\n",
       "    .dataframe tbody tr th {\n",
       "        vertical-align: top;\n",
       "    }\n",
       "\n",
       "    .dataframe thead th {\n",
       "        text-align: right;\n",
       "    }\n",
       "</style>\n",
       "<table border=\"1\" class=\"dataframe\">\n",
       "  <thead>\n",
       "    <tr style=\"text-align: right;\">\n",
       "      <th></th>\n",
       "      <th>Part Number</th>\n",
       "      <th>SrNo</th>\n",
       "      <th>EPIC ID</th>\n",
       "      <th>Name</th>\n",
       "      <th>Gender</th>\n",
       "      <th>Age</th>\n",
       "      <th>Guardian Name</th>\n",
       "      <th>Relationship</th>\n",
       "      <th>Address</th>\n",
       "      <th>Others</th>\n",
       "      <th>last_guardian</th>\n",
       "      <th>Religion</th>\n",
       "      <th>Age_group</th>\n",
       "    </tr>\n",
       "  </thead>\n",
       "  <tbody>\n",
       "    <tr>\n",
       "      <th>61</th>\n",
       "      <td>AC0230004</td>\n",
       "      <td>62</td>\n",
       "      <td>RJN2038189</td>\n",
       "      <td>Ritu Bakolia</td>\n",
       "      <td>Female</td>\n",
       "      <td>19</td>\n",
       "      <td>Roshan Lal</td>\n",
       "      <td>Father's</td>\n",
       "      <td>NaN</td>\n",
       "      <td>16/785</td>\n",
       "      <td>Lal</td>\n",
       "      <td>Hindu</td>\n",
       "      <td>18-23</td>\n",
       "    </tr>\n",
       "    <tr>\n",
       "      <th>67</th>\n",
       "      <td>AC0230004</td>\n",
       "      <td>68</td>\n",
       "      <td>RJN2040657</td>\n",
       "      <td>Saddam Hussain</td>\n",
       "      <td>Male</td>\n",
       "      <td>19</td>\n",
       "      <td>Md Ayub</td>\n",
       "      <td>Father's</td>\n",
       "      <td>NaN</td>\n",
       "      <td>16/794</td>\n",
       "      <td>Ayub</td>\n",
       "      <td>Non-Hindu</td>\n",
       "      <td>18-23</td>\n",
       "    </tr>\n",
       "    <tr>\n",
       "      <th>100</th>\n",
       "      <td>AC0230004</td>\n",
       "      <td>101</td>\n",
       "      <td>RJN2031433</td>\n",
       "      <td>Preeti</td>\n",
       "      <td>Female</td>\n",
       "      <td>19</td>\n",
       "      <td>Kishan Lal</td>\n",
       "      <td>Father's</td>\n",
       "      <td>NaN</td>\n",
       "      <td>16/841</td>\n",
       "      <td>Lal</td>\n",
       "      <td>Hindu</td>\n",
       "      <td>18-23</td>\n",
       "    </tr>\n",
       "    <tr>\n",
       "      <th>102</th>\n",
       "      <td>AC0230004</td>\n",
       "      <td>103</td>\n",
       "      <td>RJN2041119</td>\n",
       "      <td>Rahul</td>\n",
       "      <td>Male</td>\n",
       "      <td>19</td>\n",
       "      <td>Pappu</td>\n",
       "      <td>Father's</td>\n",
       "      <td>NaN</td>\n",
       "      <td>16/844</td>\n",
       "      <td>Pappu</td>\n",
       "      <td>Hindu</td>\n",
       "      <td>18-23</td>\n",
       "    </tr>\n",
       "  </tbody>\n",
       "</table>\n",
       "</div>"
      ],
      "text/plain": [
       "    Part Number  SrNo     EPIC ID            Name  Gender  Age Guardian Name  \\\n",
       "61    AC0230004    62  RJN2038189    Ritu Bakolia  Female   19    Roshan Lal   \n",
       "67    AC0230004    68  RJN2040657  Saddam Hussain    Male   19       Md Ayub   \n",
       "100   AC0230004   101  RJN2031433          Preeti  Female   19    Kishan Lal   \n",
       "102   AC0230004   103  RJN2041119           Rahul    Male   19         Pappu   \n",
       "\n",
       "    Relationship  Address  Others last_guardian   Religion Age_group  \n",
       "61      Father's      NaN  16/785           Lal      Hindu     18-23  \n",
       "67      Father's      NaN  16/794          Ayub  Non-Hindu     18-23  \n",
       "100     Father's      NaN  16/841           Lal      Hindu     18-23  \n",
       "102     Father's      NaN  16/844         Pappu      Hindu     18-23  "
      ]
     },
     "execution_count": 9,
     "metadata": {},
     "output_type": "execute_result"
    }
   ],
   "source": [
    "# np.sum(group)\n",
    "df[df['Age'] == 19]"
   ]
  }
 ],
 "metadata": {
  "kernelspec": {
   "display_name": "Python 3",
   "language": "python",
   "name": "python3"
  },
  "language_info": {
   "codemirror_mode": {
    "name": "ipython",
    "version": 3
   },
   "file_extension": ".py",
   "mimetype": "text/x-python",
   "name": "python",
   "nbconvert_exporter": "python",
   "pygments_lexer": "ipython3",
   "version": "3.7.2"
  }
 },
 "nbformat": 4,
 "nbformat_minor": 2
}
