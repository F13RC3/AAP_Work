{
 "cells": [
  {
   "cell_type": "code",
   "execution_count": 11,
   "metadata": {},
   "outputs": [],
   "source": [
    "import random\n",
    "import numpy as np\n",
    "from sklearn.preprocessing import MinMaxScaler\n",
    "import matplotlib.pyplot as plt\n",
    "%matplotlib inline"
   ]
  },
  {
   "cell_type": "code",
   "execution_count": 12,
   "metadata": {
    "scrolled": true
   },
   "outputs": [
    {
     "name": "stdout",
     "output_type": "stream",
     "text": [
      "\n",
      "Values of THETA after 100 Iteration is = \n",
      "\n",
      "[-0.14112684  6.9058393 ]\n"
     ]
    },
    {
     "data": {
      "text/plain": [
       "Text(0,0.5,'y axis')"
      ]
     },
     "execution_count": 12,
     "metadata": {},
     "output_type": "execute_result"
    },
    {
     "data": {
      "image/png": "[encoded data removed]",
      "text/plain": [
       "<Figure size 432x288 with 1 Axes>"
      ]
     },
     "metadata": {},
     "output_type": "display_data"
    }
   ],
   "source": [
    "# Function for sigmoid\n",
    "def sigmoid(a):\n",
    "    return ((1.0)/(1 + np.exp(-a)))\n",
    "\n",
    "# Gradient descent main Function\n",
    "def grad_desc(X, y, alpha, num_iter, theta, m):\n",
    "    \n",
    "    X_trans = X.T\n",
    "    \n",
    "    for i in range(0, num_iter):\n",
    "        prediction = sigmoid(np.dot(X, theta))\n",
    "        error = sigmoid(prediction) - y\n",
    "        cost = (np.dot(-y, np.log(prediction)) - np.dot((1 - y), np.log(1 - prediction))) / m \n",
    "#         Calculation for gradient descent starts now\n",
    "        gradient = np.dot(X_trans, error) / m\n",
    "        theta = theta - alpha * gradient\n",
    "    \n",
    "    return theta, prediction\n",
    "\n",
    "# DATA PLOTTING STARTS NOW\n",
    "\n",
    "X = np.zeros((100,2))\n",
    "X[:,0] = np.ones(100)\n",
    "X[:,1] = np.linspace(-3, 3, 100)  #it takes values in increasing order from -3 to 3 thats why we use linspace\n",
    "z = (7.2)*(X[:,1])\n",
    "noise = 0.3*np.random.randn(100)\n",
    "y = 1/(1+np.exp(-z))+noise\n",
    "# print(y)\n",
    "plt.scatter(X[:,1],y)\n",
    "\n",
    "\n",
    "y = (y >= 0.5) # returns boolean value to y (false ot true)\n",
    "# y1 = y\n",
    "y = y*1\n",
    "\n",
    "m, n = np.shape(X)\n",
    "theta = np.ones(n)\n",
    "num_iter = 100 # number of iteration u want to perform feel free to change it as much as u want\n",
    "alpha = 0.1 #Alpha or so called learning factor\n",
    "theta, h = grad_desc(X, y, alpha, num_iter, theta, m)\n",
    "print(\"\\nValues of THETA after \"+str(num_iter)+\" Iteration is = \\n\")\n",
    "print(theta)\n",
    "\n",
    "plt.scatter(X[:,1],y)\n",
    "plt.xlabel('x axis')\n",
    "plt.ylabel('y axis')\n"
   ]
  },
  {
   "cell_type": "code",
   "execution_count": 13,
   "metadata": {},
   "outputs": [
    {
     "data": {
      "text/plain": [
       "[<matplotlib.lines.Line2D at 0x1e9e42daba8>]"
      ]
     },
     "execution_count": 13,
     "metadata": {},
     "output_type": "execute_result"
    },
    {
     "data": {
      "image/png": "[encoded data removed]",
      "text/plain": [
       "<Figure size 432x288 with 1 Axes>"
      ]
     },
     "metadata": {},
     "output_type": "display_data"
    }
   ],
   "source": [
    "plt.scatter(X[:,1],y)\n",
    "plt.plot(X[:,1],h)"
   ]
  },
  {
   "cell_type": "code",
   "execution_count": 14,
   "metadata": {},
   "outputs": [],
   "source": [
    "# print(y1)\n",
    "# print(z)"
   ]
  }
 ],
 "metadata": {
  "kernelspec": {
   "display_name": "Python 3",
   "language": "python",
   "name": "python3"
  },
  "language_info": {
   "codemirror_mode": {
    "name": "ipython",
    "version": 3
   },
   "file_extension": ".py",
   "mimetype": "text/x-python",
   "name": "python",
   "nbconvert_exporter": "python",
   "pygments_lexer": "ipython3",
   "version": "3.6.6"
  }
 },
 "nbformat": 4,
 "nbformat_minor": 2
}
