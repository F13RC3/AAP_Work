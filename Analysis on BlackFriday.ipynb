{
 "cells": [
  {
   "cell_type": "code",
   "execution_count": 19,
   "metadata": {
    "ExecuteTime": {
     "end_time": "2019-01-02T14:13:01.705986Z",
     "start_time": "2019-01-02T14:13:01.040227Z"
    }
   },
   "outputs": [],
   "source": [
    "import numpy as np\n",
    "import pandas as pd\n",
    "\n",
    "import matplotlib.pyplot as plt\n",
    "from matplotlib import style\n",
    "style.use(\"ggplot\")\n",
    "\n",
    "import seaborn as sns\n",
    "\n",
    "from sklearn.cluster import KMeans\n",
    "\n",
    "import plotly.plotly as py\n",
    "import plotly.graph_objs as go"
   ]
  },
  {
   "cell_type": "code",
   "execution_count": 5,
   "metadata": {
    "ExecuteTime": {
     "end_time": "2019-01-02T13:45:13.513419Z",
     "start_time": "2019-01-02T13:45:12.408486Z"
    }
   },
   "outputs": [
    {
     "name": "stdout",
     "output_type": "stream",
     "text": [
      "<class 'pandas.core.frame.DataFrame'>\n",
      "RangeIndex: 537577 entries, 0 to 537576\n",
      "Data columns (total 12 columns):\n",
      "User_ID                       537577 non-null int64\n",
      "Product_ID                    537577 non-null object\n",
      "Gender                        537577 non-null object\n",
      "Age                           537577 non-null object\n",
      "Occupation                    537577 non-null int64\n",
      "City_Category                 537577 non-null object\n",
      "Stay_In_Current_City_Years    537577 non-null object\n",
      "Marital_Status                537577 non-null int64\n",
      "Product_Category_1            537577 non-null int64\n",
      "Product_Category_2            370591 non-null float64\n",
      "Product_Category_3            164278 non-null float64\n",
      "Purchase                      537577 non-null int64\n",
      "dtypes: float64(2), int64(5), object(5)\n",
      "memory usage: 49.2+ MB\n"
     ]
    }
   ],
   "source": [
    "df = pd.read_csv(\"/home/kei0s/Downloads/BlackFriday.csv\")\n",
    "\n",
    "df.info()"
   ]
  },
  {
   "cell_type": "code",
   "execution_count": 6,
   "metadata": {
    "ExecuteTime": {
     "end_time": "2019-01-02T13:45:13.605436Z",
     "start_time": "2019-01-02T13:45:13.521105Z"
    }
   },
   "outputs": [
    {
     "data": {
      "text/plain": [
       "City_Category\n",
       "A    144638\n",
       "B    226493\n",
       "C    166446\n",
       "Name: Purchase, dtype: int64"
      ]
     },
     "execution_count": 6,
     "metadata": {},
     "output_type": "execute_result"
    }
   ],
   "source": [
    "df[\"Purchase\"].groupby(df[\"City_Category\"], axis=0).count()"
   ]
  },
  {
   "cell_type": "code",
   "execution_count": 24,
   "metadata": {
    "ExecuteTime": {
     "end_time": "2019-01-02T14:16:49.051955Z",
     "start_time": "2019-01-02T14:16:49.043178Z"
    }
   },
   "outputs": [],
   "source": [
    "# X = df.iloc[:100, [8,11]]\n",
    "# X.head(5)\n",
    "# df[\"Gender\"]"
   ]
  },
  {
   "cell_type": "code",
   "execution_count": 22,
   "metadata": {
    "ExecuteTime": {
     "end_time": "2019-01-02T14:15:15.145562Z",
     "start_time": "2019-01-02T14:15:15.136428Z"
    }
   },
   "outputs": [],
   "source": [
    "# k = 3\n",
    "# kmeans = KMeans(n_clusters=k)\n",
    "# kmeans.fit(X)"
   ]
  },
  {
   "cell_type": "code",
   "execution_count": 21,
   "metadata": {
    "ExecuteTime": {
     "end_time": "2019-01-02T14:15:11.064396Z",
     "start_time": "2019-01-02T14:15:11.054581Z"
    }
   },
   "outputs": [],
   "source": [
    "# labels = kmeans.labels_\n",
    "# centroids = kmeans.cluster_centers_\n",
    "# # print(labels)\n"
   ]
  },
  {
   "cell_type": "code",
   "execution_count": 20,
   "metadata": {
    "ExecuteTime": {
     "end_time": "2019-01-02T14:13:23.581592Z",
     "start_time": "2019-01-02T14:13:23.568128Z"
    }
   },
   "outputs": [],
   "source": [
    "# colors = [\"g.\",\"r.\",\"b.\"]\n",
    "# for i in range(len(X)):\n",
    "#     print(\"coordinate:\", X[i], \"label:\", labels[i])\n",
    "#     plt.plot(X[i][0], X[i][1], colors[labels[i]], markersize = 10)\n",
    "# # plt.scatter(iris_feature[:0], iris_feature[:,1])    \n",
    "# plt.scatter(centroids[:, 0], centroids[:, 1], marker=\"x\", s=150, linewidth = 5, zorder = 10 )\n",
    "# plt.show()"
   ]
  },
  {
   "cell_type": "code",
   "execution_count": 13,
   "metadata": {
    "ExecuteTime": {
     "end_time": "2019-01-02T13:46:16.291987Z",
     "start_time": "2019-01-02T13:46:15.990591Z"
    }
   },
   "outputs": [
    {
     "data": {
      "text/plain": [
       "<matplotlib.axes._subplots.AxesSubplot at 0x7f0d0df980f0>"
      ]
     },
     "execution_count": 13,
     "metadata": {},
     "output_type": "execute_result"
    },
    {
     "data": {
      "image/png": "[encoded data removed]",
      "text/plain": [
       "<Figure size 432x288 with 1 Axes>"
      ]
     },
     "metadata": {},
     "output_type": "display_data"
    }
   ],
   "source": [
    "sns.countplot(df['Gender'])"
   ]
  },
  {
   "cell_type": "code",
   "execution_count": 16,
   "metadata": {
    "ExecuteTime": {
     "end_time": "2019-01-02T13:50:38.591075Z",
     "start_time": "2019-01-02T13:50:38.115310Z"
    }
   },
   "outputs": [
    {
     "data": {
      "text/plain": [
       "<matplotlib.axes._subplots.AxesSubplot at 0x7f0d0cfcbdd8>"
      ]
     },
     "execution_count": 16,
     "metadata": {},
     "output_type": "execute_result"
    },
    {
     "data": {
      "image/png": "[encoded data removed]",
      "text/plain": [
       "<Figure size 432x288 with 1 Axes>"
      ]
     },
     "metadata": {},
     "output_type": "display_data"
    }
   ],
   "source": [
    "sns.countplot(df['Age'])"
   ]
  },
  {
   "cell_type": "code",
   "execution_count": 17,
   "metadata": {
    "ExecuteTime": {
     "end_time": "2019-01-02T13:50:41.659664Z",
     "start_time": "2019-01-02T13:50:41.066960Z"
    }
   },
   "outputs": [
    {
     "data": {
      "text/plain": [
       "<matplotlib.axes._subplots.AxesSubplot at 0x7f0d0d4d0f98>"
      ]
     },
     "execution_count": 17,
     "metadata": {},
     "output_type": "execute_result"
    },
    {
     "data": {
      "image/png": "[encoded data removed]",
      "text/plain": [
       "<Figure size 432x288 with 1 Axes>"
      ]
     },
     "metadata": {},
     "output_type": "display_data"
    }
   ],
   "source": [
    "sns.countplot(df['Age'],hue=df['Gender'])"
   ]
  },
  {
   "cell_type": "code",
   "execution_count": 44,
   "metadata": {
    "ExecuteTime": {
     "end_time": "2019-01-02T14:35:04.807168Z",
     "start_time": "2019-01-02T14:35:04.384813Z"
    }
   },
   "outputs": [
    {
     "name": "stdout",
     "output_type": "stream",
     "text": [
      "        User_ID  Product_ID     Age  Occupation  City_Category  \\\n",
      "Gender                                                           \n",
      "F        132197      132197  132197      132197         132197   \n",
      "M        405380      405380  405380      405380         405380   \n",
      "\n",
      "        Stay_In_Current_City_Years  Marital_Status  Product_Category_1  \\\n",
      "Gender                                                                   \n",
      "F                           132197          132197              132197   \n",
      "M                           405380          405380              405380   \n",
      "\n",
      "        Product_Category_2  Product_Category_3  Purchase  \n",
      "Gender                                                    \n",
      "F                    89850               36932    132197  \n",
      "M                   280741              127346    405380  \n"
     ]
    },
    {
     "data": {
      "text/plain": [
       "([<matplotlib.patches.Wedge at 0x7f0d0a4933c8>,\n",
       "  <matplotlib.patches.Wedge at 0x7f0d0a493b00>],\n",
       " [Text(0.7877407630244033, 0.7677659085097038, 'Female'),\n",
       "  Text(-0.7877407270826864, -0.7677659453865094, 'Male')],\n",
       " [Text(0.42967677983149266, 0.41878140464165664, '24.6%'),\n",
       "  Text(-0.4296767602269198, -0.41878142475627783, '75.4%')])"
      ]
     },
     "execution_count": 44,
     "metadata": {},
     "output_type": "execute_result"
    },
    {
     "data": {
      "image/png": "[encoded data removed]",
      "text/plain": [
       "<Figure size 432x288 with 1 Axes>"
      ]
     },
     "metadata": {},
     "output_type": "display_data"
    }
   ],
   "source": [
    "pie_gender = df.groupby('Gender').agg('count')\n",
    "print(pie_gender)\n",
    "labels = [\"Female\", \"Male\"]\n",
    "plt.pie(pie_gender[\"Age\"], autopct='%1.1f%%', labels = labels)"
   ]
  },
  {
   "cell_type": "code",
   "execution_count": 47,
   "metadata": {
    "ExecuteTime": {
     "end_time": "2019-01-02T14:41:36.349270Z",
     "start_time": "2019-01-02T14:41:36.005726Z"
    }
   },
   "outputs": [
    {
     "name": "stdout",
     "output_type": "stream",
     "text": [
      "       User_ID  Product_ID  Gender  Occupation  City_Category  \\\n",
      "Age                                                             \n",
      "0-17     14707       14707   14707       14707          14707   \n",
      "18-25    97634       97634   97634       97634          97634   \n",
      "26-35   214690      214690  214690      214690         214690   \n",
      "36-45   107499      107499  107499      107499         107499   \n",
      "46-50    44526       44526   44526       44526          44526   \n",
      "51-55    37618       37618   37618       37618          37618   \n",
      "55+      20903       20903   20903       20903          20903   \n",
      "\n",
      "       Stay_In_Current_City_Years  Marital_Status  Product_Category_1  \\\n",
      "Age                                                                     \n",
      "0-17                        14707           14707               14707   \n",
      "18-25                       97634           97634               97634   \n",
      "26-35                      214690          214690              214690   \n",
      "36-45                      107499          107499              107499   \n",
      "46-50                       44526           44526               44526   \n",
      "51-55                       37618           37618               37618   \n",
      "55+                         20903           20903               20903   \n",
      "\n",
      "       Product_Category_2  Product_Category_3  Purchase  \n",
      "Age                                                      \n",
      "0-17                10466                4789     14707  \n",
      "18-25               68256               30889     97634  \n",
      "26-35              147745               65916    214690  \n",
      "36-45               74169               32758    107499  \n",
      "46-50               30441               13135     44526  \n",
      "51-55               25652               11018     37618  \n",
      "55+                 13862                5773     20903  \n"
     ]
    },
    {
     "data": {
      "text/plain": [
       "([<matplotlib.patches.Wedge at 0x7f0d0b111d30>,\n",
       "  <matplotlib.patches.Wedge at 0x7f0d0b1284a8>,\n",
       "  <matplotlib.patches.Wedge at 0x7f0d0b128ba8>,\n",
       "  <matplotlib.patches.Wedge at 0x7f0d0a9ef2e8>,\n",
       "  <matplotlib.patches.Wedge at 0x7f0d0a9ef9e8>,\n",
       "  <matplotlib.patches.Wedge at 0x7f0d0aa16128>,\n",
       "  <matplotlib.patches.Wedge at 0x7f0d0aa16828>],\n",
       " [Text(1.0959396646159807, 0.09442590492768436, '0-17'),\n",
       "  Text(0.8104832985839837, 0.7437182414842501, '18-25'),\n",
       "  Text(-0.9237638347602168, 0.5972104968845565, '26-35'),\n",
       "  Text(-0.284740787068905, -1.0625077337033273, '36-45'),\n",
       "  Text(0.6450291202246958, -0.891031668383428, '46-50'),\n",
       "  Text(0.9836212696736539, -0.4924319220416049, '51-55'),\n",
       "  Text(1.091802937436651, -0.13403859818985256, '55+')],\n",
       " [Text(0.5977852716087166, 0.05150503905146419, '2.7%'),\n",
       "  Text(0.4420817992276274, 0.4056644953550455, '18.2%'),\n",
       "  Text(-0.5038711825964819, 0.325751180118849, '39.9%'),\n",
       "  Text(-0.15531315658303907, -0.5795496729290875, '20.0%'),\n",
       "  Text(0.3518340655771068, -0.4860172736636879, '8.3%'),\n",
       "  Text(0.5365206925492657, -0.2685992302045117, '7.0%'),\n",
       "  Text(0.5955288749654459, -0.07311196264901049, '3.9%')])"
      ]
     },
     "execution_count": 47,
     "metadata": {},
     "output_type": "execute_result"
    },
    {
     "data": {
      "image/png": "[encoded data removed]",
      "text/plain": [
       "<Figure size 432x288 with 1 Axes>"
      ]
     },
     "metadata": {},
     "output_type": "display_data"
    }
   ],
   "source": [
    "pie_age = df.groupby('Age').agg('count')\n",
    "print(pie_age)\n",
    "labels = ['0-17','18-25','26-35','36-45','46-50','51-55','55+']\n",
    "plt.pie(pie_age[\"User_ID\"], autopct='%1.1f%%', labels=labels)"
   ]
  },
  {
   "cell_type": "code",
   "execution_count": null,
   "metadata": {},
   "outputs": [],
   "source": []
  }
 ],
 "metadata": {
  "kernelspec": {
   "display_name": "Python 3",
   "language": "python",
   "name": "python3"
  },
  "language_info": {
   "codemirror_mode": {
    "name": "ipython",
    "version": 3
   },
   "file_extension": ".py",
   "mimetype": "text/x-python",
   "name": "python",
   "nbconvert_exporter": "python",
   "pygments_lexer": "ipython3",
   "version": "3.7.1"
  }
 },
 "nbformat": 4,
 "nbformat_minor": 2
}
