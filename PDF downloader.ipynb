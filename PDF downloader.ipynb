{
 "cells": [
  {
   "cell_type": "code",
   "execution_count": 3,
   "metadata": {
    "ExecuteTime": {
     "end_time": "2019-03-06T12:46:46.749643Z",
     "start_time": "2019-03-06T12:46:46.661189Z"
    }
   },
   "outputs": [],
   "source": [
    "import requests\n",
    "from pdf2image import convert_from_path\n",
    "import dill \n",
    "# dill.dump_session('pdf_downloader.db')\n",
    "dill.load_session('pdf_downloader.db')"
   ]
  },
  {
   "cell_type": "code",
   "execution_count": 83,
   "metadata": {
    "ExecuteTime": {
     "end_time": "2019-03-06T09:32:55.069268Z",
     "start_time": "2019-03-06T09:32:55.048539Z"
    }
   },
   "outputs": [],
   "source": [
    "total_P = [180, 168, 163, 145, 154, 182, 164, 183, 134, 131, 152, 183, 191, 172, 163, 166, 165, 142, 200, \n",
    "          374, 257, 193, 366, 258, 192, 232, 114, 177, 175, 129, 150, 145, 156, 180, 171, 210, 140, 151, 163, 161, \n",
    "          158, 258, 251, 171, 178, 196, 172, 184, 203, 177, 183, 180, 185, 156, 200, 205, 215, 260, 269]\n",
    "# len(total_P)\n",
    "urlC = []\n",
    "url = 'http://ceodelhi.gov.in/engdata/AC1/U05A1P1.pdf'\n",
    "for i in range(12, 71):\n",
    "    urlC.append(url[0:33]+str(i)+url[34:39]+str(i)+url[40:])\n",
    "# urlC\n"
   ]
  },
  {
   "cell_type": "code",
   "execution_count": 76,
   "metadata": {
    "ExecuteTime": {
     "end_time": "2019-03-06T09:31:02.621743Z",
     "start_time": "2019-03-06T09:31:02.615093Z"
    }
   },
   "outputs": [
    {
     "data": {
      "text/plain": [
       "'69P'"
      ]
     },
     "execution_count": 76,
     "metadata": {},
     "output_type": "execute_result"
    }
   ],
   "source": [
    "# url.index('AC1')\n",
    "urlC[57][40:43]\n",
    "# len(total_P)"
   ]
  },
  {
   "cell_type": "code",
   "execution_count": 69,
   "metadata": {
    "ExecuteTime": {
     "end_time": "2019-03-06T09:29:54.058224Z",
     "start_time": "2019-03-06T09:29:54.043328Z"
    }
   },
   "outputs": [],
   "source": [
    "# tdn = [f\"{i:03}\" for i in range(1, 197)]\n",
    "tdnC = []\n",
    "for i in total_P:\n",
    "    tdnC.append([f'{j}' for j in range(1, i+1)])\n",
    "# tdnC[57]"
   ]
  },
  {
   "cell_type": "code",
   "execution_count": 78,
   "metadata": {
    "ExecuteTime": {
     "end_time": "2019-03-06T09:31:33.576865Z",
     "start_time": "2019-03-06T09:31:33.572775Z"
    }
   },
   "outputs": [
    {
     "data": {
      "text/plain": [
       "'http://ceodelhi.gov.in/engdata/AC70/U05A70P269.pdf'"
      ]
     },
     "execution_count": 78,
     "metadata": {},
     "output_type": "execute_result"
    }
   ],
   "source": [
    "# len(tdnC[57])\n",
    "urlR\n",
    "\n",
    "# tdnC[55]"
   ]
  },
  {
   "cell_type": "code",
   "execution_count": 77,
   "metadata": {
    "ExecuteTime": {
     "end_time": "2019-03-06T09:31:31.026534Z",
     "start_time": "2019-03-06T09:31:30.998698Z"
    }
   },
   "outputs": [],
   "source": [
    "for j in range(len(total_P)):\n",
    "    for i in range(len(tdnC[j])):\n",
    "        urlR = urlC[j][0:40] + urlC[j][40:43] + tdnC[j][i] + \".pdf\"\n",
    "        r = requests.get(urlR, stream=True)\n",
    "        with open('/e_drive/MCA/Pyhton(Jupyter)/Data Analysis/PDFs_patparganj/'+urlC[j][36:43]+tdnC[j][i]+\".pdf\", 'wb') as f:\n",
    "            f.write(r.content)\n"
   ]
  },
  {
   "cell_type": "code",
   "execution_count": 1,
   "metadata": {
    "ExecuteTime": {
     "end_time": "2019-03-06T12:46:35.351393Z",
     "start_time": "2019-03-06T12:46:35.345017Z"
    }
   },
   "outputs": [],
   "source": [
    "\n",
    "# for i in range(304):\n",
    "#     urlR = url[0:41] + tdn[i] + \".pdf\"\n",
    "#     r = requests.get(urlR, stream=True)\n",
    "#     with open('/e_drive/MCA/Pyhton(Jupyter)/Data Analysis/PDFs_patparganj/'+url[35:41]+tdn[i]+\".pdf\", 'wb') as f:\n",
    "#         f.write(r.content)\n"
   ]
  },
  {
   "cell_type": "code",
   "execution_count": 9,
   "metadata": {
    "ExecuteTime": {
     "end_time": "2019-01-24T14:30:12.978811Z",
     "start_time": "2019-01-24T14:30:12.941457Z"
    }
   },
   "outputs": [
    {
     "data": {
      "text/plain": [
       "'http://ceodelhi.gov.in/engdata/AC57/U05A57P2.pdf'"
      ]
     },
     "execution_count": 9,
     "metadata": {},
     "output_type": "execute_result"
    }
   ],
   "source": [
    "# url.index(\"001\")\n",
    "# url[0:43]+tdn[195]\n",
    "# tdn[1]\n",
    "urlR = url[0:43] + tdn[1] + \".pdf\"\n",
    "urlR"
   ]
  },
  {
   "cell_type": "code",
   "execution_count": 5,
   "metadata": {
    "ExecuteTime": {
     "end_time": "2019-01-09T10:13:30.858781Z",
     "start_time": "2019-01-09T10:13:30.771211Z"
    }
   },
   "outputs": [],
   "source": [
    "# [f\"{i:03}\" for i in range(1, 121)]"
   ]
  },
  {
   "cell_type": "code",
   "execution_count": 18,
   "metadata": {
    "ExecuteTime": {
     "end_time": "2019-01-21T14:31:40.439453Z",
     "start_time": "2019-01-21T14:31:28.044811Z"
    }
   },
   "outputs": [
    {
     "data": {
      "text/plain": [
       "28"
      ]
     },
     "execution_count": 18,
     "metadata": {},
     "output_type": "execute_result"
    }
   ],
   "source": [
    "# from pdf2image import convert_from_path\n",
    "# pages = convert_from_path('/e_drive/MCA/Pyhton(Jupyter)/Data Analysis/PDFs_patparganj/'\n",
    "#                                   +url[36:43]+'1'+\".pdf\")\n",
    "# len(url[36:43]+'1'+\".pdf\")\n",
    "# len(pages)"
   ]
  },
  {
   "cell_type": "code",
   "execution_count": 2,
   "metadata": {
    "ExecuteTime": {
     "end_time": "2019-01-21T16:46:05.476140Z",
     "start_time": "2019-01-21T16:42:04.728956Z"
    }
   },
   "outputs": [
    {
     "ename": "IndexError",
     "evalue": "list index out of range",
     "output_type": "error",
     "traceback": [
      "\u001b[0;31m---------------------------------------------------------------------------\u001b[0m",
      "\u001b[0;31mIndexError\u001b[0m                                Traceback (most recent call last)",
      "\u001b[0;32m<ipython-input-2-2ac734ff475e>\u001b[0m in \u001b[0;36m<module>\u001b[0;34m\u001b[0m\n\u001b[1;32m      9\u001b[0m     \u001b[0;32mfor\u001b[0m \u001b[0mi\u001b[0m \u001b[0;32min\u001b[0m \u001b[0mrange\u001b[0m\u001b[0;34m(\u001b[0m\u001b[0mp\u001b[0m\u001b[0;34m,\u001b[0m \u001b[0ml\u001b[0m\u001b[0;34m+\u001b[0m\u001b[0;36m8\u001b[0m\u001b[0;34m)\u001b[0m\u001b[0;34m:\u001b[0m\u001b[0;34m\u001b[0m\u001b[0;34m\u001b[0m\u001b[0m\n\u001b[1;32m     10\u001b[0m         pages = convert_from_path('/e_drive/MCA/Pyhton(Jupyter)/Data Analysis/PDFs_patparganj/'\n\u001b[0;32m---> 11\u001b[0;31m                                   +url[36:43]+tdn[i]+\".pdf\")\n\u001b[0m\u001b[1;32m     12\u001b[0m         \u001b[0;32mfor\u001b[0m \u001b[0mpage\u001b[0m\u001b[0;34m,\u001b[0m\u001b[0mj\u001b[0m \u001b[0;32min\u001b[0m \u001b[0mzip\u001b[0m\u001b[0;34m(\u001b[0m\u001b[0mpages\u001b[0m\u001b[0;34m,\u001b[0m \u001b[0mrange\u001b[0m\u001b[0;34m(\u001b[0m\u001b[0;36m1\u001b[0m\u001b[0;34m,\u001b[0m\u001b[0mlen\u001b[0m\u001b[0;34m(\u001b[0m\u001b[0mpages\u001b[0m\u001b[0;34m)\u001b[0m\u001b[0;34m+\u001b[0m\u001b[0;36m1\u001b[0m\u001b[0;34m)\u001b[0m\u001b[0;34m)\u001b[0m\u001b[0;34m:\u001b[0m\u001b[0;34m\u001b[0m\u001b[0;34m\u001b[0m\u001b[0m\n\u001b[1;32m     13\u001b[0m             \u001b[0mpage\u001b[0m\u001b[0;34m.\u001b[0m\u001b[0msave\u001b[0m\u001b[0;34m(\u001b[0m\u001b[0;34m'/e_drive/MCA/Pyhton(Jupyter)/Data Analysis/PICS/'\u001b[0m\u001b[0;34m+\u001b[0m\u001b[0murl\u001b[0m\u001b[0;34m[\u001b[0m\u001b[0;36m36\u001b[0m\u001b[0;34m:\u001b[0m\u001b[0;36m43\u001b[0m\u001b[0;34m]\u001b[0m\u001b[0;34m+\u001b[0m\u001b[0mtdn\u001b[0m\u001b[0;34m[\u001b[0m\u001b[0mi\u001b[0m\u001b[0;34m]\u001b[0m\u001b[0;34m+\u001b[0m\u001b[0;34m\"_\"\u001b[0m\u001b[0;34m+\u001b[0m\u001b[0mstr\u001b[0m\u001b[0;34m(\u001b[0m\u001b[0mj\u001b[0m\u001b[0;34m)\u001b[0m\u001b[0;34m+\u001b[0m\u001b[0;34m'.jpeg'\u001b[0m\u001b[0;34m,\u001b[0m\u001b[0;34m'JPEG'\u001b[0m\u001b[0;34m)\u001b[0m\u001b[0;34m\u001b[0m\u001b[0;34m\u001b[0m\u001b[0m\n",
      "\u001b[0;31mIndexError\u001b[0m: list index out of range"
     ]
    }
   ],
   "source": [
    "p=187\n",
    "# q=30\n",
    "for q in range(188, 197):\n",
    "    \n",
    "    \n",
    "    l = p\n",
    "# #     l = q\n",
    "#     q = q+8\n",
    "    for i in range(p, l+8):\n",
    "        pages = convert_from_path('/e_drive/MCA/Pyhton(Jupyter)/Data Analysis/PDFs_patparganj/'\n",
    "                                  +url[36:43]+tdn[i]+\".pdf\")\n",
    "        for page,j in zip(pages, range(1,len(pages)+1)):\n",
    "            page.save('/e_drive/MCA/Pyhton(Jupyter)/Data Analysis/PICS/'+url[36:43]+tdn[i]+\"_\"+str(j)+'.jpeg','JPEG')\n",
    "    p = l+8"
   ]
  },
  {
   "cell_type": "code",
   "execution_count": 29,
   "metadata": {
    "ExecuteTime": {
     "end_time": "2019-01-09T07:46:41.146082Z",
     "start_time": "2019-01-09T07:46:41.020831Z"
    }
   },
   "outputs": [
    {
     "ename": "PDFPageCountError",
     "evalue": "Unable to get page count. I/O Error: Couldn't open file '/e_drive/MCA/Pyhton(Jupyter)/Data Analysis/PDFs_patparganj/AC0570001.pdf': No such file or directory.\n",
     "output_type": "error",
     "traceback": [
      "\u001b[0;31m---------------------------------------------------------------------------\u001b[0m",
      "\u001b[0;31mAttributeError\u001b[0m                            Traceback (most recent call last)",
      "\u001b[0;32m~/anaconda3/lib/python3.7/site-packages/pdf2image/pdf2image.py\u001b[0m in \u001b[0;36m_page_count\u001b[0;34m(pdf_path, userpw)\u001b[0m\n\u001b[1;32m    188\u001b[0m         \u001b[0;31m# This will throw if we are unable to get page count\u001b[0m\u001b[0;34m\u001b[0m\u001b[0;34m\u001b[0m\u001b[0;34m\u001b[0m\u001b[0m\n\u001b[0;32m--> 189\u001b[0;31m         \u001b[0;32mreturn\u001b[0m \u001b[0mint\u001b[0m\u001b[0;34m(\u001b[0m\u001b[0mre\u001b[0m\u001b[0;34m.\u001b[0m\u001b[0msearch\u001b[0m\u001b[0;34m(\u001b[0m\u001b[0;34mr'Pages:\\s+(\\d+)'\u001b[0m\u001b[0;34m,\u001b[0m \u001b[0mout\u001b[0m\u001b[0;34m.\u001b[0m\u001b[0mdecode\u001b[0m\u001b[0;34m(\u001b[0m\u001b[0;34m\"utf8\"\u001b[0m\u001b[0;34m,\u001b[0m \u001b[0;34m\"ignore\"\u001b[0m\u001b[0;34m)\u001b[0m\u001b[0;34m)\u001b[0m\u001b[0;34m.\u001b[0m\u001b[0mgroup\u001b[0m\u001b[0;34m(\u001b[0m\u001b[0;36m1\u001b[0m\u001b[0;34m)\u001b[0m\u001b[0;34m)\u001b[0m\u001b[0;34m\u001b[0m\u001b[0;34m\u001b[0m\u001b[0m\n\u001b[0m\u001b[1;32m    190\u001b[0m     \u001b[0;32mexcept\u001b[0m\u001b[0;34m:\u001b[0m\u001b[0;34m\u001b[0m\u001b[0;34m\u001b[0m\u001b[0m\n",
      "\u001b[0;31mAttributeError\u001b[0m: 'NoneType' object has no attribute 'group'",
      "\nDuring handling of the above exception, another exception occurred:\n",
      "\u001b[0;31mPDFPageCountError\u001b[0m                         Traceback (most recent call last)",
      "\u001b[0;32m<ipython-input-29-682fa48adecb>\u001b[0m in \u001b[0;36m<module>\u001b[0;34m\u001b[0m\n\u001b[1;32m      8\u001b[0m \u001b[0;32mwith\u001b[0m \u001b[0mtempfile\u001b[0m\u001b[0;34m.\u001b[0m\u001b[0mTemporaryDirectory\u001b[0m\u001b[0;34m(\u001b[0m\u001b[0;34m)\u001b[0m \u001b[0;32mas\u001b[0m \u001b[0mpath\u001b[0m\u001b[0;34m:\u001b[0m\u001b[0;34m\u001b[0m\u001b[0;34m\u001b[0m\u001b[0m\n\u001b[1;32m      9\u001b[0m      images_from_path = convert_from_path(filename, output_folder='/e_drive/MCA/Pyhton(Jupyter)/Data Analysis/PDFs_patparganj/'\n\u001b[0;32m---> 10\u001b[0;31m                                     , last_page=27, first_page =1)\n\u001b[0m\u001b[1;32m     11\u001b[0m \u001b[0;31m# for i in range(27):\u001b[0m\u001b[0;34m\u001b[0m\u001b[0;34m\u001b[0m\u001b[0;34m\u001b[0m\u001b[0m\n\u001b[1;32m     12\u001b[0m \u001b[0mbase_filename\u001b[0m  \u001b[0;34m=\u001b[0m  \u001b[0mos\u001b[0m\u001b[0;34m.\u001b[0m\u001b[0mpath\u001b[0m\u001b[0;34m.\u001b[0m\u001b[0msplitext\u001b[0m\u001b[0;34m(\u001b[0m\u001b[0mos\u001b[0m\u001b[0;34m.\u001b[0m\u001b[0mpath\u001b[0m\u001b[0;34m.\u001b[0m\u001b[0mbasename\u001b[0m\u001b[0;34m(\u001b[0m\u001b[0mfilename\u001b[0m\u001b[0;34m)\u001b[0m\u001b[0;34m)\u001b[0m\u001b[0;34m[\u001b[0m\u001b[0;36m0\u001b[0m\u001b[0;34m]\u001b[0m\u001b[0;34m+\u001b[0m\u001b[0;34m'.jpg'\u001b[0m\u001b[0;34m\u001b[0m\u001b[0;34m\u001b[0m\u001b[0m\n",
      "\u001b[0;32m~/anaconda3/lib/python3.7/site-packages/pdf2image/pdf2image.py\u001b[0m in \u001b[0;36mconvert_from_path\u001b[0;34m(pdf_path, dpi, output_folder, first_page, last_page, fmt, thread_count, userpw, use_cropbox, strict, transparent, output_file)\u001b[0m\n\u001b[1;32m     44\u001b[0m     \"\"\"\n\u001b[1;32m     45\u001b[0m \u001b[0;34m\u001b[0m\u001b[0m\n\u001b[0;32m---> 46\u001b[0;31m     \u001b[0mpage_count\u001b[0m \u001b[0;34m=\u001b[0m \u001b[0m_page_count\u001b[0m\u001b[0;34m(\u001b[0m\u001b[0mpdf_path\u001b[0m\u001b[0;34m,\u001b[0m \u001b[0muserpw\u001b[0m\u001b[0;34m)\u001b[0m\u001b[0;34m\u001b[0m\u001b[0;34m\u001b[0m\u001b[0m\n\u001b[0m\u001b[1;32m     47\u001b[0m \u001b[0;34m\u001b[0m\u001b[0m\n\u001b[1;32m     48\u001b[0m     \u001b[0;31m# We start by getting the output format, the buffer processing function and if we need pdftocairo\u001b[0m\u001b[0;34m\u001b[0m\u001b[0;34m\u001b[0m\u001b[0;34m\u001b[0m\u001b[0m\n",
      "\u001b[0;32m~/anaconda3/lib/python3.7/site-packages/pdf2image/pdf2image.py\u001b[0m in \u001b[0;36m_page_count\u001b[0;34m(pdf_path, userpw)\u001b[0m\n\u001b[1;32m    189\u001b[0m         \u001b[0;32mreturn\u001b[0m \u001b[0mint\u001b[0m\u001b[0;34m(\u001b[0m\u001b[0mre\u001b[0m\u001b[0;34m.\u001b[0m\u001b[0msearch\u001b[0m\u001b[0;34m(\u001b[0m\u001b[0;34mr'Pages:\\s+(\\d+)'\u001b[0m\u001b[0;34m,\u001b[0m \u001b[0mout\u001b[0m\u001b[0;34m.\u001b[0m\u001b[0mdecode\u001b[0m\u001b[0;34m(\u001b[0m\u001b[0;34m\"utf8\"\u001b[0m\u001b[0;34m,\u001b[0m \u001b[0;34m\"ignore\"\u001b[0m\u001b[0;34m)\u001b[0m\u001b[0;34m)\u001b[0m\u001b[0;34m.\u001b[0m\u001b[0mgroup\u001b[0m\u001b[0;34m(\u001b[0m\u001b[0;36m1\u001b[0m\u001b[0;34m)\u001b[0m\u001b[0;34m)\u001b[0m\u001b[0;34m\u001b[0m\u001b[0;34m\u001b[0m\u001b[0m\n\u001b[1;32m    190\u001b[0m     \u001b[0;32mexcept\u001b[0m\u001b[0;34m:\u001b[0m\u001b[0;34m\u001b[0m\u001b[0;34m\u001b[0m\u001b[0m\n\u001b[0;32m--> 191\u001b[0;31m         \u001b[0;32mraise\u001b[0m \u001b[0mPDFPageCountError\u001b[0m\u001b[0;34m(\u001b[0m\u001b[0;34m'Unable to get page count. %s'\u001b[0m \u001b[0;34m%\u001b[0m \u001b[0merr\u001b[0m\u001b[0;34m.\u001b[0m\u001b[0mdecode\u001b[0m\u001b[0;34m(\u001b[0m\u001b[0;34m\"utf8\"\u001b[0m\u001b[0;34m,\u001b[0m \u001b[0;34m\"ignore\"\u001b[0m\u001b[0;34m)\u001b[0m\u001b[0;34m)\u001b[0m\u001b[0;34m\u001b[0m\u001b[0;34m\u001b[0m\u001b[0m\n\u001b[0m\u001b[1;32m    192\u001b[0m \u001b[0;34m\u001b[0m\u001b[0m\n\u001b[1;32m    193\u001b[0m \u001b[0;32mdef\u001b[0m \u001b[0m_load_from_output_folder\u001b[0m\u001b[0;34m(\u001b[0m\u001b[0moutput_folder\u001b[0m\u001b[0;34m,\u001b[0m \u001b[0moutput_file\u001b[0m\u001b[0;34m,\u001b[0m \u001b[0min_memory\u001b[0m\u001b[0;34m=\u001b[0m\u001b[0;32mFalse\u001b[0m\u001b[0;34m)\u001b[0m\u001b[0;34m:\u001b[0m\u001b[0;34m\u001b[0m\u001b[0;34m\u001b[0m\u001b[0m\n",
      "\u001b[0;31mPDFPageCountError\u001b[0m: Unable to get page count. I/O Error: Couldn't open file '/e_drive/MCA/Pyhton(Jupyter)/Data Analysis/PDFs_patparganj/AC0570001.pdf': No such file or directory.\n"
     ]
    }
   ],
   "source": [
    "# import os\n",
    "# import tempfile\n",
    "# from pdf2image import convert_from_path\n",
    "# # for i in range(27):\n",
    "# filename = '/e_drive/MCA/Pyhton(Jupyter)/Data Analysis/PDFs_patparganj/'+url[36:42]+tdn[0]+\".pdf\"\n",
    "\n",
    "    \n",
    "# with tempfile.TemporaryDirectory() as path:\n",
    "#      images_from_path = convert_from_path(filename, output_folder='/e_drive/MCA/Pyhton(Jupyter)/Data Analysis/PDFs_patparganj/'\n",
    "#                                     , last_page=27, first_page =1)\n",
    "# # for i in range(27): \n",
    "# base_filename  =  os.path.splitext(os.path.basename(filename))[0]+'.jpg'    \n",
    "\n",
    "# save_dir = '/e_drive/MCA/Pyhton(Jupyter)/Data Analysis/'\n",
    " \n",
    "# for page in images_from_path:\n",
    "#     page.save(os.path.join(save_dir, base_filename), 'JPEG')"
   ]
  }
 ],
 "metadata": {
  "kernelspec": {
   "display_name": "Python 3",
   "language": "python",
   "name": "python3"
  },
  "language_info": {
   "codemirror_mode": {
    "name": "ipython",
    "version": 3
   },
   "file_extension": ".py",
   "mimetype": "text/x-python",
   "name": "python",
   "nbconvert_exporter": "python",
   "pygments_lexer": "ipython3",
   "version": "3.7.2"
  }
 },
 "nbformat": 4,
 "nbformat_minor": 2
}
