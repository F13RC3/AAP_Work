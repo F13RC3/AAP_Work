{
 "cells": [
  {
   "cell_type": "code",
   "execution_count": 6,
   "metadata": {},
   "outputs": [],
   "source": [
    "import numpy as np\n",
    "from matplotlib import pyplot as plt"
   ]
  },
  {
   "cell_type": "code",
   "execution_count": 20,
   "metadata": {},
   "outputs": [
    {
     "name": "stdout",
     "output_type": "stream",
     "text": [
      "Cost = 2.25\n"
     ]
    }
   ],
   "source": [
    "J = 0\n",
    "\n",
    "def sumSquareError(x,y,theta):\n",
    "    predictions = x*theta\n",
    "    sqrErrors = (predictions - y)**2\n",
    "    return sqrErrors\n",
    "    \n",
    "\n",
    "x = np.array([1, 2, 3])\n",
    "y = np.array([1, 2.5, 3.5])\n",
    "theta = np.array([0.5, 1, 1.5])\n",
    "total = 0\n",
    "m=len(y)\n",
    "\n",
    "for i in range(len(theta)):\n",
    "    total += sumSquareError(x[i], y[i], theta[i])\n",
    "\n",
    "J = (1/2*m)*total\n",
    "print(\"Cost = \"+str(J))"
   ]
  },
  {
   "cell_type": "code",
   "execution_count": 21,
   "metadata": {},
   "outputs": [
    {
     "data": {
      "text/plain": [
       "[<matplotlib.lines.Line2D at 0x1f681b93f28>]"
      ]
     },
     "execution_count": 21,
     "metadata": {},
     "output_type": "execute_result"
    },
    {
     "data": {
      "image/png": "[encoded data removed]",
      "text/plain": [
       "<Figure size 432x288 with 1 Axes>"
      ]
     },
     "metadata": {},
     "output_type": "display_data"
    }
   ],
   "source": [
    "plt.plot(x,y,'r')"
   ]
  }
 ],
 "metadata": {
  "kernelspec": {
   "display_name": "Python 3",
   "language": "python",
   "name": "python3"
  },
  "language_info": {
   "codemirror_mode": {
    "name": "ipython",
    "version": 3
   },
   "file_extension": ".py",
   "mimetype": "text/x-python",
   "name": "python",
   "nbconvert_exporter": "python",
   "pygments_lexer": "ipython3",
   "version": "3.6.5"
  }
 },
 "nbformat": 4,
 "nbformat_minor": 2
}
