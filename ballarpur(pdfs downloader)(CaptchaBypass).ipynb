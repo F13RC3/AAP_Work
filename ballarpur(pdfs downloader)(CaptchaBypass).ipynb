{
 "cells": [
  {
   "cell_type": "code",
   "execution_count": 6,
   "metadata": {},
   "outputs": [],
   "source": [
    "#!/usr/bin/env python\n",
    "\n",
    "from selenium import webdriver\n",
    "import time\n",
    "from selenium.webdriver.support.ui import Select\n",
    "import urllib\n",
    "import requests\n",
    "from selenium.webdriver import ActionChains\n",
    "import pytesseract\n",
    "from PIL import Image, ImageEnhance, ImageFilter\n",
    "import PIL\n",
    "from selenium.webdriver.common.keys import Keys\n",
    "import pytesseract\n",
    "import base64\n",
    "from bs4 import BeautifulSoup\n",
    "from selenium import webdriver\n",
    "import csv\n",
    "import pandas as pd\n",
    "import cv2\n",
    "import numpy as np\n",
    "import io\n",
    "import os"
   ]
  },
  {
   "cell_type": "code",
   "execution_count": 7,
   "metadata": {},
   "outputs": [],
   "source": [
    "browser = webdriver.Firefox(executable_path=r'/usr/bin/geckodriver')\n",
    "browser.get('https://ceo.maharashtra.gov.in/SearchList/')\n",
    "webdriver.DesiredCapabilities.FIREFOX[\"unexpectedAlertBehaviour\"] = \"accept\"\n",
    "#..."
   ]
  },
  {
   "cell_type": "code",
   "execution_count": 8,
   "metadata": {},
   "outputs": [],
   "source": [
    "# drop down menu selection\n",
    "# selection of district\n",
    "time.sleep(2)\n",
    "elm3 =browser.find_element_by_id('Content_DistrictList')\n",
    "drp1 = Select(elm3)\n",
    "drp1.select_by_index(8)\n",
    "# selection of assembly constituency\n",
    "time.sleep(2)\n",
    "elm4 =browser.find_element_by_id('Content_AssemblyList')\n",
    "drp2 = Select(elm4)\n",
    "drp2.select_by_index(3)"
   ]
  },
  {
   "cell_type": "code",
   "execution_count": 9,
   "metadata": {},
   "outputs": [],
   "source": [
    "# selection of part\n",
    "time.sleep(2)\n",
    "elm4 =browser.find_element_by_id('Content_PartList')\n",
    "drp2 = Select(elm4)\n",
    "drp2.select_by_index(1)"
   ]
  },
  {
   "cell_type": "code",
   "execution_count": 10,
   "metadata": {},
   "outputs": [],
   "source": [
    "def captchaReader():\n",
    "    time.sleep(2)\n",
    "    with open('filename.png', 'wb') as file:\n",
    "        file.write(browser.find_element_by_xpath('/html/body/form/div[3]/article/table/tbody/tr[4]/td[2]/img').screenshot_as_png)\n",
    "\n",
    "    img = Image.open('filename.png').convert('L')\n",
    "    retval, img = cv2.threshold(np.array(img),200,255, cv2.THRESH_BINARY)\n",
    "    img = cv2.resize(img,(0,0),fx=3,fy=3)\n",
    "    img = cv2.GaussianBlur(img,(11,11),0)\n",
    "    img = cv2.medianBlur(img,9)\n",
    "    # cv2.imshow('asd',img)\n",
    "    # cv2.waitKey(0)\n",
    "    # cv2.destroyAllWindows()\n",
    "    txt = pytesseract.image_to_string(img, config=\"--psm 13 --oem 3 -c tessedit_char_blacklist=(/?.,\\-*+^~[]{}|:;><!)\")\n",
    "    print('recognition:', txt)\n",
    "    return txt"
   ]
  },
  {
   "cell_type": "code",
   "execution_count": 37,
   "metadata": {
    "scrolled": false
   },
   "outputs": [
    {
     "name": "stdout",
     "output_type": "stream",
     "text": [
      "recognition: vagKK\n",
      "recognition: F9@WFkM\n",
      "done:  308\n",
      "recognition: FdwKzB\n",
      "done:  309\n",
      "recognition: SkHyVa\n",
      "done:  310\n",
      "recognition: CRzudJ\n",
      "done:  311\n",
      "recognition: uhhnex\n",
      "done:  312\n",
      "recognition: AZHPMV\n",
      "recognition: UrdKQZ\n",
      "done:  313\n"
     ]
    }
   ],
   "source": [
    "# selection of part\n",
    "i = 308\n",
    "while i < 314:\n",
    "    try:\n",
    "        time.sleep(5)\n",
    "        elm4 =browser.find_element_by_id('Content_PartList')\n",
    "        drp2 = Select(elm4)\n",
    "        drp2.select_by_index(i)\n",
    "\n",
    "        # Solving captcha\n",
    "        txt = captchaReader()\n",
    "\n",
    "        inputElement = browser.find_element_by_id('Content_txtcaptcha')\n",
    "        inputElement.clear()\n",
    "        inputElement.send_keys(txt)\n",
    "\n",
    "        # clicking on the openpdf button\n",
    "        time.sleep(3)\n",
    "        openpdf = browser.find_element_by_id('Content_OpenButton')\n",
    "        openpdf.click()\n",
    "\n",
    "#         except: \n",
    "    #         selenium.webdriver.DesiredCapabilities.FIREFOX[\"unexpectedAlertBehaviour\"] = \"accept\"\n",
    "#         browser.switch_to.alert.accept()\n",
    "#         time.sleep(2)\n",
    "#         continue\n",
    "\n",
    "\n",
    "\n",
    "\n",
    "        #clicking on the view pdf button\n",
    "        time.sleep(5)\n",
    "        search = browser.find_element_by_id('Content_gvRollPDF_MRollLink_0')\n",
    "        search.click()\n",
    "\n",
    "        # performing download of pdf files\n",
    "\n",
    "        time.sleep(15)\n",
    "        browser.switch_to.window(browser.window_handles[1])\n",
    "        download = browser.find_element_by_id('download')\n",
    "        download.click()\n",
    "        time.sleep(5)\n",
    "        browser.close()\n",
    "        browser.switch_to.window(browser.window_handles[0])\n",
    "\n",
    "        print('done: ', i)\n",
    "    except:\n",
    "        continue\n",
    "    i+=1"
   ]
  },
  {
   "cell_type": "code",
   "execution_count": 11,
   "metadata": {},
   "outputs": [],
   "source": [
    "select = Select(browser.find_element_by_id('Content_PartList'))\n",
    "names = []\n",
    "# for i in range(1,386):\n",
    "#     names.append(select.select_by_value(str(i)))\n",
    "# select.\n",
    "options = select.options\n",
    "for name in options[1:]:\n",
    "    names.append(name.text)\n",
    "# options[1].text"
   ]
  },
  {
   "cell_type": "code",
   "execution_count": 41,
   "metadata": {},
   "outputs": [
    {
     "data": {
      "text/plain": [
       "'309 - Pimpari Dixit'"
      ]
     },
     "execution_count": 41,
     "metadata": {},
     "output_type": "execute_result"
    }
   ],
   "source": [
    "# new_file+='.pdf'\n",
    "# new_file\n",
    "# document(365)\n",
    "names[308].replace('/',\" \")\n",
    "# 313-10"
   ]
  },
  {
   "cell_type": "code",
   "execution_count": 39,
   "metadata": {},
   "outputs": [],
   "source": [
    "old_file = os.path.join(\"/f_drive/Pdf of Constituencies/ballarpur/\", 'document.pdf')\n",
    "new_file = os.path.join(\"/f_drive/Pdf of Constituencies/ballarpur/\", names[307].replace('/',\" \")+'.pdf')\n",
    "#     new_file+='.pdf'\n",
    "os.rename(old_file, new_file)\n",
    "\n",
    "# [filename for filename in os.listdir('/f_drive/Pdf of Constituencies/ballarpur/') if filename.startswith(\"300\")][0]\n",
    "# prefixed"
   ]
  },
  {
   "cell_type": "code",
   "execution_count": 42,
   "metadata": {},
   "outputs": [
    {
     "ename": "FileNotFoundError",
     "evalue": "[Errno 2] No such file or directory: '/f_drive/Pdf of Constituencies/ballarpur/document(6).pdf' -> '/f_drive/Pdf of Constituencies/ballarpur/314 - Navegav Bhujala.pdf'",
     "output_type": "error",
     "traceback": [
      "\u001b[0;31m---------------------------------------------------------------------------\u001b[0m",
      "\u001b[0;31mFileNotFoundError\u001b[0m                         Traceback (most recent call last)",
      "\u001b[0;32m<ipython-input-42-99e3596efe66>\u001b[0m in \u001b[0;36m<module>\u001b[0;34m\u001b[0m\n\u001b[1;32m      5\u001b[0m     \u001b[0mnew_file\u001b[0m \u001b[0;34m=\u001b[0m \u001b[0mos\u001b[0m\u001b[0;34m.\u001b[0m\u001b[0mpath\u001b[0m\u001b[0;34m.\u001b[0m\u001b[0mjoin\u001b[0m\u001b[0;34m(\u001b[0m\u001b[0;34m\"/f_drive/Pdf of Constituencies/ballarpur/\"\u001b[0m\u001b[0;34m,\u001b[0m \u001b[0mnames\u001b[0m\u001b[0;34m[\u001b[0m\u001b[0mi\u001b[0m\u001b[0;34m]\u001b[0m\u001b[0;34m.\u001b[0m\u001b[0mreplace\u001b[0m\u001b[0;34m(\u001b[0m\u001b[0;34m'/'\u001b[0m\u001b[0;34m,\u001b[0m\u001b[0;34m\" \"\u001b[0m\u001b[0;34m)\u001b[0m\u001b[0;34m+\u001b[0m\u001b[0;34m'.pdf'\u001b[0m\u001b[0;34m)\u001b[0m\u001b[0;34m\u001b[0m\u001b[0;34m\u001b[0m\u001b[0m\n\u001b[1;32m      6\u001b[0m \u001b[0;31m#     new_file+='.pdf'\u001b[0m\u001b[0;34m\u001b[0m\u001b[0;34m\u001b[0m\u001b[0;34m\u001b[0m\u001b[0m\n\u001b[0;32m----> 7\u001b[0;31m     \u001b[0mos\u001b[0m\u001b[0;34m.\u001b[0m\u001b[0mrename\u001b[0m\u001b[0;34m(\u001b[0m\u001b[0mold_file\u001b[0m\u001b[0;34m,\u001b[0m \u001b[0mnew_file\u001b[0m\u001b[0;34m)\u001b[0m\u001b[0;34m\u001b[0m\u001b[0;34m\u001b[0m\u001b[0m\n\u001b[0m",
      "\u001b[0;31mFileNotFoundError\u001b[0m: [Errno 2] No such file or directory: '/f_drive/Pdf of Constituencies/ballarpur/document(6).pdf' -> '/f_drive/Pdf of Constituencies/ballarpur/314 - Navegav Bhujala.pdf'"
     ]
    }
   ],
   "source": [
    "# names\n",
    "\n",
    "for i in range(308, 314):\n",
    "    old_file = os.path.join(\"/f_drive/Pdf of Constituencies/ballarpur/\", 'document('+str(i-307)+').pdf')\n",
    "    new_file = os.path.join(\"/f_drive/Pdf of Constituencies/ballarpur/\", names[i].replace('/',\" \")+'.pdf')\n",
    "#     new_file+='.pdf'\n",
    "    os.rename(old_file, new_file)"
   ]
  },
  {
   "cell_type": "code",
   "execution_count": 15,
   "metadata": {},
   "outputs": [
    {
     "name": "stdout",
     "output_type": "stream",
     "text": [
      "recognition: #A2F’Xf\n"
     ]
    },
    {
     "data": {
      "text/plain": [
       "'#A2F’Xf'"
      ]
     },
     "execution_count": 15,
     "metadata": {},
     "output_type": "execute_result"
    }
   ],
   "source": [
    "txt = captchaReader()\n",
    "txt\n",
    "# 198-202"
   ]
  },
  {
   "cell_type": "code",
   "execution_count": 210,
   "metadata": {},
   "outputs": [],
   "source": [
    "time.sleep(3)\n",
    "search = browser.find_element_by_id('Content_gvRollPDF_MRollLink_0')\n",
    "search.click()\n"
   ]
  },
  {
   "cell_type": "code",
   "execution_count": 379,
   "metadata": {},
   "outputs": [
    {
     "name": "stdout",
     "output_type": "stream",
     "text": [
      "recognition: D#x23d\n"
     ]
    }
   ],
   "source": [
    "# actions = ActionChains(self.browser)      \n",
    "# actions.key_down(Keys.CONTROL).key_down(Keys.TAB).key_up(Keys.TAB).key_up(Keys.CONTROL).perform()\n",
    "img = Image.open('filename.png').convert('L')\n",
    "retval, img = cv2.threshold(np.array(img),200,255, cv2.THRESH_BINARY)\n",
    "img = cv2.resize(img,(0,0),fx=3,fy=3)\n",
    "img = cv2.GaussianBlur(img,(11,11),0)\n",
    "img = cv2.medianBlur(img,9)\n",
    "# cv2.imshow('asd',img)\n",
    "# cv2.waitKey(0)\n",
    "# cv2.destroyAllWindows()\n",
    "txt = pytesseract.image_to_string(img, lang = 'eng', config='--psm 12 --oem 3')\n",
    "print('recognition:', txt)"
   ]
  }
 ],
 "metadata": {
  "kernelspec": {
   "display_name": "Python 3",
   "language": "python",
   "name": "python3"
  },
  "language_info": {
   "codemirror_mode": {
    "name": "ipython",
    "version": 3
   },
   "file_extension": ".py",
   "mimetype": "text/x-python",
   "name": "python",
   "nbconvert_exporter": "python",
   "pygments_lexer": "ipython3",
   "version": "3.7.3"
  }
 },
 "nbformat": 4,
 "nbformat_minor": 2
}
