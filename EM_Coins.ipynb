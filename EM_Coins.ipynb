{
 "cells": [
  {
   "cell_type": "code",
   "execution_count": 10,
   "metadata": {},
   "outputs": [
    {
     "name": "stdout",
     "output_type": "stream",
     "text": [
      "Iteration 1  = Theta_A : 0.60  and Theta_B : 0.50 \n",
      "Iteration 2  = Theta_A : 0.71  and Theta_B : 0.58 \n",
      "Iteration 3  = Theta_A : 0.75  and Theta_B : 0.57 \n",
      "Iteration 4  = Theta_A : 0.77  and Theta_B : 0.55 \n",
      "Iteration 5  = Theta_A : 0.78  and Theta_B : 0.53 \n",
      "Iteration 6  = Theta_A : 0.79  and Theta_B : 0.53 \n",
      "Iteration 7  = Theta_A : 0.79  and Theta_B : 0.52 \n",
      "Iteration 8  = Theta_A : 0.80  and Theta_B : 0.52 \n",
      "Iteration 9  = Theta_A : 0.80  and Theta_B : 0.52 \n",
      "Iteration 10  = Theta_A : 0.80  and Theta_B : 0.52 \n"
     ]
    }
   ],
   "source": [
    "import numpy as np\n",
    "\n",
    "def coin_likelihood(rolls, theta):\n",
    "    heads_Count = rolls.count(\"H\")\n",
    "    total_flips = len(rolls)\n",
    "    return pow(theta, heads_Count) * pow(1-theta, total_flips-heads_Count)\n",
    "\n",
    "def E_step(rolls, theta_A, theta_B):\n",
    "    heads_A, tails_A = 0,0\n",
    "    heads_B, tails_B = 0,0\n",
    "    \n",
    "    for trial in rolls:\n",
    "        likelihood_A = coin_likelihood(trial, theta_A)\n",
    "        likelihood_B = coin_likelihood(trial, theta_B)\n",
    "\n",
    "        p_A = likelihood_A / (likelihood_A + likelihood_B)\n",
    "        p_B = likelihood_B / (likelihood_A + likelihood_B)\n",
    "        \n",
    "        heads_A += p_A*trial.count(\"H\")\n",
    "        tails_A += p_A*trial.count(\"T\")\n",
    "        \n",
    "        heads_B += p_B*trial.count(\"H\")\n",
    "        tails_B += p_B*trial.count(\"T\")\n",
    "    \n",
    "    return heads_A, tails_A, heads_B, tails_B\n",
    "\n",
    "def M_step(heads_A, tails_A, heads_B, tails_B):\n",
    "    \n",
    "    theta_A = heads_A / (heads_A+tails_A)\n",
    "    theta_B = heads_B / (heads_B+tails_B)\n",
    "    \n",
    "    return theta_A, theta_B\n",
    "\n",
    "def coins_em(rolls, theta_A, theta_B, max_iter):\n",
    "    for counts in range(max_iter):\n",
    "        print(\"Iteration %d  = Theta_A : %.2f  and Theta_B : %.2f \" %(counts+1, theta_A, theta_B))\n",
    "        heads_A, tails_A, heads_B, tails_B = E_step(rolls, theta_A, theta_B)\n",
    "        theta_A, theta_B = M_step(heads_A, tails_A, heads_B, tails_B)\n",
    "        \n",
    "rolls = [ \"HTTTHHTHTH\", \"HHHHTHHHHH\", \"HTHHHHHTHH\", \n",
    "          \"HTHTTTHHTT\", \"THHHTHHHTH\" ]\n",
    "coins_em(rolls, 0.6, 0.5, 10)"
   ]
  }
 ],
 "metadata": {
  "kernelspec": {
   "display_name": "Python 3",
   "language": "python",
   "name": "python3"
  },
  "language_info": {
   "codemirror_mode": {
    "name": "ipython",
    "version": 3
   },
   "file_extension": ".py",
   "mimetype": "text/x-python",
   "name": "python",
   "nbconvert_exporter": "python",
   "pygments_lexer": "ipython3",
   "version": "3.6.6"
  }
 },
 "nbformat": 4,
 "nbformat_minor": 2
}
