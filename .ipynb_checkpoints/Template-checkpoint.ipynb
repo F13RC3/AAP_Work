{
 "cells": [
  {
   "cell_type": "code",
   "execution_count": 12,
   "metadata": {},
   "outputs": [],
   "source": [
    "from string import Template"
   ]
  },
  {
   "cell_type": "code",
   "execution_count": 14,
   "metadata": {},
   "outputs": [
    {
     "name": "stdout",
     "output_type": "stream",
     "text": [
      "Cart : \n",
      "2 x Coke = 8\n",
      "4 x Cake = 12\n",
      "6 x Fish = 32\n",
      "Total = 52\n"
     ]
    }
   ],
   "source": [
    "class MyTemplate(Template):\n",
    "    delimiter = '#'         #To use # instead of $ in line 10[ t = MyTemplate(\"#qty x #item = #price\") ]\n",
    "\n",
    "def Main():\n",
    "    cart = []\n",
    "    cart.append(dict(item = \"Coke\", price = 8, qty = 2))\n",
    "    cart.append(dict(item = \"Cake\", price = 12, qty = 4))\n",
    "    cart.append(dict(item = \"Fish\", price = 32, qty = 6))\n",
    "    \n",
    "    t = MyTemplate(\"#qty x #item = #price\")\n",
    "    total = 0\n",
    "    print (\"Cart : \")\n",
    "    for data in cart:\n",
    "        print(t.substitute(data))\n",
    "        total += data[\"price\"]\n",
    "    print(\"Total = \" + str(total))\n",
    "\n",
    "    \n",
    "Main()"
   ]
  }
 ],
 "metadata": {
  "kernelspec": {
   "display_name": "Python 3",
   "language": "python",
   "name": "python3"
  },
  "language_info": {
   "codemirror_mode": {
    "name": "ipython",
    "version": 3
   },
   "file_extension": ".py",
   "mimetype": "text/x-python",
   "name": "python",
   "nbconvert_exporter": "python",
   "pygments_lexer": "ipython3",
   "version": "3.6.5"
  }
 },
 "nbformat": 4,
 "nbformat_minor": 2
}
