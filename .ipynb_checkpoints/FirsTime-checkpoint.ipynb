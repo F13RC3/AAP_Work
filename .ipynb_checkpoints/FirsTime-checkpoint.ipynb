{
 "cells": [
  {
   "cell_type": "code",
   "execution_count": 1,
   "metadata": {},
   "outputs": [
    {
     "name": "stdout",
     "output_type": "stream",
     "text": [
      "[[1 2 3]\n",
      " [4 5 6]\n",
      " [7 8 9]] \n",
      "\n",
      "[[-6.38888889e-01 -1.66666667e-01  3.05555556e-01]\n",
      " [-5.55555556e-02  1.38777878e-16  5.55555556e-02]\n",
      " [ 5.27777778e-01  1.66666667e-01 -1.94444444e-01]]\n"
     ]
    }
   ],
   "source": [
    "import numpy as np\n",
    "A=np.mat(\"1,2,3;4,5,6;7,8,9\")\n",
    "print(A,\"\\n\")\n",
    "inverse=np.linalg.pinv(A)\n",
    "print(inverse)"
   ]
  },
  {
   "cell_type": "code",
   "execution_count": 2,
   "metadata": {},
   "outputs": [
    {
     "name": "stdout",
     "output_type": "stream",
     "text": [
      "Time took by pyhton list :  29.55174446105957\n",
      "Time took by numpy array :  4.825592041015625\n"
     ]
    }
   ],
   "source": [
    "import numpy as np\n",
    "import time\n",
    "SIZE=100000\n",
    "a=range(SIZE)\n",
    "b=range(SIZE)\n",
    "ar=np.arange(SIZE)\n",
    "br=np.arange(SIZE)\n",
    "# Normal List\n",
    "start=time.time()\n",
    "result=[(x+y) for x,y in zip(a,b)]\n",
    "print(\"Time took by pyhton list : \",(time.time()-start)*1000)\n",
    "#print(result)\n",
    "\n",
    "# Numpy array\n",
    "start=time.time()\n",
    "result=ar+br\n",
    "print(\"Time took by numpy array : \",(time.time()-start)*1000)\n",
    "#print(result)"
   ]
  },
  {
   "cell_type": "code",
   "execution_count": 3,
   "metadata": {},
   "outputs": [
    {
     "name": "stdout",
     "output_type": "stream",
     "text": [
      "20\n",
      "80\n",
      "6\n"
     ]
    }
   ],
   "source": [
    "import numpy as np\n",
    "#fing size of array through numpy\n",
    "array=np.arange(20)\n",
    "print(array.size)\n",
    "print(array.itemsize*array.size)\n",
    "#finding Length or size of list\n",
    "a=[1,2,2,3,4,5]\n",
    "print(len(a))"
   ]
  }
 ],
 "metadata": {
  "kernelspec": {
   "display_name": "Python 3",
   "language": "python",
   "name": "python3"
  },
  "language_info": {
   "codemirror_mode": {
    "name": "ipython",
    "version": 3
   },
   "file_extension": ".py",
   "mimetype": "text/x-python",
   "name": "python",
   "nbconvert_exporter": "python",
   "pygments_lexer": "ipython3",
   "version": "3.6.5"
  }
 },
 "nbformat": 4,
 "nbformat_minor": 2
}
